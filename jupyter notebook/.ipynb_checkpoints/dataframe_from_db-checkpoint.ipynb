{
 "cells": [
  {
   "cell_type": "code",
   "execution_count": 10,
   "metadata": {
    "ExecuteTime": {
     "end_time": "2019-06-17T09:26:55.359511Z",
     "start_time": "2019-06-17T09:26:55.312608Z"
    }
   },
   "outputs": [],
   "source": [
    "import sqlite3\n",
    "import pandas as pd\n",
    "import datetime\n",
    "# Create the connection\n",
    "cnx = sqlite3.connect(r'C:/Users/smnoh/Desktop/works/database/newbit.db') # 각자 주소에 맞게 변경해주세요\n",
    "\n",
    "# create the dataframe from a query\n",
    "df = pd.read_sql_query(\"SELECT * FROM news\", cnx) "
   ]
  },
  {
   "cell_type": "markdown",
   "metadata": {},
   "source": [
    "## DB에서 DataFrame으로 변환"
   ]
  },
  {
   "cell_type": "code",
   "execution_count": 15,
   "metadata": {
    "ExecuteTime": {
     "end_time": "2019-06-17T09:27:46.613399Z",
     "start_time": "2019-06-17T09:27:46.603342Z"
    }
   },
   "outputs": [],
   "source": [
    "# 다음 컬럼을 String에서 다시 리스트로 변환해야 이미지 생성 프로세스 가능\n",
    "df['category'] = df['category'].apply(lambda x : x if x == '' else x.split(',')) # str에서 list로 변환\n",
    "df['tokenized_doc'] = df['tokenized_doc'].apply(lambda x : x.split(',')) # str에서 list로 변환\n",
    "df['tokenized_title'] = df['tokenized_title'].apply(lambda x : x.split(',')) # str에서 list로 변환\n",
    "df['date'] = df['date'].apply(lambda x : datetime.datetime.strptime(x,'%Y-%m-%d')) # str에서 datetime으로 변환"
   ]
  },
  {
   "cell_type": "code",
   "execution_count": 57,
   "metadata": {
    "ExecuteTime": {
     "end_time": "2019-06-17T09:57:52.214933Z",
     "start_time": "2019-06-17T09:57:52.210922Z"
    }
   },
   "outputs": [
    {
     "name": "stdout",
     "output_type": "stream",
     "text": [
      "df['date'][0].year: 2019\n",
      "df['date'][0].month: 6\n",
      "df['date'][0].day: 3\n",
      "True\n"
     ]
    }
   ],
   "source": [
    "# df['date'] 활용예\n",
    "print(f\"\"\"df['date'][0].year: {df['date'][0].year}\"\"\")\n",
    "print(f\"\"\"df['date'][0].month: {df['date'][0].month}\"\"\")\n",
    "print(f\"\"\"df['date'][0].day: {df['date'][0].day}\"\"\")\n",
    "print(df['date'][0] > df['date'][10])"
   ]
  },
  {
   "cell_type": "markdown",
   "metadata": {},
   "source": [
    "## 각자의 용도에 맞게 활용해 주세요"
   ]
  },
  {
   "cell_type": "code",
   "execution_count": null,
   "metadata": {},
   "outputs": [],
   "source": []
  }
 ],
 "metadata": {
  "kernelspec": {
   "display_name": "Python 3",
   "language": "python",
   "name": "python3"
  },
  "language_info": {
   "codemirror_mode": {
    "name": "ipython",
    "version": 3
   },
   "file_extension": ".py",
   "mimetype": "text/x-python",
   "name": "python",
   "nbconvert_exporter": "python",
   "pygments_lexer": "ipython3",
   "version": "3.6.5"
  },
  "toc": {
   "base_numbering": 1,
   "nav_menu": {},
   "number_sections": true,
   "sideBar": true,
   "skip_h1_title": false,
   "title_cell": "Table of Contents",
   "title_sidebar": "Contents",
   "toc_cell": false,
   "toc_position": {},
   "toc_section_display": true,
   "toc_window_display": false
  }
 },
 "nbformat": 4,
 "nbformat_minor": 2
}
