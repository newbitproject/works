{
 "cells": [
  {
   "cell_type": "code",
   "execution_count": 7,
   "metadata": {
    "ExecuteTime": {
     "end_time": "2019-05-21T06:36:08.668643Z",
     "start_time": "2019-05-21T06:36:08.664645Z"
    }
   },
   "outputs": [],
   "source": [
    "from sqlalchemy import create_engine\n",
    "import pandas as pd\n",
    "import pickle"
   ]
  },
  {
   "cell_type": "code",
   "execution_count": 8,
   "metadata": {
    "ExecuteTime": {
     "end_time": "2019-05-21T06:36:08.898511Z",
     "start_time": "2019-05-21T06:36:08.894515Z"
    }
   },
   "outputs": [],
   "source": [
    "import newsight"
   ]
  },
  {
   "cell_type": "code",
   "execution_count": 9,
   "metadata": {
    "ExecuteTime": {
     "end_time": "2019-05-21T06:36:09.562144Z",
     "start_time": "2019-05-21T06:36:09.330277Z"
    }
   },
   "outputs": [],
   "source": [
    "import newsight\n",
    "with open('tkdata_title_str_미래에셋대우.pickle', 'rb') as handle:\n",
    "    df = pickle.load(handle, encoding = 'utf-8-sig')"
   ]
  },
  {
   "cell_type": "code",
   "execution_count": 10,
   "metadata": {
    "ExecuteTime": {
     "end_time": "2019-05-21T06:36:13.335972Z",
     "start_time": "2019-05-21T06:36:13.325994Z"
    }
   },
   "outputs": [],
   "source": [
    "df['id'] = list(range(df.shape[0]))"
   ]
  },
  {
   "cell_type": "code",
   "execution_count": 11,
   "metadata": {
    "ExecuteTime": {
     "end_time": "2019-05-21T06:36:14.006588Z",
     "start_time": "2019-05-21T06:36:13.993607Z"
    }
   },
   "outputs": [
    {
     "data": {
      "text/html": [
       "<div>\n",
       "<style scoped>\n",
       "    .dataframe tbody tr th:only-of-type {\n",
       "        vertical-align: middle;\n",
       "    }\n",
       "\n",
       "    .dataframe tbody tr th {\n",
       "        vertical-align: top;\n",
       "    }\n",
       "\n",
       "    .dataframe thead th {\n",
       "        text-align: right;\n",
       "    }\n",
       "</style>\n",
       "<table border=\"1\" class=\"dataframe\">\n",
       "  <thead>\n",
       "    <tr style=\"text-align: right;\">\n",
       "      <th></th>\n",
       "      <th>date</th>\n",
       "      <th>title</th>\n",
       "      <th>content</th>\n",
       "      <th>category</th>\n",
       "      <th>date_tmp</th>\n",
       "      <th>tokenized_doc</th>\n",
       "      <th>tokenized_title</th>\n",
       "      <th>id</th>\n",
       "    </tr>\n",
       "  </thead>\n",
       "  <tbody>\n",
       "    <tr>\n",
       "      <th>0</th>\n",
       "      <td>2019-04-19</td>\n",
       "      <td>NH투자證 `선택과 집중` 통했다…펀드설정액, 증권사 1위에 올라</td>\n",
       "      <td>지난해 말 조직개편을 통해 펀드 판매에 승부수를 띄운 NH투자증권이 올해 들어 금융...</td>\n",
       "      <td>경제&gt;증권_증시,경제&gt;금융_재테크,경제&gt;유통</td>\n",
       "      <td>737168</td>\n",
       "      <td>조직개편,펀드,판매,승,부수,투자,증권,금융,권,가장,판매,증권사,펀드,설정액,증,...</td>\n",
       "      <td>투자,선택,집중,통,펀드설정액,증권사</td>\n",
       "      <td>0</td>\n",
       "    </tr>\n",
       "    <tr>\n",
       "      <th>1</th>\n",
       "      <td>2019-04-19</td>\n",
       "      <td>2차전지 기업들, 속속 '코스닥 입성' 채비</td>\n",
       "      <td>코윈테크, 8월 코스닥 상장 추진 \\n \\n \\n[ 이우상 기자 ] 2차전지 생산용...</td>\n",
       "      <td>경제&gt;산업_기업,경제&gt;증권_증시,경제&gt;금융_재테크</td>\n",
       "      <td>737168</td>\n",
       "      <td>코윈,테크,코스닥,상장,추진,차,전지,생산,용,설비,제조,기업인,코윈,테크,코스닥시...</td>\n",
       "      <td>차,전지,기업,코스닥,입성,채비</td>\n",
       "      <td>1</td>\n",
       "    </tr>\n",
       "    <tr>\n",
       "      <th>2</th>\n",
       "      <td>2019-04-19</td>\n",
       "      <td>증시 호조에 증권株 `훨훨`…2분기 실적도 `맑음`</td>\n",
       "      <td>올해 들어 증시가 호조를 보이면서 증권주들이 1분기 양호한 성적표를 받아들었다. 이...</td>\n",
       "      <td>경제&gt;증권_증시,경제&gt;금융_재테크,경제&gt;국제경제</td>\n",
       "      <td>737168</td>\n",
       "      <td>증시,호조,보이,증권주,양호,성적표,아들,었다,증권,실적,호조,전망,거래소,날,코스...</td>\n",
       "      <td>증시,호조,증권,훨훨,실적,맑음</td>\n",
       "      <td>2</td>\n",
       "    </tr>\n",
       "    <tr>\n",
       "      <th>3</th>\n",
       "      <td>2019-04-19</td>\n",
       "      <td>한화 LifePlus TDF 설정 1년, 4% 대 운용성과 달성</td>\n",
       "      <td>한화 라이프플러스 상장지수펀드(ETF)의 수익률이 설정 이후 양호한 수익률을 올리고...</td>\n",
       "      <td>경제&gt;금융_재테크,경제&gt;증권_증시,경제&gt;국제경제</td>\n",
       "      <td>737168</td>\n",
       "      <td>한화,라이프,플러스,장지수,펀드,수익률,설정,양호,수익률,한화,자산운용,운용,시작,...</td>\n",
       "      <td>한화,설정,운용,성과,달성</td>\n",
       "      <td>3</td>\n",
       "    </tr>\n",
       "    <tr>\n",
       "      <th>4</th>\n",
       "      <td>2019-04-19</td>\n",
       "      <td>미래에셋벤처투자의 사회적기업1호펀드, 72.4% 수익 올리고 청산돼</td>\n",
       "      <td>미래에셋벤처투자는 지난 2011년 42억원으로 결성했던 사회적기업1호펀드가 72.4...</td>\n",
       "      <td>경제&gt;산업_기업,경제&gt;증권_증시,경제&gt;국제경제</td>\n",
       "      <td>737168</td>\n",
       "      <td>벤처,투자,결성,사회적기업,호,펀드,수익,뒤,지난달,청산,사회적기업,호,펀드,사회적...</td>\n",
       "      <td>벤처,투자,사회적기업,호,펀드,수익,청산</td>\n",
       "      <td>4</td>\n",
       "    </tr>\n",
       "  </tbody>\n",
       "</table>\n",
       "</div>"
      ],
      "text/plain": [
       "         date                                  title  \\\n",
       "0  2019-04-19   NH투자證 `선택과 집중` 통했다…펀드설정액, 증권사 1위에 올라   \n",
       "1  2019-04-19               2차전지 기업들, 속속 '코스닥 입성' 채비   \n",
       "2  2019-04-19           증시 호조에 증권株 `훨훨`…2분기 실적도 `맑음`   \n",
       "3  2019-04-19    한화 LifePlus TDF 설정 1년, 4% 대 운용성과 달성   \n",
       "4  2019-04-19  미래에셋벤처투자의 사회적기업1호펀드, 72.4% 수익 올리고 청산돼   \n",
       "\n",
       "                                             content  \\\n",
       "0  지난해 말 조직개편을 통해 펀드 판매에 승부수를 띄운 NH투자증권이 올해 들어 금융...   \n",
       "1  코윈테크, 8월 코스닥 상장 추진 \\n \\n \\n[ 이우상 기자 ] 2차전지 생산용...   \n",
       "2  올해 들어 증시가 호조를 보이면서 증권주들이 1분기 양호한 성적표를 받아들었다. 이...   \n",
       "3  한화 라이프플러스 상장지수펀드(ETF)의 수익률이 설정 이후 양호한 수익률을 올리고...   \n",
       "4  미래에셋벤처투자는 지난 2011년 42억원으로 결성했던 사회적기업1호펀드가 72.4...   \n",
       "\n",
       "                      category  date_tmp  \\\n",
       "0     경제>증권_증시,경제>금융_재테크,경제>유통    737168   \n",
       "1  경제>산업_기업,경제>증권_증시,경제>금융_재테크    737168   \n",
       "2   경제>증권_증시,경제>금융_재테크,경제>국제경제    737168   \n",
       "3   경제>금융_재테크,경제>증권_증시,경제>국제경제    737168   \n",
       "4    경제>산업_기업,경제>증권_증시,경제>국제경제    737168   \n",
       "\n",
       "                                       tokenized_doc         tokenized_title  \\\n",
       "0  조직개편,펀드,판매,승,부수,투자,증권,금융,권,가장,판매,증권사,펀드,설정액,증,...    투자,선택,집중,통,펀드설정액,증권사   \n",
       "1  코윈,테크,코스닥,상장,추진,차,전지,생산,용,설비,제조,기업인,코윈,테크,코스닥시...       차,전지,기업,코스닥,입성,채비   \n",
       "2  증시,호조,보이,증권주,양호,성적표,아들,었다,증권,실적,호조,전망,거래소,날,코스...       증시,호조,증권,훨훨,실적,맑음   \n",
       "3  한화,라이프,플러스,장지수,펀드,수익률,설정,양호,수익률,한화,자산운용,운용,시작,...          한화,설정,운용,성과,달성   \n",
       "4  벤처,투자,결성,사회적기업,호,펀드,수익,뒤,지난달,청산,사회적기업,호,펀드,사회적...  벤처,투자,사회적기업,호,펀드,수익,청산   \n",
       "\n",
       "   id  \n",
       "0   0  \n",
       "1   1  \n",
       "2   2  \n",
       "3   3  \n",
       "4   4  "
      ]
     },
     "execution_count": 11,
     "metadata": {},
     "output_type": "execute_result"
    }
   ],
   "source": [
    "df.head()"
   ]
  },
  {
   "cell_type": "code",
   "execution_count": 12,
   "metadata": {
    "ExecuteTime": {
     "end_time": "2019-05-21T06:36:17.757478Z",
     "start_time": "2019-05-21T06:36:17.314693Z"
    }
   },
   "outputs": [],
   "source": [
    "engine = create_engine(\"mysql+pymysql://root:\"+\"dignekd2\"+\n",
    "                       \"@localhost:3307/project?charset=utf8\",encoding='utf-8')"
   ]
  },
  {
   "cell_type": "code",
   "execution_count": 13,
   "metadata": {
    "ExecuteTime": {
     "end_time": "2019-05-21T06:36:18.268166Z",
     "start_time": "2019-05-21T06:36:17.871384Z"
    }
   },
   "outputs": [],
   "source": [
    "conn = engine.connect()"
   ]
  },
  {
   "cell_type": "code",
   "execution_count": 14,
   "metadata": {
    "ExecuteTime": {
     "end_time": "2019-05-21T06:36:30.041424Z",
     "start_time": "2019-05-21T06:36:19.019718Z"
    }
   },
   "outputs": [],
   "source": [
    "df.to_sql(name='newsapp_mirae', con=engine, if_exists='append', index=False)"
   ]
  },
  {
   "cell_type": "code",
   "execution_count": 30,
   "metadata": {
    "ExecuteTime": {
     "end_time": "2019-05-21T05:06:54.729903Z",
     "start_time": "2019-05-21T05:06:54.725906Z"
    }
   },
   "outputs": [],
   "source": [
    "conn.close()"
   ]
  },
  {
   "cell_type": "code",
   "execution_count": 32,
   "metadata": {
    "ExecuteTime": {
     "end_time": "2019-05-21T05:07:16.942225Z",
     "start_time": "2019-05-21T05:07:15.144250Z"
    }
   },
   "outputs": [],
   "source": [
    "import pymysql\n",
    "db = pymysql.connect(host='localhost',port=3307,user='root',passwd='dignekd2',\n",
    "                    db = 'project', charset='utf8')\n",
    "\n",
    "cursor = db.cursor()\n",
    "\n",
    "sql = \"\"\"SELECT date, title, content, date_tmp, tokenized_doc FROM newsapp_mirae \"\"\"\n",
    "\n",
    "\n",
    "pls = cursor.execute(sql)\n",
    "result = cursor.fetchall()"
   ]
  },
  {
   "cell_type": "code",
   "execution_count": 33,
   "metadata": {
    "ExecuteTime": {
     "end_time": "2019-05-21T05:07:18.681246Z",
     "start_time": "2019-05-21T05:07:18.677235Z"
    }
   },
   "outputs": [
    {
     "data": {
      "text/plain": [
       "'조직개편,펀드,판매,승,부수,투자,증권,금융,권,가장,판매,증권사,펀드,설정액,증,가분,독차지,금융투자,협회,투자,증권,펀드,판매,설정액,뒤,투자,증권,하이,투자,증권,한국투자증권,증권,업계,펀드,증가,설정액,단일,증권사,해도,투자,증권,펀드,설정액,미래에셋대우,신한,금융투자,작년,조직개편,펀드,솔루션,부가,신설,리테일,사모펀드,판매,드라이브,걸,순위,단숨,위로,펀드,솔루션,사모펀드,시장,투자,증권,리테일,고객,펀드,판매,지원,사후,전담,부서,펀드,솔루션,부,사모펀드,관,리하,팀,특,화해,운영,여,사모펀드,수익률,평가,판매,펀드,사후관리,실시,박병철,투자,증권,펀드,솔루션,부,사모펀드,팀,펀드,기초자산,문제,원금,회수,방안,운용사,전략,신속,커뮤니케이션,고객,알리,방향,펀드,사후관리,펀드,솔루션,부의,지원,힘,리테일,판매,사모펀드,규모,조억,원가,량,플랫폼,파트너,스,출시,플랫폼,컨,인프라,전문,사모펀드,어치,판,매하,경쟁력,상품,소개,펀드,판매,특화된,투자,증권,강점,경쟁력,인,하우스,상품,제공,사모펀드,고객,층,사모펀드,주식,이나,채권,부동산,대체,투자가,각광,투자,증권,개척,부동산,딜,자체,사모펀드,출시,판매,고객,투자,만족,사업,부의,프로젝트,파이,낸싱,부와,협업,나인,원한,남,사모펀드,연,수익률,제공,중위,수익,상품,제공,잠실,타워,매입,출시,전문,투자,사모,부동산,펀드,삼성,타워,제약,노,보노,디스크,오피스,빌딩,매입,덴마크,노,보노,디스크,오피스,매입,펀드,가까이,투자,증권,앞,안정,성과,수익성,겸비,인,하우스,상품,성과,검증,자산운용,사모펀드,라인업,보여,고객,투자수익률,상품,공급'"
      ]
     },
     "execution_count": 33,
     "metadata": {},
     "output_type": "execute_result"
    }
   ],
   "source": [
    "result[0][4]"
   ]
  },
  {
   "cell_type": "code",
   "execution_count": 14,
   "metadata": {
    "ExecuteTime": {
     "end_time": "2019-05-18T16:18:04.280783Z",
     "start_time": "2019-05-18T16:18:04.276785Z"
    }
   },
   "outputs": [],
   "source": [
    "import os\n",
    "os.chdir(r'C:\\Users\\USER\\works\\project')"
   ]
  },
  {
   "cell_type": "code",
   "execution_count": 16,
   "metadata": {
    "ExecuteTime": {
     "end_time": "2019-05-18T16:18:29.870143Z",
     "start_time": "2019-05-18T16:18:29.865149Z"
    }
   },
   "outputs": [
    {
     "data": {
      "text/plain": [
       "'C:\\\\Users\\\\USER\\\\works\\\\project'"
      ]
     },
     "execution_count": 16,
     "metadata": {},
     "output_type": "execute_result"
    }
   ],
   "source": [
    "os.getcwd()"
   ]
  },
  {
   "cell_type": "code",
   "execution_count": null,
   "metadata": {},
   "outputs": [],
   "source": []
  }
 ],
 "metadata": {
  "kernelspec": {
   "display_name": "Python 3",
   "language": "python",
   "name": "python3"
  },
  "language_info": {
   "codemirror_mode": {
    "name": "ipython",
    "version": 3
   },
   "file_extension": ".py",
   "mimetype": "text/x-python",
   "name": "python",
   "nbconvert_exporter": "python",
   "pygments_lexer": "ipython3",
   "version": "3.6.5"
  },
  "toc": {
   "base_numbering": 1,
   "nav_menu": {},
   "number_sections": true,
   "sideBar": true,
   "skip_h1_title": false,
   "title_cell": "Table of Contents",
   "title_sidebar": "Contents",
   "toc_cell": false,
   "toc_position": {},
   "toc_section_display": true,
   "toc_window_display": false
  },
  "varInspector": {
   "cols": {
    "lenName": 16,
    "lenType": 16,
    "lenVar": 40
   },
   "kernels_config": {
    "python": {
     "delete_cmd_postfix": "",
     "delete_cmd_prefix": "del ",
     "library": "var_list.py",
     "varRefreshCmd": "print(var_dic_list())"
    },
    "r": {
     "delete_cmd_postfix": ") ",
     "delete_cmd_prefix": "rm(",
     "library": "var_list.r",
     "varRefreshCmd": "cat(var_dic_list()) "
    }
   },
   "types_to_exclude": [
    "module",
    "function",
    "builtin_function_or_method",
    "instance",
    "_Feature"
   ],
   "window_display": false
  }
 },
 "nbformat": 4,
 "nbformat_minor": 2
}
