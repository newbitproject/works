{
 "cells": [
  {
   "cell_type": "markdown",
   "metadata": {
    "toc": true
   },
   "source": [
    "<h1>Table of Contents<span class=\"tocSkip\"></span></h1>\n",
    "<div class=\"toc\"><ul class=\"toc-item\"><li><span><a href=\"#데이터-Tokenize-Process\" data-toc-modified-id=\"데이터-Tokenize-Process-1\"><span class=\"toc-item-num\">1&nbsp;&nbsp;</span>데이터 Tokenize Process</a></span><ul class=\"toc-item\"><li><span><a href=\"#검색어-입력\" data-toc-modified-id=\"검색어-입력-1.1\"><span class=\"toc-item-num\">1.1&nbsp;&nbsp;</span>검색어 입력</a></span></li><li><span><a href=\"#데이터-불러오기(raw-data)\" data-toc-modified-id=\"데이터-불러오기(raw-data)-1.2\"><span class=\"toc-item-num\">1.2&nbsp;&nbsp;</span>데이터 불러오기(raw data)</a></span></li><li><span><a href=\"#전처리-(기사-분문)\" data-toc-modified-id=\"전처리-(기사-분문)-1.3\"><span class=\"toc-item-num\">1.3&nbsp;&nbsp;</span>전처리 (기사 분문)</a></span></li><li><span><a href=\"#전처리-(기사-제목)\" data-toc-modified-id=\"전처리-(기사-제목)-1.4\"><span class=\"toc-item-num\">1.4&nbsp;&nbsp;</span>전처리 (기사 제목)</a></span></li><li><span><a href=\"#전처리된-데이터-저장\" data-toc-modified-id=\"전처리된-데이터-저장-1.5\"><span class=\"toc-item-num\">1.5&nbsp;&nbsp;</span>전처리된 데이터 저장</a></span></li></ul></li><li><span><a href=\"#Category-및-Topic-할당\" data-toc-modified-id=\"Category-및-Topic-할당-2\"><span class=\"toc-item-num\">2&nbsp;&nbsp;</span>Category 및 Topic 할당</a></span><ul class=\"toc-item\"><li><span><a href=\"#유효문서-추출\" data-toc-modified-id=\"유효문서-추출-2.1\"><span class=\"toc-item-num\">2.1&nbsp;&nbsp;</span>유효문서 추출</a></span><ul class=\"toc-item\"><li><span><a href=\"#유효문서-추출-A\" data-toc-modified-id=\"유효문서-추출-A-2.1.1\"><span class=\"toc-item-num\">2.1.1&nbsp;&nbsp;</span>유효문서 추출 A</a></span></li><li><span><a href=\"#유효문서-추출-B\" data-toc-modified-id=\"유효문서-추출-B-2.1.2\"><span class=\"toc-item-num\">2.1.2&nbsp;&nbsp;</span>유효문서 추출 B</a></span></li></ul></li><li><span><a href=\"#문서별-카테고리-할당\" data-toc-modified-id=\"문서별-카테고리-할당-2.2\"><span class=\"toc-item-num\">2.2&nbsp;&nbsp;</span>문서별 카테고리 할당</a></span></li><li><span><a href=\"#카테고리-별-토픽-할당\" data-toc-modified-id=\"카테고리-별-토픽-할당-2.3\"><span class=\"toc-item-num\">2.3&nbsp;&nbsp;</span>카테고리 별 토픽 할당</a></span></li><li><span><a href=\"#토픽-별-대표기사-추출\" data-toc-modified-id=\"토픽-별-대표기사-추출-2.4\"><span class=\"toc-item-num\">2.4&nbsp;&nbsp;</span>토픽 별 대표기사 추출</a></span></li></ul></li><li><span><a href=\"#sqlite에-저장\" data-toc-modified-id=\"sqlite에-저장-3\"><span class=\"toc-item-num\">3&nbsp;&nbsp;</span>sqlite에 저장</a></span></li><li><span><a href=\"#그외-필요한-코드\" data-toc-modified-id=\"그외-필요한-코드-4\"><span class=\"toc-item-num\">4&nbsp;&nbsp;</span>그외 필요한 코드</a></span></li></ul></div>"
   ]
  },
  {
   "cell_type": "code",
   "execution_count": 1,
   "metadata": {
    "ExecuteTime": {
     "end_time": "2019-06-17T03:36:14.609005Z",
     "start_time": "2019-06-17T03:36:04.856513Z"
    }
   },
   "outputs": [],
   "source": [
    "import modules.newsight as ns \n",
    "\n",
    "# file I/O\n",
    "import pickle\n",
    "import pandas as pd\n",
    "\n",
    "import time # check excution time\n",
    "\n",
    "# 경고 메시지 숨기기\n",
    "import warnings\n",
    "warnings.filterwarnings(\"ignore\")"
   ]
  },
  {
   "cell_type": "markdown",
   "metadata": {
    "toc": true
   },
   "source": [
    "<h1>Table of Contents<span class=\"tocSkip\"></span></h1>\n",
    "<div class=\"toc\"><ul class=\"toc-item\"><li><span><a href=\"#처리-단계-명세\" data-toc-modified-id=\"처리-단계-명세-1\"><span class=\"toc-item-num\">1&nbsp;&nbsp;</span>처리 단계 명세</a></span></li></ul></div>"
   ]
  },
  {
   "cell_type": "markdown",
   "metadata": {},
   "source": [
    "처리 단계 명세\n",
    "\n",
    "**DB** <font color='red'>전처리(토큰화)</font>  \n",
    "\n",
    "1. **검색어 입력**\n",
    "2. **데이터 불러오기**(raw data)   \n",
    "1. **전처리**  \n",
    "    1.1. 특수문자, 일반적 불용어 제거  \n",
    "    1.2. 유효 명사 추가     \n",
    "    1.4. 검색어에 대한 불용어 제거  \n",
    "    1.3. 명사 추출  \n",
    "\n",
    "**Backend** workflow v3 유효기사추출 - 대표기사추출.ipynb \n",
    "\n",
    "1. **검색어 입력**\n",
    "2. **데이터 불러오기**(tokenized data)\n",
    "3. **유효문서 추출**  \n",
    "    3.2. 유효 문서 추출 A (제목에 검색어를 포함하는 문서만 추출, 제목에 [ ]가 들어간 문서 제외)  \n",
    "    3.3. 유효 문서 추출 B (본문에 검색어가 3번 이상 들어가는 문서만 추출) \n",
    "4. **문서별 카테고리 할당**\n",
    "5. **카테고리 별 토픽 할당**  \n",
    "    5.1. 벡터화 (TFIDF)  \n",
    "    5.2. 군집화 (DBSCAN)\n",
    "6. **토픽 별 대표기사 추출**\n",
    "    6.1. 토픽별 문서 벡터화 (TFIDF)  \n",
    "    6.2. 토픽별 대표 키워드 추출 (SVD)  \n",
    "    6.3. 토픽별 대표 문서 추출 (BM25)  \n",
    "    \n",
    "**Frontend**  workflow v3 시각화.ipynb \n",
    "\n",
    "    \n",
    "**References**  \n",
    "[1] 현호\\_mulcam_mirae_workflow.ipynb\n",
    "\n",
    "**기타**  \n",
    "각 블록 마다 running time 측정"
   ]
  },
  {
   "cell_type": "markdown",
   "metadata": {},
   "source": [
    "## 데이터 Tokenize Process\n",
    "### 검색어 입력\n",
    "### 데이터 불러오기(raw data)"
   ]
  },
  {
   "cell_type": "code",
   "execution_count": 2,
   "metadata": {
    "ExecuteTime": {
     "end_time": "2019-06-17T03:36:14.888855Z",
     "start_time": "2019-06-17T03:36:14.610967Z"
    }
   },
   "outputs": [],
   "source": [
    "query = '이니스프리'\n",
    "loader = ns.Pickle2DF()\n",
    "# df_raw = loader.get_dataframe(f'data/{query}/rawdata_{query}.pickle')\n",
    "df_raw = pd.read_csv(f'data/{query}/{query}.csv')\n",
    "df_raw = df_raw.drop([int(f'{len(df_raw)-1}')],axis=0) #마지막핼 크롤링 실패해서 마지막줄 잘라줘야함\n",
    "df_raw =loader.get_dataframe_from_csv(df_raw) # 2nd 크롤링 csv파일 처리함수 추가"
   ]
  },
  {
   "cell_type": "markdown",
   "metadata": {},
   "source": [
    "### 전처리 (기사 분문)\n",
    "- 특수문자, 일반적 불용어 제거\n",
    "- 유효 명사 추가\n",
    "- 검색어에 대한 불용어 제거\n",
    "- 명사 추출"
   ]
  },
  {
   "cell_type": "code",
   "execution_count": 3,
   "metadata": {
    "ExecuteTime": {
     "end_time": "2019-06-17T03:37:29.140746Z",
     "start_time": "2019-06-17T03:36:14.889713Z"
    },
    "scrolled": false
   },
   "outputs": [
    {
     "name": "stdout",
     "output_type": "stream",
     "text": [
      "추가한 명사\n",
      "['정보통신', '환헤지', '조웅기', '핀테크', '큐레이션', '투명성', '최경주', '상장', '임직원', '아시아그로쓰', '라이징스타', '파이낸셜', '캡스', '리파이낸싱', '싱가포르투자청', '도이체방크', '도이치뱅크', '카우룽', '그린마크', '광주은행', '대신증권', '삼성생명', '신한은행', '우리은행', '유안타증권', '펀드슈퍼마켓', '한국투자증권', '기업은행', '하나은행', '제일은행', '퀀트모델', '포트폴리오', '헤지펀드', '트레이딩', '영업점', '셀렉션', '구인', '사업화', '협약식', '미래에셋센터원', '최연소', '이테크', '미래에셋', '미래에셋대우', '에트리홀딩스', '펀드설정액', '분기', '벤처', '사회적기업', '성장지원', '헬스케어', '해결책', '메리츠', '신고가', '지주', '증권주', '벨류에이션', '이베스트', '수익성', '실사구시', '페어트레이딩', '쓸어', '상장사', '한투', '한국투자증권', '순매수', '거래량', '상장주식수', '분기', '미상환', '업무지구', '장기적', '한온시스템', '보여', '주간사', '젠바디', '예탁결제원', '크라우드펀딩', '영업이익률', '이익률', '파워리퍼블릭', '운용사', '아모텍', '지분', '박스권', '저평가', '시총', '긍정적', '납세자', '셀리드', '에스퓨얼셀', '게임사', '할인율', '재도전', '인공지능', '당기순익', '비대면', '사업가치', '재평가', '순매도', '순매수', '수혜주', '마중물', '혼조세', '신고가', '합리적', '재취업', '다각화', '자문형랩', '순익', '설정액', '원소재', '메디톡스', '인허가', '성장통', '호실적', '주간사', '주관사', '예상치', '호실적', '압도', '신성장', '기술료', '조기상환', '비임원', '기대감', '순매도', '저평가', '거래량', '내수', '건설사', '호실적', '코스메틱', '제이준', '아이센스', '분양권', '영입', '지주', '시황', '애널리스트', '이니스프리']\n",
      "추가한 불용어\n",
      "['제시', '유지', '것', '최근', '원', '적', '이번', '억원', '대비', '등', '전', '대한', '기준', '전체', '풀', '수준', '및', '고', '추이', '또한', '로', '이', '수', '대해', '체적', '기', '면서', '의', '비교', '오늘', '일자', '상승', '까지', '한편', '말', '를', '볼때', '직전', '점', '동사', '올해', '가가', '이후', '예상', '폭', '경우', '라며', '중', '기대감', '현', '내', '최저', '부문', '분기', '표현', '기록', '동안', '개', '위', '크게', '지난해', '주', '액', '집계', '수렴', '기사', '객관', '개월', '최고', '바', '미래에셋', '기대', '모습', '정보', '역시', '보수', '전일', '해석', '지속', '개선', '요인', '준', '전자신문', '현재', '대하', '상태', '처리', '만원', '균', '실시간', '흐름', '때문', '참고', '이상', '공격', '통계', '가평', '분기기', '하이라이트', '계속', '회', '감소', '제일', '그대로', '신규', '통해', '지난', '조원', '달', '치', '존재', '추가', '확대', '후', '차례', '며', '해', '하나', '상', '부터', '조억원', '비중', '억', '풀이', '더', '위해', '명', '두', '다가', '개인', '초반', '관련', '당하', '율', '약', '다소', '유', '연속', '관리', '한국', '가의', '판단', '가능', '전자', '안', '인수', '지하', '추정', '총', '최대', '관계자', '비', '주요', '더욱', '달러', '나타', '은', '년', '때', '아지', '조', '그', '다시', '화', '각각', '초과', '원대', '일', '률', '성', '사', '예정', '강화', '형', '설명', '선', '기존', '장', '정도', '현지', '간', '하반기', '대상', '효과', '영향', '상황', '제', '향후', '수요', '발생', '참여', '배', '세', '경협과', '택자', '면직', '중부로', '랭커', '부러', '웨', '극상', '히키', '사혁', '무안', '무게중심', '이규', '셰어', '강남구', '시술', '단서', '민씨', '득세', '적경', '방망이', '정면', '다린', '형기', '렌즈', '거북이', '기정', '가추', '찍기', '라돈', '장밋빛', '출입', '무진행', '고요', '출동', '단절', '설자리', '미술품', '반지', '터닝', '열전', '말문', '보대', '은한', '해설', '비책', '컷오프', '일상생활', '흉내', '이자보', '직관', '이병', '드이', '촉진', '파일', '이주일', '과반수', '리엘', '놨다', '부리', '하이패스', '교육학', '이스라엘', '불변', '리메이크', '툴', '마음껏', '알레', '학내', '배곧', '감점', '황산니켈', '팅되', '웠', '버거', '송구', '불로', '오죽', '마인', '항고심', '뮤직비디오', '토린', '어울', '라빅', '출퇴근시간', '소강', '중책', '양쪽', '변재', '제로섬', '주최', '덴탈디텍터', '소시', '로얄', '독립시', '백전노장', '띤', '회로', '동대문', '큐티', '징후', '생중계', '닉티', '팬클럽', '극한', '김수연', '용적', '력도', '반신반의', '웅용', '통솔', '토론토', '클리오', '간접세', '월세', '크라운', '신발', '배증', '끈끈', '뭇', '진취', '정말', '수의사', '무임', '수신', '준정', '골도', '증세', '복용', '단부', '이온', '돌기', '의제', '해선', '주창', '거시', '스트로', '대개', '토양', '안승', '양화로', '출산', '제헌', '유태인', '로베코샘', '안간힘', '카트', '소극', '굿', '컴공', '미익', '배상하', '혼합형', '김충', '레퍼토리', '다이너마이트', '리뱀핑', '섬', '타국', '외국산', '노미', '년새', '리도', '우직', '지옥', '박강', '지칭', '치레', '일동', '살림살이', '설태', '점증', '륙할지', '화북', '어지', '치명', '피나', '재건', '애물', '최민', '처우', '가요', '산유', '배후', '군집', '축구장', '국제대', '처마', '여실히', '광복', '금보', '영속', '청담러닝', '롱숏', '선례', '김준섭', '평동', '피로', '바퀴', '분루', '유해', '원정', '불의', '극성', '백색', '세종시', '틈', '예부', '역행', '더보', '한약', '기해', '의류건조기', '엑스선', '아툰', '자식', '환불', '킹스', '금시', '대지', '강의실', '싸드', '에어맥', '자락', '총검', '거슬러', '퇴치', '대역', '마법', '롱쇼트', '귀감', '제작발표회', '상미', '빈센트', '트램폴린', '셋팅', '모체', '무능', '바나나', '부위', '링쿡', '이동전화', '독야청청', '니나', '안정감', '애자', '헤드라이트']\n",
      "추가한 명사: ['정보통신', '환헤지', '조웅기', '핀테크', '큐레이션', '투명성', '최경주', '상장', '임직원', '아시아그로쓰', '라이징스타', '파이낸셜', '캡스', '리파이낸싱', '싱가포르투자청', '도이체방크', '도이치뱅크', '카우룽', '그린마크', '광주은행', '대신증권', '삼성생명', '신한은행', '우리은행', '유안타증권', '펀드슈퍼마켓', '한국투자증권', '기업은행', '하나은행', '제일은행', '퀀트모델', '포트폴리오', '헤지펀드', '트레이딩', '영업점', '셀렉션', '구인', '사업화', '협약식', '미래에셋센터원', '최연소', '이테크', '미래에셋', '미래에셋대우', '에트리홀딩스', '펀드설정액', '분기', '벤처', '사회적기업', '성장지원', '헬스케어', '해결책', '메리츠', '신고가', '지주', '증권주', '벨류에이션', '이베스트', '수익성', '실사구시', '페어트레이딩', '쓸어', '상장사', '한투', '한국투자증권', '순매수', '거래량', '상장주식수', '분기', '미상환', '업무지구', '장기적', '한온시스템', '보여', '주간사', '젠바디', '예탁결제원', '크라우드펀딩', '영업이익률', '이익률', '파워리퍼블릭', '운용사', '아모텍', '지분', '박스권', '저평가', '시총', '긍정적', '납세자', '셀리드', '에스퓨얼셀', '게임사', '할인율', '재도전', '인공지능', '당기순익', '비대면', '사업가치', '재평가', '순매도', '순매수', '수혜주', '마중물', '혼조세', '신고가', '합리적', '재취업', '다각화', '자문형랩', '순익', '설정액', '원소재', '메디톡스', '인허가', '성장통', '호실적', '주간사', '주관사', '예상치', '호실적', '압도', '신성장', '기술료', '조기상환', '비임원', '기대감', '순매도', '저평가', '거래량', '내수', '건설사', '호실적', '코스메틱', '제이준', '아이센스', '분양권', '영입', '지주', '시황', '애널리스트', '이니스프리']\n",
      "불용어:  ['제시', '유지', '것', '최근', '원', '적', '이번', '억원', '대비', '등', '전', '대한', '기준', '전체', '풀', '수준', '및', '고', '추이', '또한', '로', '이', '수', '대해', '체적', '기', '면서', '의', '비교', '오늘', '일자', '상승', '까지', '한편', '말', '를', '볼때', '직전', '점', '동사', '올해', '가가', '이후', '예상', '폭', '경우', '라며', '중', '기대감', '현', '내', '최저', '부문', '분기', '표현', '기록', '동안', '개', '위', '크게', '지난해', '주', '액', '집계', '수렴', '기사', '객관', '개월', '최고', '바', '미래에셋', '기대', '모습', '정보', '역시', '보수', '전일', '해석', '지속', '개선', '요인', '준', '전자신문', '현재', '대하', '상태', '처리', '만원', '균', '실시간', '흐름', '때문', '참고', '이상', '공격', '통계', '가평', '분기기', '하이라이트', '계속', '회', '감소', '제일', '그대로', '신규', '통해', '지난', '조원', '달', '치', '존재', '추가', '확대', '후', '차례', '며', '해', '하나', '상', '부터', '조억원', '비중', '억', '풀이', '더', '위해', '명', '두', '다가', '개인', '초반', '관련', '당하', '율', '약', '다소', '유', '연속', '관리', '한국', '가의', '판단', '가능', '전자', '안', '인수', '지하', '추정', '총', '최대', '관계자', '비', '주요', '더욱', '달러', '나타', '은', '년', '때', '아지', '조', '그', '다시', '화', '각각', '초과', '원대', '일', '률', '성', '사', '예정', '강화', '형', '설명', '선', '기존', '장', '정도', '현지', '간', '하반기', '대상', '효과', '영향', '상황', '제', '향후', '수요', '발생', '참여', '배', '세', '경협과', '택자', '면직', '중부로', '랭커', '부러', '웨', '극상', '히키', '사혁', '무안', '무게중심', '이규', '셰어', '강남구', '시술', '단서', '민씨', '득세', '적경', '방망이', '정면', '다린', '형기', '렌즈', '거북이', '기정', '가추', '찍기', '라돈', '장밋빛', '출입', '무진행', '고요', '출동', '단절', '설자리', '미술품', '반지', '터닝', '열전', '말문', '보대', '은한', '해설', '비책', '컷오프', '일상생활', '흉내', '이자보', '직관', '이병', '드이', '촉진', '파일', '이주일', '과반수', '리엘', '놨다', '부리', '하이패스', '교육학', '이스라엘', '불변', '리메이크', '툴', '마음껏', '알레', '학내', '배곧', '감점', '황산니켈', '팅되', '웠', '버거', '송구', '불로', '오죽', '마인', '항고심', '뮤직비디오', '토린', '어울', '라빅', '출퇴근시간', '소강', '중책', '양쪽', '변재', '제로섬', '주최', '덴탈디텍터', '소시', '로얄', '독립시', '백전노장', '띤', '회로', '동대문', '큐티', '징후', '생중계', '닉티', '팬클럽', '극한', '김수연', '용적', '력도', '반신반의', '웅용', '통솔', '토론토', '클리오', '간접세', '월세', '크라운', '신발', '배증', '끈끈', '뭇', '진취', '정말', '수의사', '무임', '수신', '준정', '골도', '증세', '복용', '단부', '이온', '돌기', '의제', '해선', '주창', '거시', '스트로', '대개', '토양', '안승', '양화로', '출산', '제헌', '유태인', '로베코샘', '안간힘', '카트', '소극', '굿', '컴공', '미익', '배상하', '혼합형', '김충', '레퍼토리', '다이너마이트', '리뱀핑', '섬', '타국', '외국산', '노미', '년새', '리도', '우직', '지옥', '박강', '지칭', '치레', '일동', '살림살이', '설태', '점증', '륙할지', '화북', '어지', '치명', '피나', '재건', '애물', '최민', '처우', '가요', '산유', '배후', '군집', '축구장', '국제대', '처마', '여실히', '광복', '금보', '영속', '청담러닝', '롱숏', '선례', '김준섭', '평동', '피로', '바퀴', '분루', '유해', '원정', '불의', '극성', '백색', '세종시', '틈', '예부', '역행', '더보', '한약', '기해', '의류건조기', '엑스선', '아툰', '자식', '환불', '킹스', '금시', '대지', '강의실', '싸드', '에어맥', '자락', '총검', '거슬러', '퇴치', '대역', '마법', '롱쇼트', '귀감', '제작발표회', '상미', '빈센트', '트램폴린', '셋팅', '모체', '무능', '바나나', '부위', '링쿡', '이동전화', '독야청청', '니나', '안정감', '애자', '헤드라이트']\n",
      "excution time : 74.2450623512268\n"
     ]
    }
   ],
   "source": [
    "tic = time.time()\n",
    "\n",
    "# 전처리 \n",
    "pp = ns.PreprocessingText()\n",
    "content_no_stopwords = pp.make_content_re(df_raw['content']) # 일반적인 불용어, 특수문자 제거\n",
    "\n",
    "# 유효 명사 추가\n",
    "noun_dict_route = 'data/미래에셋_단어사전.txt'\n",
    "with open(noun_dict_route,encoding = 'utf-8-sig') as f: noun_proper = f.read() # 최초 1회만 하고 이후 주석처리\n",
    "noun_list = noun_proper.split('\\n')\n",
    "pp.add_noun_dict(noun_list) \n",
    "\n",
    "# 검색어에 대한 불용어 추가\n",
    "stopword_dict_route = 'data/미래에셋_불용어사전.txt'\n",
    "with open(stopword_dict_route,encoding = 'utf-8-sig') as f2: stopword = f2.read() # 최초 1회만 하고 이후 주석처리\n",
    "stopword_list = stopword.split('\\n')\n",
    "pp.add_stopwords(stopword_list) \n",
    "\n",
    "# 명사 추출\n",
    "content_tk = pp.tokenize(content_no_stopwords)\n",
    "\n",
    "toc = time.time()\n",
    "print(f'excution time : {toc-tic}')"
   ]
  },
  {
   "cell_type": "markdown",
   "metadata": {},
   "source": [
    "### 전처리 (기사 제목)\n",
    "- 특수문자, 일반적 불용어 제거\n",
    "- 유효 명사 추가\n",
    "- 검색어에 대한 불용어 제거\n",
    "- 명사 추출"
   ]
  },
  {
   "cell_type": "code",
   "execution_count": 4,
   "metadata": {
    "ExecuteTime": {
     "end_time": "2019-06-17T03:37:30.875643Z",
     "start_time": "2019-06-17T03:37:29.142751Z"
    }
   },
   "outputs": [
    {
     "name": "stdout",
     "output_type": "stream",
     "text": [
      "추가한 명사: []\n",
      "불용어:  []\n",
      "excution time : 1.7288448810577393\n"
     ]
    }
   ],
   "source": [
    "tic = time.time()\n",
    "# 제목\n",
    "\n",
    "# 전처리 \n",
    "pp = ns.PreprocessingText()\n",
    "content_no_stopwords_title = pp.make_content_re(df_raw['title']) # 일반적인 불용어, 특수문자 제거\n",
    "\n",
    "# # 유효 명사 추가\n",
    "# noun_dict_route = 'data/미래에셋_단어사전.txt'\n",
    "# with open(noun_dict_route,encoding = 'utf-8-sig') as f: noun_proper = f.read()\n",
    "# noun_list = noun_proper.split('\\n')\n",
    "# pp.add_noun_dict(noun_list) \n",
    "\n",
    "# # 검색어에 대한 불용어 추가\n",
    "# stopword_dict_route = 'data/미래에셋_불용어사전.txt'\n",
    "# with open(stopword_dict_route,encoding = 'utf-8-sig') as f2: stopword = f2.read()\n",
    "# stopword_list = stopword.split('\\n')\n",
    "# pp.add_stopwords(stopword_list) \n",
    "\n",
    "# 명사 추출\n",
    "content_tk_title = pp.tokenize(content_no_stopwords_title)\n",
    "\n",
    "toc = time.time()\n",
    "print(f'excution time : {toc-tic}')"
   ]
  },
  {
   "cell_type": "markdown",
   "metadata": {},
   "source": [
    "### 전처리된 데이터 저장"
   ]
  },
  {
   "cell_type": "code",
   "execution_count": 5,
   "metadata": {
    "ExecuteTime": {
     "end_time": "2019-06-17T03:37:30.880672Z",
     "start_time": "2019-06-17T03:37:30.876614Z"
    }
   },
   "outputs": [],
   "source": [
    "df_raw['tokenized_doc'] = content_tk\n",
    "df_raw['tokenized_title'] = content_tk_title\n",
    "# with open('tokenized data/tkdata_미래에셋대우.pickle','wb') as handle:\n",
    "#     pickle.dump(df_raw,handle,protocol=pickle.HIGHEST_PROTOCOL)"
   ]
  },
  {
   "cell_type": "markdown",
   "metadata": {},
   "source": [
    "## Category 및 Topic 할당\n",
    "1. **유효문서 추출**  \n",
    "    1.2. 유효 문서 추출 A (제목에 검색어를 포함하는 문서만 추출, 제목에 [ ]가 들어간 문서 제외)  \n",
    "    1.3. 유효 문서 추출 B (본문에 검색어가 3번 이상 들어가는 문서만 추출) \n",
    "2. **문서별 카테고리 할당**\n",
    "3. **카테고리 별 토픽 할당**  \n",
    "    3.1. 벡터화 (TFIDF)  \n",
    "    3.2. 군집화 (DBSCAN)\n",
    "4. **토픽 별 대표기사 추출**\n",
    "    4.1. 토픽별 문서 벡터화 (TFIDF)  \n",
    "    4.2. 토픽별 대표 키워드 추출 (SVD)  \n",
    "    4.3. 토픽별 대표 문서 추출 (BM25)  "
   ]
  },
  {
   "cell_type": "code",
   "execution_count": 6,
   "metadata": {
    "ExecuteTime": {
     "end_time": "2019-06-17T03:37:31.446710Z",
     "start_time": "2019-06-17T03:37:30.881625Z"
    }
   },
   "outputs": [],
   "source": [
    "# 시각화\n",
    "import matplotlib.pyplot as plt\n",
    "import seaborn as sb\n",
    "\n",
    "import re # 정규표현식\n",
    "import numpy as np # 연산\n",
    "process = ['load_data' ,' preprocess - get proper docs A','preprocess - get proper doc B', 'get category', 'get topic - vectorize',\n",
    "'get topic-DBSCAN','get main doc']"
   ]
  },
  {
   "cell_type": "code",
   "execution_count": 7,
   "metadata": {
    "ExecuteTime": {
     "end_time": "2019-06-17T03:37:31.649251Z",
     "start_time": "2019-06-17T03:37:31.447715Z"
    }
   },
   "outputs": [
    {
     "name": "stderr",
     "output_type": "stream",
     "text": [
      "c:\\users\\smnoh\\appdata\\local\\programs\\python\\python36\\lib\\site-packages\\konlpy\\tag\\_okt.py:16: UserWarning: \"Twitter\" has changed to \"Okt\" since KoNLPy v0.4.5.\n",
      "  warn('\"Twitter\" has changed to \"Okt\" since KoNLPy v0.4.5.')\n"
     ]
    },
    {
     "name": "stdout",
     "output_type": "stream",
     "text": [
      "******GetDocsFromQuery******\n",
      "1)set_query(검색어(str)) : 검색어 설정 \n",
      "2)select_news(데이터프레임(DataFrame),title) : 검색어를 포함한 문서를 시리즈로 반환, title = True 면 제목에 쿼리를 포함한 문서 인덱스 반환\n",
      "*****************************\n",
      "******PreprocessingText******\n",
      "1) make_content_re(df['컬럼이름'](Series)) : 입력받은 열을 전처리 후 시리즈로 반환\n",
      "2) add_noun_dict('list') : 명사 사전에 단어 추가\n",
      "3) add_stopwords('list') : 불용어 사전에 단어 추가\n",
      "4) tokenize(df['컬럼이름'](Series)) : 입력받은 열을 토큰화한 후 시리즈로 반환\n",
      "5) change_similar_words(토큰화된 문서(Series), 유의어 사전(dictionary)) : 유의어 사전을 기반으로 문서 내 유의어를 대표어로 변환하고, 변환된 문서를 시리즈로 반환한다.\n",
      "*****************************\n",
      "******CleaningNoise******\n",
      "1)count_topic(토큰화된문서(Series),단어(str)) : 각 문서당 특정 단어가 몇번 포함됐는지를 리스트로 출력\n",
      "2)plot_hist(count_topic 에서 반환된 카운트리스트(list)) : 1 에서 반환된 리스트로 히스토그램을 그린다\n",
      "3)get_proper_news(토큰화된문서(Series), count_topic 에서 반환된 카운트리스트(list), 기준치(int): 문서 내 특정 단어가 기준치 이상 나온 문서만 반환한다.\n",
      "*****************************\n"
     ]
    }
   ],
   "source": [
    "selector = ns.GetDocsFromQuery() # 유효문서 추출 A\n",
    "pp = ns.PreprocessingText() # 전처리\n",
    "cleaner = ns.CleaningNoise() # 유효문서 추출 B\n",
    "\n",
    "selector.help()\n",
    "pp.help()\n",
    "cleaner.help()"
   ]
  },
  {
   "cell_type": "markdown",
   "metadata": {},
   "source": [
    "### 유효문서 추출\n",
    "#### 유효문서 추출 A  \n",
    "제목에 검색어를 포함하는 문서만 추출  \n",
    "제목에 '[\\w+]'를 포함하는 문서 제외"
   ]
  },
  {
   "cell_type": "code",
   "execution_count": 8,
   "metadata": {
    "ExecuteTime": {
     "end_time": "2019-06-17T03:37:31.787644Z",
     "start_time": "2019-06-17T03:37:31.651256Z"
    }
   },
   "outputs": [
    {
     "name": "stdout",
     "output_type": "stream",
     "text": [
      "length of selected news: 383\n",
      "length of original data: 2456\n",
      "length of proper title : 365\n"
     ]
    }
   ],
   "source": [
    "# 제목에 검색어를 포함하는 문서 인덱스 추출\n",
    "selector.set_query(query)\n",
    "idx_proper_title = selector.select_news(df_raw, title = True) \n",
    "df_proper_title = df_raw.loc[idx_proper_title]\n",
    "\n",
    "# [ET투자뉴스],[마켓인사이트] 등의 기사 제거\n",
    "# [단독], [속보], [2보] 등은 남겨야함\n",
    "idx_special_title = []\n",
    "regex = \"\\[\\w{4,20}\\]\"\n",
    "for i in df_proper_title.index:\n",
    "    if re.search(regex,df_proper_title.loc[i]['title']) is not None: idx_special_title.append(i)\n",
    "\n",
    "df_proper_title.drop(idx_special_title,inplace = True)\n",
    "print(f'length of proper title : {df_proper_title.shape[0]}')"
   ]
  },
  {
   "cell_type": "markdown",
   "metadata": {},
   "source": [
    "#### 유효문서 추출 B  \n",
    "본문에 검색어를 3번이상 포함하는 문서만 추출"
   ]
  },
  {
   "cell_type": "code",
   "execution_count": 9,
   "metadata": {
    "ExecuteTime": {
     "end_time": "2019-06-17T03:37:31.795641Z",
     "start_time": "2019-06-17T03:37:31.789625Z"
    }
   },
   "outputs": [
    {
     "name": "stdout",
     "output_type": "stream",
     "text": [
      "number of total data: 365\n",
      "number of proper data: 317\n"
     ]
    }
   ],
   "source": [
    "query_counter = cleaner.count_topic(df_proper_title['tokenized_doc'],query)\n",
    "proper_idx = cleaner.get_proper_news(df_proper_title['tokenized_doc'],query_counter, 2).index.tolist()\n",
    "df_proper = df_proper_title.loc[proper_idx].copy()"
   ]
  },
  {
   "cell_type": "markdown",
   "metadata": {
    "ExecuteTime": {
     "end_time": "2019-06-12T11:38:21.107389Z",
     "start_time": "2019-06-12T11:38:21.079848Z"
    }
   },
   "source": [
    "### 문서별 카테고리 할당"
   ]
  },
  {
   "cell_type": "code",
   "execution_count": 10,
   "metadata": {
    "ExecuteTime": {
     "end_time": "2019-06-17T03:37:31.806670Z",
     "start_time": "2019-06-17T03:37:31.796643Z"
    }
   },
   "outputs": [
    {
     "name": "stdout",
     "output_type": "stream",
     "text": [
      "******GetKeyword******\n",
      "1)top_df(토큰화된 문서(Series)) : 문서에 포함된 단어의 DF를 계산하고, 단어에 따른 DF를 데이터프레임으로 반환한다.\n",
      "2)top_tfidf(tfidf 벡터(np.ndarray), tfidf 벡터의 features(np.array), top_n(int)) : 각 문서별 tfidf가 가장 큰 단어 3개를 뽑고, 그 단어들의 빈도를 시리즈로 반환한다.\n",
      "3)lda(tfidf 벡터(np.ndarray),tfidf 벡터의 features(np.array), 토픽수(int), 토픽당 출력할 단어 수(int)) : 토픽에 따라 선정된 키워드를 출력한다. 각 문서의 토픽 번호를 리스트로 반환한다.\n",
      "4)get_issues_based_dataframe(self, 데이터프레임(dataframe), 주제별 키워드 리스트(list), 주제당 뽑고 싶은 기사 수(int) , 컬럼이름(str)\n",
      "주제별 키워드 형식 : [[k11,k12,k12...],[k21,k22,...],...,[kn1,kn2]]\n",
      "주제당 가장 bm25 score가 높은 기사를 뽑아서 데이터 프레임으로 반환한다\n",
      "5)remove_na_category(데이터프레임(DataFrame)) : 카테고리가 있는 문서만 반환한다. 카테고리가 없는 문서를 제거 전/후 문서의 수를 출력한다.\n",
      "6)select_category(카테고리(Series)) :카테고리 리스트 내에서 원소 한개를 선택해 반환한다.\n",
      "\n",
      "            카테고리 원소 형식 : [cat_1>cat_2, cat_1>cat_2, cat_1>cat_2],[...],[...],...\n",
      "            6-1) cat_1>cat2 에서 cat2 를 제거하고, 중복된 cat_1을 제거한다.\n",
      "            6-2) cat_1의 빈도 분포를 출력한다.\n",
      "            6-3) cat_1에서 가장 빈도가 높은 카테고리를 major_cat, 나머지를 빈도 순서대로 minor_cat에 저장한다.\n",
      "            6-4) cat_list 는 category(input)의 원소일때,\n",
      "                6-4-1) cat_list 의 길이가 1 이면 cat_list[0]을 카테고리로 선정\n",
      "                6-4-2) cat_list 의 길이가 2 이상일 때\n",
      "                    6-4-2-1) minor_cat 이 존재하지 않는다면 major_cat을 카테고리로 선정\n",
      "                    6-4-2-2) minor_cat 이 존재한다면 minor_cat_list에서 가장 뒤에 있는 원소를 카테고리로 선정\n",
      "            6-5) 선택된 카테고리 리스트를 시리즈로 반환한다.\n",
      "            \n",
      "7)get_news(이슈별로 분류된 데이터[cat[df,df..]], max_feat, min_df, max_df, n_keyword): 토픽 별 키워드를 추출하고, BM25가 높은 문서를 반환한다\n",
      "*************************\n"
     ]
    }
   ],
   "source": [
    "keyword_extractor = ns.GetKeyword() # 카테고리 할당 모듈\n",
    "keyword_extractor.help()"
   ]
  },
  {
   "cell_type": "code",
   "execution_count": 11,
   "metadata": {
    "ExecuteTime": {
     "end_time": "2019-06-17T03:37:31.814691Z",
     "start_time": "2019-06-17T03:37:31.808675Z"
    }
   },
   "outputs": [],
   "source": [
    "def select_category(category):          \n",
    "    # cat_2 제거, 중복된 cat_1 제거\n",
    "    cat_1 = []\n",
    "    cat_tmp = []\n",
    "    for cat_list in category :\n",
    "        tmp = []\n",
    "        for cat in cat_list :\n",
    "            tmp.append(re.sub(r'\\>\\w+','',cat))\n",
    "        cat_1.extend(list(set(tmp)))\n",
    "        cat_tmp.append(list(set(tmp)))\n",
    "\n",
    "    # 카테고리 원소 빈도 출력\n",
    "    cat_1_table = pd.Series(cat_1).value_counts()\n",
    "    #print(cat_1_table)\n",
    "    #print(len(cat_tmp))\n",
    "\n",
    "    tmp = cat_1_table.index.tolist()\n",
    "    major_cat = tmp[0]\n",
    "    minor_cat_list = tmp[1:]\n",
    "    minor_cat_list.reverse()\n",
    "\n",
    "    print(f'major category : {major_cat}')\n",
    "    print(f'minor categories : {minor_cat_list}')\n",
    "\n",
    "    # 카테고리 원소 선택 \n",
    "    selected_cat = []\n",
    "    for cat in cat_tmp : \n",
    "        if(len(cat)==1) : selected_cat.append(cat[0])\n",
    "        else :\n",
    "            for minor_cat in minor_cat_list:\n",
    "                if minor_cat in cat : \n",
    "                    selected_cat.append(minor_cat)\n",
    "                    break\n",
    "                else : \n",
    "                    selected_cat.append(major_cat)\n",
    "                    break\n",
    "    selected_cat = pd.Series(selected_cat)\n",
    "    display(selected_cat.value_counts())\n",
    "    return selected_cat"
   ]
  },
  {
   "cell_type": "code",
   "execution_count": 12,
   "metadata": {
    "ExecuteTime": {
     "end_time": "2019-06-17T03:37:31.826724Z",
     "start_time": "2019-06-17T03:37:31.815693Z"
    }
   },
   "outputs": [
    {
     "name": "stdout",
     "output_type": "stream",
     "text": [
      "n_docs : 317\n",
      "n_docs after remove na categories : 317\n"
     ]
    }
   ],
   "source": [
    "#인덱스 초기화 해야함\n",
    "df_cat_proper = keyword_extractor.remove_na_category(df_proper).reset_index(drop=True)"
   ]
  },
  {
   "cell_type": "code",
   "execution_count": 13,
   "metadata": {
    "ExecuteTime": {
     "end_time": "2019-06-17T03:37:31.847779Z",
     "start_time": "2019-06-17T03:37:31.828728Z"
    }
   },
   "outputs": [
    {
     "name": "stdout",
     "output_type": "stream",
     "text": [
      "경제       232\n",
      "지역        54\n",
      "문화        49\n",
      "IT_과학     42\n",
      "국제        12\n",
      "미분류       10\n",
      "사회         3\n",
      "정치         1\n",
      "dtype: int64\n",
      "317\n",
      "major category : 경제\n",
      "minor categories : ['지역', '문화', 'IT_과학', '국제', '미분류', '사회', '정치']\n"
     ]
    }
   ],
   "source": [
    "cat_selected = keyword_extractor.select_category(df_cat_proper['category'])\n",
    "df_cat_proper['cat_selected'] = cat_selected"
   ]
  },
  {
   "cell_type": "code",
   "execution_count": 14,
   "metadata": {
    "ExecuteTime": {
     "end_time": "2019-06-17T03:37:31.860815Z",
     "start_time": "2019-06-17T03:37:31.848789Z"
    }
   },
   "outputs": [],
   "source": [
    "# 클러스터의 개수가 1이하인 문서는 버린다.\n",
    "threshold = 1\n",
    "rm_cat_list = df_cat_proper['cat_selected'].value_counts()[df_cat_proper['cat_selected'].value_counts()<5].index.tolist()\n",
    "for rm_cat in rm_cat_list:\n",
    "    idx = df_cat_proper[df_cat_proper['cat_selected']==rm_cat].index.tolist()\n",
    "    df_cat_proper.drop(idx,inplace = True)"
   ]
  },
  {
   "cell_type": "markdown",
   "metadata": {
    "ExecuteTime": {
     "end_time": "2019-06-12T12:07:02.641084Z",
     "start_time": "2019-06-12T12:07:02.635093Z"
    }
   },
   "source": [
    "### 카테고리 별 토픽 할당\n",
    "- 벡터화"
   ]
  },
  {
   "cell_type": "code",
   "execution_count": 15,
   "metadata": {
    "ExecuteTime": {
     "end_time": "2019-06-17T03:37:31.867866Z",
     "start_time": "2019-06-17T03:37:31.862821Z"
    }
   },
   "outputs": [],
   "source": [
    "vectorizer = ns.Vectorizer()\n",
    "cluster = ns.Get2DPlot()"
   ]
  },
  {
   "cell_type": "code",
   "execution_count": 16,
   "metadata": {
    "ExecuteTime": {
     "end_time": "2019-06-17T03:37:31.927993Z",
     "start_time": "2019-06-17T03:37:31.868835Z"
    }
   },
   "outputs": [
    {
     "name": "stdout",
     "output_type": "stream",
     "text": [
      "['경제', '지역', '문화', 'IT_과학', '미분류', '국제']\n"
     ]
    }
   ],
   "source": [
    "x_cat_dict = {} # 카테고리별 tfidf 벡터\n",
    "word_cat_dict = {} # 카테고리별 단어\n",
    "cat_list = df_cat_proper['cat_selected'].unique().tolist() # 카테고리 리스트\n",
    "print(cat_list)\n",
    "\n",
    "for cat in cat_list:\n",
    "    vec_obj = ns.Vectorizer()\n",
    "    cat_docs = df_cat_proper[df_cat_proper['cat_selected'] == cat]['tokenized_doc']\n",
    "    \n",
    "    x_cat,word_cat = vec_obj.get_tfidf_vec(cat_docs)\n",
    "    \n",
    "    x_cat_dict[cat] = x_cat\n",
    "    word_cat_dict[cat] = word_cat"
   ]
  },
  {
   "cell_type": "code",
   "execution_count": 17,
   "metadata": {
    "ExecuteTime": {
     "end_time": "2019-06-17T03:37:34.228071Z",
     "start_time": "2019-06-17T03:37:31.928995Z"
    },
    "scrolled": true
   },
   "outputs": [
    {
     "name": "stdout",
     "output_type": "stream",
     "text": [
      "****경제****\n",
      "PCA OPTICS\n"
     ]
    },
    {
     "data": {
      "image/png": "[encoded data removed]",
      "text/plain": [
       "<Figure size 432x288 with 1 Axes>"
      ]
     },
     "metadata": {
      "needs_background": "light"
     },
     "output_type": "display_data"
    },
    {
     "name": "stdout",
     "output_type": "stream",
     "text": [
      "****지역****\n",
      "PCA OPTICS\n"
     ]
    },
    {
     "data": {
      "image/png": "[encoded data removed]",
      "text/plain": [
       "<Figure size 432x288 with 1 Axes>"
      ]
     },
     "metadata": {
      "needs_background": "light"
     },
     "output_type": "display_data"
    },
    {
     "name": "stdout",
     "output_type": "stream",
     "text": [
      "****문화****\n",
      "PCA OPTICS\n"
     ]
    },
    {
     "data": {
      "image/png": "[encoded data removed]",
      "text/plain": [
       "<Figure size 432x288 with 1 Axes>"
      ]
     },
     "metadata": {
      "needs_background": "light"
     },
     "output_type": "display_data"
    },
    {
     "name": "stdout",
     "output_type": "stream",
     "text": [
      "****IT_과학****\n",
      "PCA OPTICS\n"
     ]
    },
    {
     "data": {
      "image/png": "[encoded data removed]",
      "text/plain": [
       "<Figure size 432x288 with 1 Axes>"
      ]
     },
     "metadata": {
      "needs_background": "light"
     },
     "output_type": "display_data"
    },
    {
     "name": "stdout",
     "output_type": "stream",
     "text": [
      "****미분류****\n",
      "PCA OPTICS\n"
     ]
    },
    {
     "name": "stderr",
     "output_type": "stream",
     "text": [
      "c:\\users\\smnoh\\appdata\\local\\programs\\python\\python36\\lib\\site-packages\\sklearn\\cluster\\optics_.py:491: UserWarning: All reachability values are inf. Set a larger max_eps or all data will be considered outliers.\n",
      "  UserWarning)\n"
     ]
    },
    {
     "data": {
      "image/png": "[encoded data removed]",
      "text/plain": [
       "<Figure size 432x288 with 1 Axes>"
      ]
     },
     "metadata": {
      "needs_background": "light"
     },
     "output_type": "display_data"
    },
    {
     "name": "stdout",
     "output_type": "stream",
     "text": [
      "****국제****\n",
      "PCA OPTICS\n"
     ]
    },
    {
     "data": {
      "image/png": "[encoded data removed]",
      "text/plain": [
       "<Figure size 432x288 with 1 Axes>"
      ]
     },
     "metadata": {
      "needs_background": "light"
     },
     "output_type": "display_data"
    }
   ],
   "source": [
    "topic_label_dict = {}\n",
    "for category, tfidf_vec in x_cat_dict.items():\n",
    "    cluster_obj = ns.Get2DPlot()\n",
    "    \n",
    "    print(f'****{category}****')\n",
    "    \n",
    "    vec_2d = cluster_obj.get_2D_vec(tfidf_vec,'tfidf','PCA')\n",
    "    topic_label = cluster_obj.get_cluster_labels(True,cluster_method= 'OPTICS')\n",
    "    cluster_obj.plot2D()  \n",
    "    \n",
    "    topic_label_dict[category] = topic_label"
   ]
  },
  {
   "cell_type": "code",
   "execution_count": 18,
   "metadata": {
    "ExecuteTime": {
     "end_time": "2019-06-17T03:37:34.248112Z",
     "start_time": "2019-06-17T03:37:34.229038Z"
    }
   },
   "outputs": [],
   "source": [
    "# 카테고리별 토픽할당\n",
    "df_final = pd.DataFrame()\n",
    "for cat in cat_list:\n",
    "    df_tmp = df_cat_proper[df_cat_proper['cat_selected'] == cat].copy()\n",
    "    df_tmp['topic'] = topic_label_dict[cat]\n",
    "    df_final = pd.concat([df_final,df_tmp])"
   ]
  },
  {
   "cell_type": "markdown",
   "metadata": {},
   "source": [
    "### 토픽 별 대표기사 추출"
   ]
  },
  {
   "cell_type": "code",
   "execution_count": 19,
   "metadata": {
    "ExecuteTime": {
     "end_time": "2019-06-17T03:37:35.071426Z",
     "start_time": "2019-06-17T03:37:34.249092Z"
    }
   },
   "outputs": [],
   "source": [
    "df_main = keyword_extractor.get_news(df_final)"
   ]
  },
  {
   "cell_type": "code",
   "execution_count": 20,
   "metadata": {
    "ExecuteTime": {
     "end_time": "2019-06-17T03:37:35.085462Z",
     "start_time": "2019-06-17T03:37:35.073431Z"
    }
   },
   "outputs": [],
   "source": [
    "eco_news = df_final[df_final['cat_selected']=='경제'].copy()\n",
    "topics = eco_news['topic'].unique().tolist()\n",
    "for topic in topics:\n",
    "#     print(f'=====topic {topic}=====')\n",
    "    tmp = eco_news[eco_news['topic']==topic].copy()\n",
    "#     display(tmp['title'])"
   ]
  },
  {
   "cell_type": "code",
   "execution_count": 21,
   "metadata": {
    "ExecuteTime": {
     "end_time": "2019-06-17T03:37:35.093484Z",
     "start_time": "2019-06-17T03:37:35.086465Z"
    }
   },
   "outputs": [],
   "source": [
    "# df_final의 represent컬럼 추가\n",
    "tmp_represent = []\n",
    "for title in df_final.index :\n",
    "    if title in df_main.index :\n",
    "        tmp_represent.append(True)\n",
    "    else:\n",
    "        tmp_represent.append(False)\n",
    "\n",
    "df_final['represent'] = tmp_represent"
   ]
  },
  {
   "cell_type": "code",
   "execution_count": 22,
   "metadata": {
    "ExecuteTime": {
     "end_time": "2019-06-17T03:37:35.102507Z",
     "start_time": "2019-06-17T03:37:35.094486Z"
    }
   },
   "outputs": [],
   "source": [
    "df_final['category'] = df_final['category'].apply(lambda x: ','.join(x))\n",
    "df_final['tokenized_doc'] = df_final['tokenized_doc'].apply(lambda x: ','.join(x))\n",
    "df_final['tokenized_title'] = df_final['tokenized_title'].apply(lambda x: ','.join(x))\n",
    "df_final.reset_index(drop=True)"
   ]
  },
  {
   "cell_type": "code",
   "execution_count": 42,
   "metadata": {
    "ExecuteTime": {
     "end_time": "2019-06-17T04:58:28.797046Z",
     "start_time": "2019-06-17T04:58:28.764460Z"
    }
   },
   "outputs": [
    {
     "data": {
      "text/html": [
       "<div>\n",
       "<style scoped>\n",
       "    .dataframe tbody tr th:only-of-type {\n",
       "        vertical-align: middle;\n",
       "    }\n",
       "\n",
       "    .dataframe tbody tr th {\n",
       "        vertical-align: top;\n",
       "    }\n",
       "\n",
       "    .dataframe thead th {\n",
       "        text-align: right;\n",
       "    }\n",
       "</style>\n",
       "<table border=\"1\" class=\"dataframe\">\n",
       "  <thead>\n",
       "    <tr style=\"text-align: right;\">\n",
       "      <th></th>\n",
       "      <th>title</th>\n",
       "      <th>date</th>\n",
       "      <th>category</th>\n",
       "      <th>content</th>\n",
       "      <th>company</th>\n",
       "      <th>date_tmp</th>\n",
       "      <th>tokenized_doc</th>\n",
       "      <th>tokenized_title</th>\n",
       "      <th>cat_selected</th>\n",
       "      <th>topic</th>\n",
       "      <th>represent</th>\n",
       "    </tr>\n",
       "  </thead>\n",
       "  <tbody>\n",
       "    <tr>\n",
       "      <th>0</th>\n",
       "      <td>이니스프리, 에코손수건 10주년 캠페인…한정판 제품도 출시</td>\n",
       "      <td>2019-06-03</td>\n",
       "      <td>경제&gt;서비스_쇼핑,경제&gt;유통,경제&gt;산업_기업</td>\n",
       "      <td>[아시아경제 차민영 기자] 자연주의 화장품 브랜드 이니스프리가 '2019 에코손수건...</td>\n",
       "      <td>아시아경제</td>\n",
       "      <td>737213</td>\n",
       "      <td>아시아,경제,자연,주의,화장품,브랜드,이니스프리,에코,손수건,캠페인,론칭,한정판,제...</td>\n",
       "      <td>이니스프리,에코,손수건,주년,캠페인,한정판,제품,출시</td>\n",
       "      <td>경제</td>\n",
       "      <td>-1</td>\n",
       "      <td>False</td>\n",
       "    </tr>\n",
       "    <tr>\n",
       "      <th>1</th>\n",
       "      <td>이니스프리, '포레스트 포맨 올인원 에센스' 모델에 블락비 피오 발탁</td>\n",
       "      <td>2019-05-31</td>\n",
       "      <td>경제&gt;서비스_쇼핑,경제&gt;유통,경제&gt;산업_기업</td>\n",
       "      <td>[아시아경제 차민영 기자] 자연주의 화장품 브랜드 이니스프리가 그룹 블락비 멤버 피...</td>\n",
       "      <td>아시아경제</td>\n",
       "      <td>737210</td>\n",
       "      <td>아시아,경제,자연,주의,화장품,브랜드,이니스프리,그룹,블락비,멤버,피오,포레스트,포...</td>\n",
       "      <td>이니스프리,포레스트,포맨,올인원,에센스,모델,블락비,피오,발탁</td>\n",
       "      <td>경제</td>\n",
       "      <td>-1</td>\n",
       "      <td>False</td>\n",
       "    </tr>\n",
       "    <tr>\n",
       "      <th>4</th>\n",
       "      <td>이니스프리, #여름파데 1524 캠페인 실시 \"파운데이션 바꾸면 지원금\"</td>\n",
       "      <td>2019-05-20</td>\n",
       "      <td>경제&gt;유통,경제&gt;서비스_쇼핑,문화&gt;요리_여행</td>\n",
       "      <td>[아시아경제 차민영 기자] 자연주의 화장품 브랜드 이니스프리가 베이스 메이크업이 고...</td>\n",
       "      <td>아시아경제</td>\n",
       "      <td>737199</td>\n",
       "      <td>아시아,경제,자연,주의,화장품,브랜드,이니스프리,베이스,메이크업,고민,여름철,여름,...</td>\n",
       "      <td>이니스프리,여름,캠페인,실시,파운데이션,지원,금</td>\n",
       "      <td>경제</td>\n",
       "      <td>-1</td>\n",
       "      <td>False</td>\n",
       "    </tr>\n",
       "    <tr>\n",
       "      <th>5</th>\n",
       "      <td>이니스프리 신상 화장품 콘셉트는 '고객'…수분·진정 솔루션 메이드바이유</td>\n",
       "      <td>2019-05-16</td>\n",
       "      <td>경제&gt;서비스_쇼핑,경제&gt;유통,경제&gt;산업_기업</td>\n",
       "      <td>[아시아경제 차민영 기자] 자연주의 화장품 브랜드 이니스프리가 콘셉트 기획부터 제형...</td>\n",
       "      <td>아시아경제</td>\n",
       "      <td>737195</td>\n",
       "      <td>아시아,경제,자연,주의,화장품,브랜드,이니스프리,콘셉트,기획,개발,고객,힘,탄생,스...</td>\n",
       "      <td>이니스프리,신상,화장품,콘셉트,고객,수분,진정,솔루션,메이드,바이,유</td>\n",
       "      <td>경제</td>\n",
       "      <td>-1</td>\n",
       "      <td>False</td>\n",
       "    </tr>\n",
       "    <tr>\n",
       "      <th>6</th>\n",
       "      <td>'이니스프리' 빅 세일, 최대 65% 혜택받으세요</td>\n",
       "      <td>2019-05-15</td>\n",
       "      <td>경제&gt;서비스_쇼핑,경제&gt;유통,경제&gt;산업_기업</td>\n",
       "      <td>화장품 브랜드 이니스프리에서 빅 세일을 시작해 많은 관심을 받고 있다.\\r\\n15일...</td>\n",
       "      <td>광주일보</td>\n",
       "      <td>737194</td>\n",
       "      <td>화장품,브랜드,이니스프리,빅,시작,관심,이니스프리,날,할인,행사,진행,해당,기간,이...</td>\n",
       "      <td>이니스프리,빅,일,최대,혜택</td>\n",
       "      <td>경제</td>\n",
       "      <td>0</td>\n",
       "      <td>True</td>\n",
       "    </tr>\n",
       "    <tr>\n",
       "      <th>7</th>\n",
       "      <td>이니스프리, 5000원 섀도우를 1700원에? 15일부터 최대 65% '빅세일'</td>\n",
       "      <td>2019-05-15</td>\n",
       "      <td>경제&gt;산업_기업,경제&gt;서비스_쇼핑,경제&gt;유통</td>\n",
       "      <td>이니스프리가 5월 15일 수요일부터 18일 토요일까지 3일간 최대 65%까지 할인하...</td>\n",
       "      <td>광주일보</td>\n",
       "      <td>737194</td>\n",
       "      <td>이니스프리,수요일,토요일,인하,빅세일,진행,이니스프리,인기,품목,마이,아이섀도우,마...</td>\n",
       "      <td>이니스프리,원,섀도우,원,부터,최대,빅세일</td>\n",
       "      <td>경제</td>\n",
       "      <td>-1</td>\n",
       "      <td>False</td>\n",
       "    </tr>\n",
       "    <tr>\n",
       "      <th>8</th>\n",
       "      <td>이니스프리 ‘빅세일’ 유의사항…‘할인前 판매가 5만원’ 할인혜택 기준!</td>\n",
       "      <td>2019-05-15</td>\n",
       "      <td>경제&gt;서비스_쇼핑,경제&gt;유통,경제&gt;산업_기업</td>\n",
       "      <td>아모레퍼시픽 계열 화장품 브랜드 이니스프리가 역대급 혜택을 내건 ‘빅세일’을 오는 ...</td>\n",
       "      <td>아주경제</td>\n",
       "      <td>737194</td>\n",
       "      <td>아모레퍼시픽,계열,화장품,브랜드,이니스프리,역대,급,혜택,건,빅세일,진행,품목,할인...</td>\n",
       "      <td>이니스프리,빅세일,유의사항,할인,판매,만원,할인,혜택,기준</td>\n",
       "      <td>경제</td>\n",
       "      <td>0</td>\n",
       "      <td>False</td>\n",
       "    </tr>\n",
       "    <tr>\n",
       "      <th>9</th>\n",
       "      <td>이니스프리, 최대 65% 할인 이벤트…40% 할인쿠폰도 선착순 지급</td>\n",
       "      <td>2019-05-15</td>\n",
       "      <td>경제&gt;서비스_쇼핑,경제&gt;유통,경제&gt;산업_기업</td>\n",
       "      <td>15일 이니스프리 PC 홈페이지 내 이벤트 페이지 갈무리.\\r\\n아모레퍼시픽의 로드...</td>\n",
       "      <td>세계일보</td>\n",
       "      <td>737194</td>\n",
       "      <td>이니스프리,홈페이지,이벤트,페이지,갈무리,아모레퍼시픽,로드,샵,화장품,브랜드,이니스...</td>\n",
       "      <td>이니스프리,최대,할인,이벤트,할인,쿠폰,선착순,지급</td>\n",
       "      <td>경제</td>\n",
       "      <td>0</td>\n",
       "      <td>False</td>\n",
       "    </tr>\n",
       "    <tr>\n",
       "      <th>10</th>\n",
       "      <td>이니스프리 '벡세일'…18일까지 최대 65% 할인</td>\n",
       "      <td>2019-05-15</td>\n",
       "      <td>경제&gt;서비스_쇼핑,경제&gt;유통,경제&gt;산업_기업</td>\n",
       "      <td>이니스프리 홈페이지 캡처.\\r\\n\\r\\n\\r\\n\\r\\n화장품 브랜드 이니스프리가 '...</td>\n",
       "      <td>부산일보</td>\n",
       "      <td>737194</td>\n",
       "      <td>이니스프리,홈페이지,캡처,화장품,브랜드,이니스프리,빅세일,진행,이니스프리,날,할인,...</td>\n",
       "      <td>이니스프리,벡세일,까지,최대,할인</td>\n",
       "      <td>경제</td>\n",
       "      <td>0</td>\n",
       "      <td>False</td>\n",
       "    </tr>\n",
       "    <tr>\n",
       "      <th>11</th>\n",
       "      <td>이니스프리, 40% 할인쿠폰 검색 통해서만 다운로드 가능</td>\n",
       "      <td>2019-05-15</td>\n",
       "      <td>경제&gt;유통,IT_과학&gt;인터넷_SNS,경제&gt;산업_기업</td>\n",
       "      <td>이니스프리가 5월 빅세일을 시작한다고 밝힌 가운데, 모바일 네이버 검색을 통해서만 ...</td>\n",
       "      <td>경인일보</td>\n",
       "      <td>737194</td>\n",
       "      <td>이니스프리,빅세일,시작,가운데,모바일,네이버,검색,만,할인,쿠폰,화제,진행,이니스프...</td>\n",
       "      <td>이니스프리,할인,쿠폰,검색,통해,만,다운로드,가능</td>\n",
       "      <td>경제</td>\n",
       "      <td>0</td>\n",
       "      <td>False</td>\n",
       "    </tr>\n",
       "    <tr>\n",
       "      <th>12</th>\n",
       "      <td>아침부터 이니스프리에 무슨 일?</td>\n",
       "      <td>2019-05-15</td>\n",
       "      <td>경제&gt;서비스_쇼핑,IT_과학&gt;인터넷_SNS,경제&gt;산업_기업</td>\n",
       "      <td>[머니투데이 양성희 기자] [오늘부터 4일간 빅세일…이니스프리 검색하면 40% 할인...</td>\n",
       "      <td>머니투데이</td>\n",
       "      <td>737194</td>\n",
       "      <td>머니투데이,빅세일,이니스프리,검색,할인,쿠폰,이니스프리,빅세일,이벤트,이미지,사진,...</td>\n",
       "      <td>아침,부터,이니스프리,무슨,일</td>\n",
       "      <td>경제</td>\n",
       "      <td>0</td>\n",
       "      <td>False</td>\n",
       "    </tr>\n",
       "    <tr>\n",
       "      <th>13</th>\n",
       "      <td>이니스프리 `빅세일` 4일간 최대 65% 할인 혜택</td>\n",
       "      <td>2019-05-15</td>\n",
       "      <td>경제&gt;서비스_쇼핑,경제&gt;유통,경제&gt;산업_기업</td>\n",
       "      <td>화장품 브랜드 이니스프리가 역대급 혜택을 제공하는 '빅세일'을 진행한다.\\r\\n15...</td>\n",
       "      <td>매일경제</td>\n",
       "      <td>737194</td>\n",
       "      <td>화장품,브랜드,이니스프리,역대,급,혜택,제공,빅세일,진행,이니스프리,날,할인,행사,...</td>\n",
       "      <td>이니스프리,빅세일,간,최대,할인,혜택</td>\n",
       "      <td>경제</td>\n",
       "      <td>0</td>\n",
       "      <td>False</td>\n",
       "    </tr>\n",
       "    <tr>\n",
       "      <th>14</th>\n",
       "      <td>[종합] 이니스프리 세일, 18일까지 최대 65% ‘역대급 세일’</td>\n",
       "      <td>2019-05-15</td>\n",
       "      <td>경제&gt;서비스_쇼핑,경제&gt;유통,경제&gt;산업_기업</td>\n",
       "      <td>화장품 브랜드 이니스프리가 역대급 세일을 진행한다.\\r\\n15일 이니스프리에 다르면...</td>\n",
       "      <td>서울신문</td>\n",
       "      <td>737194</td>\n",
       "      <td>화장품,브랜드,이니스프리,역대,급,진행,이니스프리,날,할인,행사,진행,해당,기간,이...</td>\n",
       "      <td>종합,이니스프리,일,까지,최대,역대,급,일</td>\n",
       "      <td>경제</td>\n",
       "      <td>0</td>\n",
       "      <td>False</td>\n",
       "    </tr>\n",
       "    <tr>\n",
       "      <th>15</th>\n",
       "      <td>이니스프리, 18일까지 최대 65% 빅세일</td>\n",
       "      <td>2019-05-15</td>\n",
       "      <td>경제&gt;서비스_쇼핑,경제&gt;유통,경제&gt;산업_기업</td>\n",
       "      <td>이니스프리가 18일까지 최대 65% 세일 이벤트를 진행해 사람들의 관심이 높아지고 ...</td>\n",
       "      <td>매일신문</td>\n",
       "      <td>737194</td>\n",
       "      <td>이니스프리,이벤트,진행,사람,관심,이니스프리,공식,한정,빅세일,진행,품목,미만,할인...</td>\n",
       "      <td>이니스프리,까지,최대,빅세일</td>\n",
       "      <td>경제</td>\n",
       "      <td>0</td>\n",
       "      <td>False</td>\n",
       "    </tr>\n",
       "    <tr>\n",
       "      <th>16</th>\n",
       "      <td>이니스프리를 검색하면 어마어마한 혜택이? ‘풍성한 이벤트’</td>\n",
       "      <td>2019-05-15</td>\n",
       "      <td>IT_과학&gt;인터넷_SNS,경제&gt;서비스_쇼핑,경제&gt;산업_기업</td>\n",
       "      <td>\\r\\n\\r\\n\\r\\n이니스프리가 빅세일을 실시한다.\\r\\n \\r\\n화장품 브랜드...</td>\n",
       "      <td>전자신문</td>\n",
       "      <td>737194</td>\n",
       "      <td>이니스프리,빅세일,실시,화장품,브랜드,이니스프리,할인,행사,진행,이벤트,기간,담,을...</td>\n",
       "      <td>이니스프리,검색,어마,어마,혜택,이벤트</td>\n",
       "      <td>경제</td>\n",
       "      <td>0</td>\n",
       "      <td>False</td>\n",
       "    </tr>\n",
       "    <tr>\n",
       "      <th>17</th>\n",
       "      <td>'이니스프리' 최대 65% 빅세일…할인 쿠폰 다운 받는 방법은?</td>\n",
       "      <td>2019-05-15</td>\n",
       "      <td>경제&gt;서비스_쇼핑,경제&gt;유통,경제&gt;산업_기업</td>\n",
       "      <td>이니스프리가 최대 65% 빅세일을 진행한다.\\r\\n\\r\\n15일 이니스프리는 공식 ...</td>\n",
       "      <td>매일신문</td>\n",
       "      <td>737194</td>\n",
       "      <td>이니스프리,빅세일,진행,이니스프리,공식,한정,빅세일,진행,이니스프리,품목,미만,할인...</td>\n",
       "      <td>이니스프리,최대,빅세일,할인,쿠폰,다운,방법</td>\n",
       "      <td>경제</td>\n",
       "      <td>0</td>\n",
       "      <td>False</td>\n",
       "    </tr>\n",
       "    <tr>\n",
       "      <th>18</th>\n",
       "      <td>\"역대급 혜택\"…이니스프리 '빅세일' 40% 할인받는 방법은?(종합)</td>\n",
       "      <td>2019-05-15</td>\n",
       "      <td>경제&gt;서비스_쇼핑,경제&gt;유통,경제&gt;산업_기업</td>\n",
       "      <td>유명 화장품 브랜드 이니스프리가 역대급 혜택을 내건 ‘빅세일’을 진행하면서 관심이 ...</td>\n",
       "      <td>서울경제</td>\n",
       "      <td>737194</td>\n",
       "      <td>유명,화장품,브랜드,이니스프리,역대,급,혜택,건,빅세일,진행,관심,모,이니스프리,날...</td>\n",
       "      <td>역대,급,혜택,이니스프리,빅세일,할인,방법,종합</td>\n",
       "      <td>경제</td>\n",
       "      <td>0</td>\n",
       "      <td>False</td>\n",
       "    </tr>\n",
       "    <tr>\n",
       "      <th>19</th>\n",
       "      <td>이니스프리 4일간 빅세일(Big sale), 전품목 40% 쿠폰 받는 방법은?</td>\n",
       "      <td>2019-05-15</td>\n",
       "      <td>경제&gt;서비스_쇼핑,경제&gt;산업_기업,IT_과학&gt;인터넷_SNS</td>\n",
       "      <td>15일 이니스프리에서 4일간의 세일판매를 개시하면서 많은 네티즌들의 관심이 쏠리고 ...</td>\n",
       "      <td>매일신문</td>\n",
       "      <td>737194</td>\n",
       "      <td>이니스프리,간의,판매,개시,네티즌,관심,이니스프리,구매,시,품목,미만,할인,해택,제...</td>\n",
       "      <td>이니스프리,간,빅세일,전,품목,쿠폰,방법</td>\n",
       "      <td>경제</td>\n",
       "      <td>0</td>\n",
       "      <td>False</td>\n",
       "    </tr>\n",
       "    <tr>\n",
       "      <th>21</th>\n",
       "      <td>내 피부에 맞췄다…이니스프리, ‘퍼스널 원크림’ 출시</td>\n",
       "      <td>2019-05-13</td>\n",
       "      <td>경제&gt;유통,IT_과학&gt;과학,IT_과학&gt;모바일</td>\n",
       "      <td>[디지털타임스 김아름 기자] 이니스프리가 빅데이터를 분석해 개발한 개인 맞춤형 크림...</td>\n",
       "      <td>디지털타임스</td>\n",
       "      <td>737192</td>\n",
       "      <td>디지털타임스,이니스프리,빅데이터,분석,개발,맞춤,크림,퍼스,널,크림,출시,퍼스,널,...</td>\n",
       "      <td>내,피부,이니스프리,퍼스,널,원,크림,출시</td>\n",
       "      <td>경제</td>\n",
       "      <td>-1</td>\n",
       "      <td>False</td>\n",
       "    </tr>\n",
       "    <tr>\n",
       "      <th>22</th>\n",
       "      <td>이니스프리, 빅데이터 활용 온라인 전용템 '퍼스널 원크림' 출시</td>\n",
       "      <td>2019-05-13</td>\n",
       "      <td>경제&gt;유통,경제&gt;산업_기업,경제&gt;서비스_쇼핑</td>\n",
       "      <td>[아시아경제 차민영 기자] 자연주의 화장품 브랜드 이니스프리가 100만 빅데이터를 ...</td>\n",
       "      <td>아시아경제</td>\n",
       "      <td>737192</td>\n",
       "      <td>아시아,경제,자연,주의,화장품,브랜드,이니스프리,만,빅데이터,가지,퍼스,널,성분,솔...</td>\n",
       "      <td>이니스프리,빅데이터,활용,온라인,전용,템,퍼스,널,원,크림,출시</td>\n",
       "      <td>경제</td>\n",
       "      <td>-1</td>\n",
       "      <td>False</td>\n",
       "    </tr>\n",
       "    <tr>\n",
       "      <th>23</th>\n",
       "      <td>이니스프리, 빅데이터 기반 '고객 맞춤' 스킨케어 솔루션 선보인다</td>\n",
       "      <td>2019-05-09</td>\n",
       "      <td>IT_과학&gt;인터넷_SNS,경제&gt;서비스_쇼핑,경제&gt;유통</td>\n",
       "      <td>[아시아경제 차민영 기자] 자연주의 화장품 이니스프리가 작년 카이스트 전기·전자공학...</td>\n",
       "      <td>아시아경제</td>\n",
       "      <td>737188</td>\n",
       "      <td>아시아,경제,자연,주의,화장품,이니스프리,작년,카이스트,전기,전자공학,부,김대식,교...</td>\n",
       "      <td>이니스프리,빅데이터,기반,고객,맞춤,스킨,케어,솔루션</td>\n",
       "      <td>경제</td>\n",
       "      <td>-1</td>\n",
       "      <td>False</td>\n",
       "    </tr>\n",
       "    <tr>\n",
       "      <th>25</th>\n",
       "      <td>이니스프리, 수퍼 화산송이 클레이 무스 마스크 2X 출시</td>\n",
       "      <td>2019-05-01</td>\n",
       "      <td>경제&gt;유통,경제&gt;서비스_쇼핑,경제&gt;산업_기업</td>\n",
       "      <td>[디지털타임스 김아름 기자] 이니스프리가 모공 속 피지 및 미세먼지까지 강력하게 제...</td>\n",
       "      <td>디지털타임스</td>\n",
       "      <td>737180</td>\n",
       "      <td>디지털타임스,이니스프리,모공,속,피지,미세먼지,강력,제거,해주,수퍼,화산,송이,클레...</td>\n",
       "      <td>이니스프리,수퍼,화산,송이,클레,무스,마스크,출시</td>\n",
       "      <td>경제</td>\n",
       "      <td>6</td>\n",
       "      <td>True</td>\n",
       "    </tr>\n",
       "    <tr>\n",
       "      <th>26</th>\n",
       "      <td>이니스프리, '미세먼지 방어템' 수퍼 화산송이 클레이 무스 마스크 출시</td>\n",
       "      <td>2019-05-01</td>\n",
       "      <td>경제&gt;유통,경제&gt;서비스_쇼핑,경제&gt;산업_기업</td>\n",
       "      <td>[아시아경제 차민영 기자] 자연주의 화장품 브랜드 이니스프리가 모공 속 피지와 미세...</td>\n",
       "      <td>아시아경제</td>\n",
       "      <td>737180</td>\n",
       "      <td>아시아,경제,자연,주의,화장품,브랜드,이니스프리,모공,속,피지,미세먼지,강력,제거,...</td>\n",
       "      <td>이니스프리,미세먼지,방어,템,수퍼,화산,송이,클레,무스,마스크,출시</td>\n",
       "      <td>경제</td>\n",
       "      <td>6</td>\n",
       "      <td>False</td>\n",
       "    </tr>\n",
       "    <tr>\n",
       "      <th>27</th>\n",
       "      <td>이니스프리, 지구의 날 최대 36% 할인행사</td>\n",
       "      <td>2019-04-22</td>\n",
       "      <td>경제&gt;서비스_쇼핑,경제&gt;산업_기업,경제&gt;유통</td>\n",
       "      <td>자연주의 화장품 이니스프리가 22일 '지구의 날'을 맞아 최대 36% 할인 행사 및...</td>\n",
       "      <td>매일경제</td>\n",
       "      <td>737171</td>\n",
       "      <td>자연,주의,화장품,이니스프리,지구,날,할인,행사,다양,친환경,이벤트,마련,일회용품,...</td>\n",
       "      <td>이니스프리,지구,날,최대,할인,행사</td>\n",
       "      <td>경제</td>\n",
       "      <td>-1</td>\n",
       "      <td>False</td>\n",
       "    </tr>\n",
       "    <tr>\n",
       "      <th>28</th>\n",
       "      <td>이니스프리, 13일까지 ‘멤버십 데이’ 진행</td>\n",
       "      <td>2019-04-11</td>\n",
       "      <td>경제&gt;유통,경제&gt;서비스_쇼핑,경제&gt;산업_기업</td>\n",
       "      <td>[디지털타임스 김아름 기자] 이니스프리가 11일부터 13일까지 3일간 이니스프리 멤...</td>\n",
       "      <td>디지털타임스</td>\n",
       "      <td>737160</td>\n",
       "      <td>디지털타임스,이니스프리,이니스프리,멤버십,일인,멤버십,데이,진행,멤버십,데이,이니스...</td>\n",
       "      <td>이니스프리,까지,멤버십,데이,진행</td>\n",
       "      <td>경제</td>\n",
       "      <td>-1</td>\n",
       "      <td>False</td>\n",
       "    </tr>\n",
       "    <tr>\n",
       "      <th>29</th>\n",
       "      <td>이니스프리, 4월 멤버십 데이 '묘한세일' 스마트 드로잉 2천900원?</td>\n",
       "      <td>2019-04-11</td>\n",
       "      <td>경제&gt;서비스_쇼핑,경제&gt;산업_기업,문화&gt;문화일반</td>\n",
       "      <td>이니스프리가 4월 멤버십 데이 '묘한세일' 행사를 진행한다.\\r\\n\\r\\n코스메틱 ...</td>\n",
       "      <td>경인일보</td>\n",
       "      <td>737160</td>\n",
       "      <td>이니스프리,멤버십,데이,묘,행사,진행,코스메틱,브랜드,이니스프리,멤버십,데이,묘,진...</td>\n",
       "      <td>이니스프리,멤버십,데이,묘,일,스마트,드로잉,천원</td>\n",
       "      <td>경제</td>\n",
       "      <td>-1</td>\n",
       "      <td>False</td>\n",
       "    </tr>\n",
       "    <tr>\n",
       "      <th>33</th>\n",
       "      <td>이니스프리, 탈모증상 완화 돕는 '마이헤어레시피 로스케어' 2종 출시</td>\n",
       "      <td>2019-03-21</td>\n",
       "      <td>경제&gt;유통,경제&gt;서비스_쇼핑</td>\n",
       "      <td>[아시아경제 최신혜 기자] 이니스프리가 현대인의 탈모 증상 완화에 도움을 주는 기능...</td>\n",
       "      <td>아시아경제</td>\n",
       "      <td>737139</td>\n",
       "      <td>아시아,경제,이니스프리,현대인,탈모,증상,완화,도움,기능,라인,마이,헤어,레시피,로...</td>\n",
       "      <td>이니스프리,탈모증,상,완화,마이,헤어,레시피,로스케,종,출시</td>\n",
       "      <td>경제</td>\n",
       "      <td>-1</td>\n",
       "      <td>False</td>\n",
       "    </tr>\n",
       "    <tr>\n",
       "      <th>34</th>\n",
       "      <td>‘이니스프리’ 제주 왕벚꽃 라인 첫 세일 “최대 6,000원 할인”, 더샘은 최대 50%</td>\n",
       "      <td>2019-03-14</td>\n",
       "      <td>경제&gt;서비스_쇼핑,경제&gt;유통,경제&gt;산업_기업</td>\n",
       "      <td>‘이니스프리’ 제주 왕벚꽃 라인 첫 세일 “최대 6,000원 할인”, 더샘은 최대 ...</td>\n",
       "      <td>서울경제</td>\n",
       "      <td>737132</td>\n",
       "      <td>이니스프리,제주,왕,벚꽃,라인,첫,할인,더샘,이니스프리,멤버십,일인,멤버십,데이,진...</td>\n",
       "      <td>이니스프리,제주,왕,벚꽃,라인,첫,일,최대,원,할인,더샘,최대</td>\n",
       "      <td>경제</td>\n",
       "      <td>2</td>\n",
       "      <td>True</td>\n",
       "    </tr>\n",
       "    <tr>\n",
       "      <th>35</th>\n",
       "      <td>이니스프리, 3월 멤버십 데이 진행 '16일까지 최대 50% 할인'</td>\n",
       "      <td>2019-03-14</td>\n",
       "      <td>경제&gt;서비스_쇼핑,경제&gt;유통,경제&gt;산업_기업</td>\n",
       "      <td>이니스프리가 3월 멤버십 데이 행사를 시작한다.\\r\\n이니스프리는 14일부터 오는 ...</td>\n",
       "      <td>경인일보</td>\n",
       "      <td>737132</td>\n",
       "      <td>이니스프리,멤버십,데이,행사,시작,이니스프리,행사,진행,행사,그린티,씨드,오일,슈퍼...</td>\n",
       "      <td>이니스프리,멤버십,데이,진행,까지,최대,할인</td>\n",
       "      <td>경제</td>\n",
       "      <td>-1</td>\n",
       "      <td>False</td>\n",
       "    </tr>\n",
       "    <tr>\n",
       "      <th>36</th>\n",
       "      <td>이니스프리, 3월 멤버십데이…30% 할인·단돈 100원 구매 이벤트</td>\n",
       "      <td>2019-03-14</td>\n",
       "      <td>경제&gt;서비스_쇼핑,경제&gt;유통,경제&gt;산업_기업</td>\n",
       "      <td>[아시아경제 이선애 기자] 이니스프리가 14일부터 16일까지 3일간 이니스프리 멤버...</td>\n",
       "      <td>아시아경제</td>\n",
       "      <td>737132</td>\n",
       "      <td>아시아,경제,이니스프리,이니스프리,멤버십,일인,멤버십,데이,진행,멤버십,데이,이니스...</td>\n",
       "      <td>이니스프리,멤버십,데이,할인,단돈,원,구매,이벤트</td>\n",
       "      <td>경제</td>\n",
       "      <td>2</td>\n",
       "      <td>False</td>\n",
       "    </tr>\n",
       "    <tr>\n",
       "      <th>...</th>\n",
       "      <td>...</td>\n",
       "      <td>...</td>\n",
       "      <td>...</td>\n",
       "      <td>...</td>\n",
       "      <td>...</td>\n",
       "      <td>...</td>\n",
       "      <td>...</td>\n",
       "      <td>...</td>\n",
       "      <td>...</td>\n",
       "      <td>...</td>\n",
       "      <td>...</td>\n",
       "    </tr>\n",
       "    <tr>\n",
       "      <th>208</th>\n",
       "      <td>이니스프리, 다음달 16일 ‘플레이그린 페스티벌 2017' 개최</td>\n",
       "      <td>2017-08-09</td>\n",
       "      <td>문화&gt;전시_공연</td>\n",
       "      <td>아모레퍼시픽의 자연주의 화장품 브랜드 이니스프리가 다음달 16일 서울 용산가족공원에...</td>\n",
       "      <td>파이낸셜뉴스</td>\n",
       "      <td>736550</td>\n",
       "      <td>아모레퍼시픽,자연,주의,화장품,브랜드,이니스프리,다음,서울,용산,가족,공원,그린,라...</td>\n",
       "      <td>이니스프리,다음,달,플레이,그린,페스티벌,개최</td>\n",
       "      <td>문화</td>\n",
       "      <td>0</td>\n",
       "      <td>False</td>\n",
       "    </tr>\n",
       "    <tr>\n",
       "      <th>210</th>\n",
       "      <td>이니스프리, ‘플레이그린 페스티벌 2017' 개최</td>\n",
       "      <td>2017-08-09</td>\n",
       "      <td>문화&gt;전시_공연</td>\n",
       "      <td>[아시아경제 조호윤 기자]이니스프리는 다음달 16일 서울 용산가족공원에서 그린라이프...</td>\n",
       "      <td>아시아경제</td>\n",
       "      <td>736550</td>\n",
       "      <td>아시아,경제,이니스프리,다음,서울,용산,가족,공원,그린,라이프,축제,플레이,그린,페...</td>\n",
       "      <td>이니스프리,플레이,그린,페스티벌,개최</td>\n",
       "      <td>문화</td>\n",
       "      <td>0</td>\n",
       "      <td>False</td>\n",
       "    </tr>\n",
       "    <tr>\n",
       "      <th>232</th>\n",
       "      <td>워너원 합숙시작...첫 번째 모델계약은 ‘이니스프리 배고파요팩’</td>\n",
       "      <td>2017-06-19</td>\n",
       "      <td>문화&gt;방송_연예</td>\n",
       "      <td>워너원 멤버들이 합숙을 시작한 가운데, 첫 모델계약으로 이니스프리 모델로 채택됐다....</td>\n",
       "      <td>전자신문</td>\n",
       "      <td>736499</td>\n",
       "      <td>워,버들,합숙,시작,가운데,첫,모델,계약,이니스프리,모델,채택,워,멤버,소속사,엔터...</td>\n",
       "      <td>워,원,합숙,시작,첫,모델,계약,이니스프리,팩</td>\n",
       "      <td>문화</td>\n",
       "      <td>-1</td>\n",
       "      <td>False</td>\n",
       "    </tr>\n",
       "    <tr>\n",
       "      <th>20</th>\n",
       "      <td>이니스프리, 검색하면 전품목 40% 할인쿠폰 제공</td>\n",
       "      <td>2019-05-15</td>\n",
       "      <td>IT_과학&gt;인터넷_SNS,IT_과학&gt;모바일</td>\n",
       "      <td>\\r\\n\\r\\n \\r\\n\\r\\n이니스프리가 역대급 빅세일을 시작한다.\\r\\n\\r\\...</td>\n",
       "      <td>경인일보</td>\n",
       "      <td>737194</td>\n",
       "      <td>이니스프리,역대,급,빅세일,시작,코스메틱,브랜드,이니스프리,공식,초록,창,이니스프리...</td>\n",
       "      <td>이니스프리,검색,전,품목,할인,쿠폰,제공</td>\n",
       "      <td>IT_과학</td>\n",
       "      <td>-1</td>\n",
       "      <td>True</td>\n",
       "    </tr>\n",
       "    <tr>\n",
       "      <th>155</th>\n",
       "      <td>이베이코리아, 이니스프리와 O2O 통합 마케팅</td>\n",
       "      <td>2018-01-29</td>\n",
       "      <td>IT_과학&gt;모바일</td>\n",
       "      <td>이베이코리아는 지난 25일 서울 역삼동 사옥에서 이니스프리와 기업제휴 파트너십(JB...</td>\n",
       "      <td>디지털타임스</td>\n",
       "      <td>736723</td>\n",
       "      <td>이베이,코리아,서울,역삼동,사옥,이니스프리,기업,제휴,파트너,십,날,협약식,항일,이...</td>\n",
       "      <td>이베이,코리아,이니스프리,통합,마케팅</td>\n",
       "      <td>IT_과학</td>\n",
       "      <td>-1</td>\n",
       "      <td>False</td>\n",
       "    </tr>\n",
       "    <tr>\n",
       "      <th>197</th>\n",
       "      <td>이니스프리, 본사에 인형뽑기 기계 설치한 이유</td>\n",
       "      <td>2017-08-30</td>\n",
       "      <td>IT_과학&gt;인터넷_SNS</td>\n",
       "      <td>{IL01}\"회사 로비에 웬 인형뽑기 기계가?\"\\r\\n\\r\\n아모레퍼시픽 브랜드숍 ...</td>\n",
       "      <td>머니투데이</td>\n",
       "      <td>736571</td>\n",
       "      <td>회사,로비,웬,인형,뽑기,기계,아모레퍼시픽,브랜드,숍,이니스프리,본사,어서,입구,바...</td>\n",
       "      <td>이니스프리,본사,인형,뽑기,기계,설치,이유</td>\n",
       "      <td>IT_과학</td>\n",
       "      <td>-1</td>\n",
       "      <td>False</td>\n",
       "    </tr>\n",
       "    <tr>\n",
       "      <th>198</th>\n",
       "      <td>이니스프리, 대학생 마케터 ‘그린어스 18기’ 모집</td>\n",
       "      <td>2017-08-23</td>\n",
       "      <td>IT_과학&gt;IT_과학일반</td>\n",
       "      <td>아모레퍼시픽의 자연주의 화장품 브랜드 이니스프리가 오는 9월 5일까지 대학생 마케터...</td>\n",
       "      <td>파이낸셜뉴스</td>\n",
       "      <td>736564</td>\n",
       "      <td>아모레퍼시픽,자연,주의,화장품,브랜드,이니스프리,대학생,마케터,그린,어스,모집,그린...</td>\n",
       "      <td>이니스프리,대학생,마케터,그린,어스,기,모집</td>\n",
       "      <td>IT_과학</td>\n",
       "      <td>0</td>\n",
       "      <td>True</td>\n",
       "    </tr>\n",
       "    <tr>\n",
       "      <th>199</th>\n",
       "      <td>이니스프리, 대학생 마케터 ‘그린어스 18기’ 모집</td>\n",
       "      <td>2017-08-23</td>\n",
       "      <td>IT_과학&gt;IT_과학일반</td>\n",
       "      <td>[아시아경제 조호윤 기자]이니스프리는 다음달 5일까지 대학생 마케터 ‘그린어스 18...</td>\n",
       "      <td>아시아경제</td>\n",
       "      <td>736564</td>\n",
       "      <td>아시아,경제,이니스프리,다음,대학생,마케터,그린,어스,모집,그린,어스,이니스프리,대...</td>\n",
       "      <td>이니스프리,대학생,마케터,그린,어스,기,모집</td>\n",
       "      <td>IT_과학</td>\n",
       "      <td>0</td>\n",
       "      <td>False</td>\n",
       "    </tr>\n",
       "    <tr>\n",
       "      <th>212</th>\n",
       "      <td>이니스프리, 대세 아이돌 '워너원'과 1년 광고 모델 계약</td>\n",
       "      <td>2017-08-04</td>\n",
       "      <td>IT_과학&gt;인터넷_SNS,IT_과학&gt;콘텐츠</td>\n",
       "      <td>아모레퍼시픽 화장품 브랜드숍 이니스프리가 대세 아이돌그룹 '워너원(Wanna One...</td>\n",
       "      <td>머니투데이</td>\n",
       "      <td>736545</td>\n",
       "      <td>아모레퍼시픽,화장품,브랜드,숍,이니스프리,대세,아이돌,그룹,워,과,광고,모델,계약,...</td>\n",
       "      <td>이니스프리,대세,아이돌,워,원,과,광고,모델,계약</td>\n",
       "      <td>IT_과학</td>\n",
       "      <td>0</td>\n",
       "      <td>False</td>\n",
       "    </tr>\n",
       "    <tr>\n",
       "      <th>213</th>\n",
       "      <td>워너원, 이니스프리와 장기계약 맺으며 '슈스 인증'</td>\n",
       "      <td>2017-08-04</td>\n",
       "      <td>IT_과학&gt;모바일,IT_과학&gt;콘텐츠,IT_과학&gt;인터넷_SNS</td>\n",
       "      <td>워너원이 이니스프리와 장기 모델 계약을 맺는다.\\r\\n\\r\\n이니스프리는 향후 1년...</td>\n",
       "      <td>서울경제</td>\n",
       "      <td>736545</td>\n",
       "      <td>워,이니스프리,장기,모델,계약,이니스프리,이니스프리,제품,캠페인,모델,워,기용,광고...</td>\n",
       "      <td>워,원,이니스프리,장기,계약,슈스,인증</td>\n",
       "      <td>IT_과학</td>\n",
       "      <td>0</td>\n",
       "      <td>False</td>\n",
       "    </tr>\n",
       "    <tr>\n",
       "      <th>233</th>\n",
       "      <td>‘프로듀스101 시즌2’ 워너원, 이니스프리 모델 발탁…‘꽃길’행보 시작</td>\n",
       "      <td>2017-06-19</td>\n",
       "      <td>IT_과학&gt;인터넷_SNS</td>\n",
       "      <td>화장품브랜드 이니스프리가 Mnet ‘프로듀스 101 시즌2’의 데뷔팀 워너원(Wan...</td>\n",
       "      <td>서울경제</td>\n",
       "      <td>736499</td>\n",
       "      <td>화장품,브랜드,이니스프리,프로,듀스,시즌,데뷔,팀,워,과,모델,계약,체결,앞,워,이...</td>\n",
       "      <td>프로,듀스,시즌,워,원,이니스프리,모델,발탁,꽃길,행보,시작</td>\n",
       "      <td>IT_과학</td>\n",
       "      <td>0</td>\n",
       "      <td>False</td>\n",
       "    </tr>\n",
       "    <tr>\n",
       "      <th>235</th>\n",
       "      <td>이니스프리, 프로듀스101 시즌2 `워너원` 모델 계약</td>\n",
       "      <td>2017-06-19</td>\n",
       "      <td>IT_과학&gt;인터넷_SNS</td>\n",
       "      <td>이니스프리가 Mnet 프로듀스 101 시즌 2의 데뷔팀 '워너원(Wanna One)...</td>\n",
       "      <td>매일경제</td>\n",
       "      <td>736499</td>\n",
       "      <td>이니스프리,프로,듀스,시즌,데뷔,팀,워,과,모델,계약,체결,앞,워,이니스프리,신제품...</td>\n",
       "      <td>이니스프리,프로,듀스,시즌,워,원,모델,계약</td>\n",
       "      <td>IT_과학</td>\n",
       "      <td>0</td>\n",
       "      <td>False</td>\n",
       "    </tr>\n",
       "    <tr>\n",
       "      <th>274</th>\n",
       "      <td>두산 베어스, 화장품 브랜드 '이니스프리'와 업무 제휴</td>\n",
       "      <td>2017-04-03</td>\n",
       "      <td>IT_과학&gt;인터넷_SNS</td>\n",
       "      <td>두산 베어스가 3일 자연주의 화장품 브랜드 '이니스프리'와 업무 협약을 체결하고 2...</td>\n",
       "      <td>머니투데이</td>\n",
       "      <td>736422</td>\n",
       "      <td>두산,베어스,자연,주의,화장품,브랜드,이니스프리,업무,협약,체결,즌,공동,마케팅,실...</td>\n",
       "      <td>두산,베어스,화장품,브랜드,이니스프리,업무,제휴</td>\n",
       "      <td>IT_과학</td>\n",
       "      <td>0</td>\n",
       "      <td>False</td>\n",
       "    </tr>\n",
       "    <tr>\n",
       "      <th>293</th>\n",
       "      <td>아모레 이니스프리, 대학생 마케터 ‘그린어스 17기’ 모집</td>\n",
       "      <td>2017-02-13</td>\n",
       "      <td>IT_과학&gt;IT_과학일반</td>\n",
       "      <td>이니스프리, 대학생 마케터 ‘그린어스 17기’ 모집\\r\\n'다양한 브랜드 캠페인과 ...</td>\n",
       "      <td>파이낸셜뉴스</td>\n",
       "      <td>736373</td>\n",
       "      <td>이니스프리,대학생,마케터,그린,어스,모집,다양,브랜드,캠페인,뷰티,마케팅,경험,아모...</td>\n",
       "      <td>아모레,이니스프리,대학생,마케터,그린,어스,기,모집</td>\n",
       "      <td>IT_과학</td>\n",
       "      <td>0</td>\n",
       "      <td>False</td>\n",
       "    </tr>\n",
       "    <tr>\n",
       "      <th>294</th>\n",
       "      <td>이니스프리, '그린어스 17기' 모집</td>\n",
       "      <td>2017-02-13</td>\n",
       "      <td>IT_과학&gt;IT_과학일반</td>\n",
       "      <td>올해로 9년째 대학생 마케터 양성 프로그램 운영[아시아경제 조호윤 기자]이니스프리는...</td>\n",
       "      <td>아시아경제</td>\n",
       "      <td>736373</td>\n",
       "      <td>대학생,마케터,양성,프로그램,운영,아시아,경제,이니스프리,다음,대학생,마케터,그린,...</td>\n",
       "      <td>이니스프리,그린,어스,기,모집</td>\n",
       "      <td>IT_과학</td>\n",
       "      <td>0</td>\n",
       "      <td>False</td>\n",
       "    </tr>\n",
       "    <tr>\n",
       "      <th>30</th>\n",
       "      <td>이니스프리, '귀여운 토끼 베니 x 노세범' 컬렉션 출시</td>\n",
       "      <td>2019-04-03</td>\n",
       "      <td>미분류</td>\n",
       "      <td>[머니투데이 마아라 기자] ['국민파우더' 노세범 출시 13주년 기념…재치 있는 1...</td>\n",
       "      <td>머니투데이</td>\n",
       "      <td>737152</td>\n",
       "      <td>머니투데이,국민,파우더,범,출시,주년,기념,재치,가지,응원,메시지,사진,제공,이니스...</td>\n",
       "      <td>이니스프리,귀,여운,토끼,베니,범,컬렉션,출시</td>\n",
       "      <td>미분류</td>\n",
       "      <td>-1</td>\n",
       "      <td>True</td>\n",
       "    </tr>\n",
       "    <tr>\n",
       "      <th>61</th>\n",
       "      <td>이니스프리, 찬바람에 상한 피부 위한 ‘아토 수딩 오인트 스틱 밤’ 출시</td>\n",
       "      <td>2018-12-26</td>\n",
       "      <td>미분류</td>\n",
       "      <td>[아시아경제 최신혜 기자] 이니스프리가 겨울철 찬바람에 자극받은 볼과 입술을 위한 ...</td>\n",
       "      <td>아시아경제</td>\n",
       "      <td>737054</td>\n",
       "      <td>아시아,경제,이니스프리,겨울철,찬,바람,자극,볼,입술,아토,수딩,오인,트,스틱,밤,...</td>\n",
       "      <td>이니스프리,찬,바람,상한,피부,위,아토,수딩,오인,트,스틱,밤,출시</td>\n",
       "      <td>미분류</td>\n",
       "      <td>-1</td>\n",
       "      <td>False</td>\n",
       "    </tr>\n",
       "    <tr>\n",
       "      <th>87</th>\n",
       "      <td>이니스프리 11월 마지막 빅 세일! UP TO 50%</td>\n",
       "      <td>2018-11-14</td>\n",
       "      <td>미분류</td>\n",
       "      <td>\\r\\n\\r\\n2018년 이니스프리 마지막 빅세일이 진행된다. \\r\\n\\r\\n \\...</td>\n",
       "      <td>경인일보</td>\n",
       "      <td>737012</td>\n",
       "      <td>이니스프리,마지막,빅세일,진행,이니스프리,회원,누구,겨울,제품,할인,헤어,바디,네일...</td>\n",
       "      <td>이니스프리,마지막,빅,일</td>\n",
       "      <td>미분류</td>\n",
       "      <td>-1</td>\n",
       "      <td>False</td>\n",
       "    </tr>\n",
       "    <tr>\n",
       "      <th>151</th>\n",
       "      <td>이니스프리, 대학생 마케터 ‘그린어스 19기’ 모집</td>\n",
       "      <td>2018-02-14</td>\n",
       "      <td>미분류</td>\n",
       "      <td>3월 4일까지 19기 지원자 접수…총 24명의 그린어스 선발[아시아경제 박미주 기자...</td>\n",
       "      <td>아시아경제</td>\n",
       "      <td>736739</td>\n",
       "      <td>지원,자,접수,명의,그린,어스,선발,아시아,경제,아모레퍼시픽,이니스프리,대학생,마케...</td>\n",
       "      <td>이니스프리,대학생,마케터,그린,어스,기,모집</td>\n",
       "      <td>미분류</td>\n",
       "      <td>-1</td>\n",
       "      <td>False</td>\n",
       "    </tr>\n",
       "    <tr>\n",
       "      <th>156</th>\n",
       "      <td>이베이코리아, 이니스프리와 업무제휴 협약(JBP) 체결</td>\n",
       "      <td>2018-01-26</td>\n",
       "      <td>미분류</td>\n",
       "      <td>이베이코리아는 지난 25일 역삼동 이베이코리아 본사에서 아모레퍼시픽그룹 자연주의 뷰...</td>\n",
       "      <td>동아일보</td>\n",
       "      <td>736720</td>\n",
       "      <td>이베이,코리아,역삼동,이베이,코리아,본사,아모레퍼시픽,그룹,자연,주의,뷰티,브랜드,...</td>\n",
       "      <td>이베이,코리아,이니스프리,업무,제휴,협약,체결</td>\n",
       "      <td>미분류</td>\n",
       "      <td>-1</td>\n",
       "      <td>False</td>\n",
       "    </tr>\n",
       "    <tr>\n",
       "      <th>176</th>\n",
       "      <td>이니스프리, 신개념 파우더룸 '그린 라운지' 6·7호점 오픈</td>\n",
       "      <td>2017-11-06</td>\n",
       "      <td>미분류</td>\n",
       "      <td>[아시아경제 조호윤 기자]아모레퍼시픽의 대표 브랜드 이니스프리는 동대문디자인플라자(...</td>\n",
       "      <td>아시아경제</td>\n",
       "      <td>736639</td>\n",
       "      <td>아시아,경제,아모레퍼시픽,대표,브랜드,이니스프리,디자인,플라자,국민,대학교,이니스프...</td>\n",
       "      <td>이니스프리,신개,념,파우더,룸,그린,라운지,호점,오픈</td>\n",
       "      <td>미분류</td>\n",
       "      <td>-1</td>\n",
       "      <td>False</td>\n",
       "    </tr>\n",
       "    <tr>\n",
       "      <th>218</th>\n",
       "      <td>이니스프리, 그룹 '워너원'과 장기 모델 계약 체결</td>\n",
       "      <td>2017-08-04</td>\n",
       "      <td>미분류</td>\n",
       "      <td>[아시아경제 조호윤 기자]이니스프리는 그룹 ‘워너원’과 장기 모델 계약을 체결했다고...</td>\n",
       "      <td>아시아경제</td>\n",
       "      <td>736545</td>\n",
       "      <td>아시아,경제,이니스프리,그룹,워,과,장기,모델,계약,체결,워,이니스프리,제품,캠페인...</td>\n",
       "      <td>이니스프리,그룹,워,원,과,장기,모델,계약,체결</td>\n",
       "      <td>미분류</td>\n",
       "      <td>-1</td>\n",
       "      <td>False</td>\n",
       "    </tr>\n",
       "    <tr>\n",
       "      <th>267</th>\n",
       "      <td>이니스프리, 내몽고 지역서 나무심기 행사 진행</td>\n",
       "      <td>2017-04-13</td>\n",
       "      <td>미분류</td>\n",
       "      <td>아모레퍼시픽그룹 자연주의 화장품 ‘이니스프리’는 지난 4일부터 사흘간 중국 내몽골 ...</td>\n",
       "      <td>국민일보</td>\n",
       "      <td>736432</td>\n",
       "      <td>아모레퍼시픽,그룹,자연,주의,화장품,이니스프리,사흘,중국,내몽골,동부,지역,통랴,오...</td>\n",
       "      <td>이니스프리,내몽고,지역,나무,심기,행사,진행</td>\n",
       "      <td>미분류</td>\n",
       "      <td>-1</td>\n",
       "      <td>False</td>\n",
       "    </tr>\n",
       "    <tr>\n",
       "      <th>272</th>\n",
       "      <td>이니스프리, 내몽고 지역서 나무심기 행사 펼쳐</td>\n",
       "      <td>2017-04-12</td>\n",
       "      <td>미분류</td>\n",
       "      <td>[아시아경제 조호윤 기자]이니스프리는 중국 내몽고 동부 지역 통랴오시 내 사막 지역...</td>\n",
       "      <td>아시아경제</td>\n",
       "      <td>736431</td>\n",
       "      <td>아시아,경제,이니스프리,중국,내몽고,동부,지역,통랴,오시,사막,지역,나무,심기,행사...</td>\n",
       "      <td>이니스프리,내몽고,지역,나무,심기,행사</td>\n",
       "      <td>미분류</td>\n",
       "      <td>-1</td>\n",
       "      <td>False</td>\n",
       "    </tr>\n",
       "    <tr>\n",
       "      <th>276</th>\n",
       "      <td>두산, 이니스프리와 5년 연속 업무제휴</td>\n",
       "      <td>2017-03-31</td>\n",
       "      <td>미분류</td>\n",
       "      <td>두산 베어스가 31일 화장품 브랜드 이니스프리와 업무 협약을 체결하고, 2017시즌...</td>\n",
       "      <td>머니투데이</td>\n",
       "      <td>736419</td>\n",
       "      <td>두산,베어스,화장품,브랜드,이니스프리,업무,협약,체결,즌,공동,마케팅,실시,두산베어...</td>\n",
       "      <td>두산,이니스프리,연속,업무,제휴</td>\n",
       "      <td>미분류</td>\n",
       "      <td>-1</td>\n",
       "      <td>False</td>\n",
       "    </tr>\n",
       "    <tr>\n",
       "      <th>107</th>\n",
       "      <td>이니스프리, 인도에 1000그루의 생명을 불어넣다</td>\n",
       "      <td>2018-08-13</td>\n",
       "      <td>국제&gt;아시아</td>\n",
       "      <td>이니스프리가 인도 라자스탄 지역에 ‘이니스프리 숲’을 조성했다. [제공=이니스프리]...</td>\n",
       "      <td>헤럴드경제</td>\n",
       "      <td>736919</td>\n",
       "      <td>이니스프리,인도,라자스탄,지역,이니스프리,숲,조성,제공,이니스프리,인도,라자스탄,이...</td>\n",
       "      <td>이니스프리,인도,그루,생명,불어</td>\n",
       "      <td>국제</td>\n",
       "      <td>0</td>\n",
       "      <td>True</td>\n",
       "    </tr>\n",
       "    <tr>\n",
       "      <th>109</th>\n",
       "      <td>이니스프리, 인도 라자스탄에 ‘이니스프리 숲’ 조성</td>\n",
       "      <td>2018-08-13</td>\n",
       "      <td>국제&gt;아시아</td>\n",
       "      <td>인도 북서부 라자스탄주 반수르 지역에 총 1000그루 규모의 ‘이니스프리 숲’ 조성...</td>\n",
       "      <td>아시아경제</td>\n",
       "      <td>736919</td>\n",
       "      <td>인도,북서,부,라자스탄,반수,르,지역,그루,규모,이니스프리,숲,조성,지역,산칼프,타...</td>\n",
       "      <td>이니스프리,인도,라자스탄,이니스프리,숲,조성</td>\n",
       "      <td>국제</td>\n",
       "      <td>0</td>\n",
       "      <td>False</td>\n",
       "    </tr>\n",
       "    <tr>\n",
       "      <th>269</th>\n",
       "      <td>이니스프리, 중국 내몽고 사막에 나무 심어</td>\n",
       "      <td>2017-04-12</td>\n",
       "      <td>국제&gt;국제일반</td>\n",
       "      <td>이니스프리는 중국 내몽고 동부 지역 통랴오시 내 사막 지역에서 나무 심기 행사를 펼...</td>\n",
       "      <td>디지털타임스</td>\n",
       "      <td>736431</td>\n",
       "      <td>이니스프리,중국,내몽고,동부,지역,통랴,오시,사막,지역,나무,심기,행사,나무,심기,...</td>\n",
       "      <td>이니스프리,중국,내몽고,사막,나무</td>\n",
       "      <td>국제</td>\n",
       "      <td>0</td>\n",
       "      <td>False</td>\n",
       "    </tr>\n",
       "    <tr>\n",
       "      <th>270</th>\n",
       "      <td>사막화를 막아라..이니스프리 중국 내몽고 통랴오시 사막에 ‘나무 심기’ 행사 열어</td>\n",
       "      <td>2017-04-12</td>\n",
       "      <td>국제&gt;중국</td>\n",
       "      <td>자연주의 화장품 브랜드 이니스프리는 지난 4일부터 사흘간 중국 내몽고 동부 지역 통...</td>\n",
       "      <td>파이낸셜뉴스</td>\n",
       "      <td>736431</td>\n",
       "      <td>자연,주의,화장품,브랜드,이니스프리,사흘,중국,내몽고,동부,지역,통랴,오시,사막,지...</td>\n",
       "      <td>사막화,이니스프리,중국,내몽고,통랴,오시,사막,나무,심기,행사</td>\n",
       "      <td>국제</td>\n",
       "      <td>0</td>\n",
       "      <td>False</td>\n",
       "    </tr>\n",
       "    <tr>\n",
       "      <th>271</th>\n",
       "      <td>이니스프리, 내몽고 지역서 나무심기 행사 펼쳐</td>\n",
       "      <td>2017-04-12</td>\n",
       "      <td>국제&gt;유럽_EU</td>\n",
       "      <td>이니스프리는 중국 내몽고 동부 지역 통랴오시 내 사막 지역에서 나무 심기 행사를 펼...</td>\n",
       "      <td>서울경제</td>\n",
       "      <td>736431</td>\n",
       "      <td>이니스프리,중국,내몽고,동부,지역,통랴,오시,사막,지역,나무,심기,행사,나무,심기,...</td>\n",
       "      <td>이니스프리,내몽고,지역,나무,심기,행사</td>\n",
       "      <td>국제</td>\n",
       "      <td>0</td>\n",
       "      <td>False</td>\n",
       "    </tr>\n",
       "  </tbody>\n",
       "</table>\n",
       "<p>315 rows × 11 columns</p>\n",
       "</div>"
      ],
      "text/plain": [
       "                                                 title        date  \\\n",
       "0                     이니스프리, 에코손수건 10주년 캠페인…한정판 제품도 출시  2019-06-03   \n",
       "1               이니스프리, '포레스트 포맨 올인원 에센스' 모델에 블락비 피오 발탁  2019-05-31   \n",
       "4             이니스프리, #여름파데 1524 캠페인 실시 \"파운데이션 바꾸면 지원금\"  2019-05-20   \n",
       "5              이니스프리 신상 화장품 콘셉트는 '고객'…수분·진정 솔루션 메이드바이유  2019-05-16   \n",
       "6                          '이니스프리' 빅 세일, 최대 65% 혜택받으세요  2019-05-15   \n",
       "7         이니스프리, 5000원 섀도우를 1700원에? 15일부터 최대 65% '빅세일'  2019-05-15   \n",
       "8              이니스프리 ‘빅세일’ 유의사항…‘할인前 판매가 5만원’ 할인혜택 기준!  2019-05-15   \n",
       "9                이니스프리, 최대 65% 할인 이벤트…40% 할인쿠폰도 선착순 지급  2019-05-15   \n",
       "10                         이니스프리 '벡세일'…18일까지 최대 65% 할인  2019-05-15   \n",
       "11                     이니스프리, 40% 할인쿠폰 검색 통해서만 다운로드 가능  2019-05-15   \n",
       "12                                   아침부터 이니스프리에 무슨 일?  2019-05-15   \n",
       "13                        이니스프리 `빅세일` 4일간 최대 65% 할인 혜택  2019-05-15   \n",
       "14                [종합] 이니스프리 세일, 18일까지 최대 65% ‘역대급 세일’  2019-05-15   \n",
       "15                             이니스프리, 18일까지 최대 65% 빅세일  2019-05-15   \n",
       "16                    이니스프리를 검색하면 어마어마한 혜택이? ‘풍성한 이벤트’  2019-05-15   \n",
       "17                 '이니스프리' 최대 65% 빅세일…할인 쿠폰 다운 받는 방법은?  2019-05-15   \n",
       "18              \"역대급 혜택\"…이니스프리 '빅세일' 40% 할인받는 방법은?(종합)  2019-05-15   \n",
       "19         이니스프리 4일간 빅세일(Big sale), 전품목 40% 쿠폰 받는 방법은?  2019-05-15   \n",
       "21                       내 피부에 맞췄다…이니스프리, ‘퍼스널 원크림’ 출시  2019-05-13   \n",
       "22                 이니스프리, 빅데이터 활용 온라인 전용템 '퍼스널 원크림' 출시  2019-05-13   \n",
       "23                이니스프리, 빅데이터 기반 '고객 맞춤' 스킨케어 솔루션 선보인다  2019-05-09   \n",
       "25                     이니스프리, 수퍼 화산송이 클레이 무스 마스크 2X 출시  2019-05-01   \n",
       "26             이니스프리, '미세먼지 방어템' 수퍼 화산송이 클레이 무스 마스크 출시  2019-05-01   \n",
       "27                            이니스프리, 지구의 날 최대 36% 할인행사  2019-04-22   \n",
       "28                            이니스프리, 13일까지 ‘멤버십 데이’ 진행  2019-04-11   \n",
       "29             이니스프리, 4월 멤버십 데이 '묘한세일' 스마트 드로잉 2천900원?  2019-04-11   \n",
       "33              이니스프리, 탈모증상 완화 돕는 '마이헤어레시피 로스케어' 2종 출시  2019-03-21   \n",
       "34   ‘이니스프리’ 제주 왕벚꽃 라인 첫 세일 “최대 6,000원 할인”, 더샘은 최대 50%  2019-03-14   \n",
       "35               이니스프리, 3월 멤버십 데이 진행 '16일까지 최대 50% 할인'  2019-03-14   \n",
       "36               이니스프리, 3월 멤버십데이…30% 할인·단돈 100원 구매 이벤트  2019-03-14   \n",
       "..                                                 ...         ...   \n",
       "208                이니스프리, 다음달 16일 ‘플레이그린 페스티벌 2017' 개최  2017-08-09   \n",
       "210                        이니스프리, ‘플레이그린 페스티벌 2017' 개최  2017-08-09   \n",
       "232                워너원 합숙시작...첫 번째 모델계약은 ‘이니스프리 배고파요팩’  2017-06-19   \n",
       "20                         이니스프리, 검색하면 전품목 40% 할인쿠폰 제공  2019-05-15   \n",
       "155                          이베이코리아, 이니스프리와 O2O 통합 마케팅  2018-01-29   \n",
       "197                          이니스프리, 본사에 인형뽑기 기계 설치한 이유  2017-08-30   \n",
       "198                       이니스프리, 대학생 마케터 ‘그린어스 18기’ 모집  2017-08-23   \n",
       "199                       이니스프리, 대학생 마케터 ‘그린어스 18기’ 모집  2017-08-23   \n",
       "212                   이니스프리, 대세 아이돌 '워너원'과 1년 광고 모델 계약  2017-08-04   \n",
       "213                       워너원, 이니스프리와 장기계약 맺으며 '슈스 인증'  2017-08-04   \n",
       "233           ‘프로듀스101 시즌2’ 워너원, 이니스프리 모델 발탁…‘꽃길’행보 시작  2017-06-19   \n",
       "235                     이니스프리, 프로듀스101 시즌2 `워너원` 모델 계약  2017-06-19   \n",
       "274                     두산 베어스, 화장품 브랜드 '이니스프리'와 업무 제휴  2017-04-03   \n",
       "293                   아모레 이니스프리, 대학생 마케터 ‘그린어스 17기’ 모집  2017-02-13   \n",
       "294                               이니스프리, '그린어스 17기' 모집  2017-02-13   \n",
       "30                     이니스프리, '귀여운 토끼 베니 x 노세범' 컬렉션 출시  2019-04-03   \n",
       "61            이니스프리, 찬바람에 상한 피부 위한 ‘아토 수딩 오인트 스틱 밤’ 출시  2018-12-26   \n",
       "87                       이니스프리 11월 마지막 빅 세일! UP TO 50%  2018-11-14   \n",
       "151                       이니스프리, 대학생 마케터 ‘그린어스 19기’ 모집  2018-02-14   \n",
       "156                     이베이코리아, 이니스프리와 업무제휴 협약(JBP) 체결  2018-01-26   \n",
       "176                  이니스프리, 신개념 파우더룸 '그린 라운지' 6·7호점 오픈  2017-11-06   \n",
       "218                       이니스프리, 그룹 '워너원'과 장기 모델 계약 체결  2017-08-04   \n",
       "267                          이니스프리, 내몽고 지역서 나무심기 행사 진행  2017-04-13   \n",
       "272                          이니스프리, 내몽고 지역서 나무심기 행사 펼쳐  2017-04-12   \n",
       "276                              두산, 이니스프리와 5년 연속 업무제휴  2017-03-31   \n",
       "107                        이니스프리, 인도에 1000그루의 생명을 불어넣다  2018-08-13   \n",
       "109                       이니스프리, 인도 라자스탄에 ‘이니스프리 숲’ 조성  2018-08-13   \n",
       "269                            이니스프리, 중국 내몽고 사막에 나무 심어  2017-04-12   \n",
       "270      사막화를 막아라..이니스프리 중국 내몽고 통랴오시 사막에 ‘나무 심기’ 행사 열어  2017-04-12   \n",
       "271                          이니스프리, 내몽고 지역서 나무심기 행사 펼쳐  2017-04-12   \n",
       "\n",
       "                              category  \\\n",
       "0             경제>서비스_쇼핑,경제>유통,경제>산업_기업   \n",
       "1             경제>서비스_쇼핑,경제>유통,경제>산업_기업   \n",
       "4             경제>유통,경제>서비스_쇼핑,문화>요리_여행   \n",
       "5             경제>서비스_쇼핑,경제>유통,경제>산업_기업   \n",
       "6             경제>서비스_쇼핑,경제>유통,경제>산업_기업   \n",
       "7             경제>산업_기업,경제>서비스_쇼핑,경제>유통   \n",
       "8             경제>서비스_쇼핑,경제>유통,경제>산업_기업   \n",
       "9             경제>서비스_쇼핑,경제>유통,경제>산업_기업   \n",
       "10            경제>서비스_쇼핑,경제>유통,경제>산업_기업   \n",
       "11        경제>유통,IT_과학>인터넷_SNS,경제>산업_기업   \n",
       "12    경제>서비스_쇼핑,IT_과학>인터넷_SNS,경제>산업_기업   \n",
       "13            경제>서비스_쇼핑,경제>유통,경제>산업_기업   \n",
       "14            경제>서비스_쇼핑,경제>유통,경제>산업_기업   \n",
       "15            경제>서비스_쇼핑,경제>유통,경제>산업_기업   \n",
       "16    IT_과학>인터넷_SNS,경제>서비스_쇼핑,경제>산업_기업   \n",
       "17            경제>서비스_쇼핑,경제>유통,경제>산업_기업   \n",
       "18            경제>서비스_쇼핑,경제>유통,경제>산업_기업   \n",
       "19    경제>서비스_쇼핑,경제>산업_기업,IT_과학>인터넷_SNS   \n",
       "21            경제>유통,IT_과학>과학,IT_과학>모바일   \n",
       "22            경제>유통,경제>산업_기업,경제>서비스_쇼핑   \n",
       "23       IT_과학>인터넷_SNS,경제>서비스_쇼핑,경제>유통   \n",
       "25            경제>유통,경제>서비스_쇼핑,경제>산업_기업   \n",
       "26            경제>유통,경제>서비스_쇼핑,경제>산업_기업   \n",
       "27            경제>서비스_쇼핑,경제>산업_기업,경제>유통   \n",
       "28            경제>유통,경제>서비스_쇼핑,경제>산업_기업   \n",
       "29          경제>서비스_쇼핑,경제>산업_기업,문화>문화일반   \n",
       "33                     경제>유통,경제>서비스_쇼핑   \n",
       "34            경제>서비스_쇼핑,경제>유통,경제>산업_기업   \n",
       "35            경제>서비스_쇼핑,경제>유통,경제>산업_기업   \n",
       "36            경제>서비스_쇼핑,경제>유통,경제>산업_기업   \n",
       "..                                 ...   \n",
       "208                           문화>전시_공연   \n",
       "210                           문화>전시_공연   \n",
       "232                           문화>방송_연예   \n",
       "20             IT_과학>인터넷_SNS,IT_과학>모바일   \n",
       "155                          IT_과학>모바일   \n",
       "197                      IT_과학>인터넷_SNS   \n",
       "198                      IT_과학>IT_과학일반   \n",
       "199                      IT_과학>IT_과학일반   \n",
       "212            IT_과학>인터넷_SNS,IT_과학>콘텐츠   \n",
       "213  IT_과학>모바일,IT_과학>콘텐츠,IT_과학>인터넷_SNS   \n",
       "233                      IT_과학>인터넷_SNS   \n",
       "235                      IT_과학>인터넷_SNS   \n",
       "274                      IT_과학>인터넷_SNS   \n",
       "293                      IT_과학>IT_과학일반   \n",
       "294                      IT_과학>IT_과학일반   \n",
       "30                                 미분류   \n",
       "61                                 미분류   \n",
       "87                                 미분류   \n",
       "151                                미분류   \n",
       "156                                미분류   \n",
       "176                                미분류   \n",
       "218                                미분류   \n",
       "267                                미분류   \n",
       "272                                미분류   \n",
       "276                                미분류   \n",
       "107                             국제>아시아   \n",
       "109                             국제>아시아   \n",
       "269                            국제>국제일반   \n",
       "270                              국제>중국   \n",
       "271                           국제>유럽_EU   \n",
       "\n",
       "                                               content company  date_tmp  \\\n",
       "0    [아시아경제 차민영 기자] 자연주의 화장품 브랜드 이니스프리가 '2019 에코손수건...   아시아경제    737213   \n",
       "1    [아시아경제 차민영 기자] 자연주의 화장품 브랜드 이니스프리가 그룹 블락비 멤버 피...   아시아경제    737210   \n",
       "4    [아시아경제 차민영 기자] 자연주의 화장품 브랜드 이니스프리가 베이스 메이크업이 고...   아시아경제    737199   \n",
       "5    [아시아경제 차민영 기자] 자연주의 화장품 브랜드 이니스프리가 콘셉트 기획부터 제형...   아시아경제    737195   \n",
       "6    화장품 브랜드 이니스프리에서 빅 세일을 시작해 많은 관심을 받고 있다.\\r\\n15일...    광주일보    737194   \n",
       "7    이니스프리가 5월 15일 수요일부터 18일 토요일까지 3일간 최대 65%까지 할인하...    광주일보    737194   \n",
       "8    아모레퍼시픽 계열 화장품 브랜드 이니스프리가 역대급 혜택을 내건 ‘빅세일’을 오는 ...    아주경제    737194   \n",
       "9    15일 이니스프리 PC 홈페이지 내 이벤트 페이지 갈무리.\\r\\n아모레퍼시픽의 로드...    세계일보    737194   \n",
       "10   이니스프리 홈페이지 캡처.\\r\\n\\r\\n\\r\\n\\r\\n화장품 브랜드 이니스프리가 '...    부산일보    737194   \n",
       "11   이니스프리가 5월 빅세일을 시작한다고 밝힌 가운데, 모바일 네이버 검색을 통해서만 ...    경인일보    737194   \n",
       "12   [머니투데이 양성희 기자] [오늘부터 4일간 빅세일…이니스프리 검색하면 40% 할인...   머니투데이    737194   \n",
       "13   화장품 브랜드 이니스프리가 역대급 혜택을 제공하는 '빅세일'을 진행한다.\\r\\n15...    매일경제    737194   \n",
       "14   화장품 브랜드 이니스프리가 역대급 세일을 진행한다.\\r\\n15일 이니스프리에 다르면...    서울신문    737194   \n",
       "15   이니스프리가 18일까지 최대 65% 세일 이벤트를 진행해 사람들의 관심이 높아지고 ...    매일신문    737194   \n",
       "16    \\r\\n\\r\\n\\r\\n이니스프리가 빅세일을 실시한다.\\r\\n \\r\\n화장품 브랜드...    전자신문    737194   \n",
       "17   이니스프리가 최대 65% 빅세일을 진행한다.\\r\\n\\r\\n15일 이니스프리는 공식 ...    매일신문    737194   \n",
       "18   유명 화장품 브랜드 이니스프리가 역대급 혜택을 내건 ‘빅세일’을 진행하면서 관심이 ...    서울경제    737194   \n",
       "19   15일 이니스프리에서 4일간의 세일판매를 개시하면서 많은 네티즌들의 관심이 쏠리고 ...    매일신문    737194   \n",
       "21   [디지털타임스 김아름 기자] 이니스프리가 빅데이터를 분석해 개발한 개인 맞춤형 크림...  디지털타임스    737192   \n",
       "22   [아시아경제 차민영 기자] 자연주의 화장품 브랜드 이니스프리가 100만 빅데이터를 ...   아시아경제    737192   \n",
       "23   [아시아경제 차민영 기자] 자연주의 화장품 이니스프리가 작년 카이스트 전기·전자공학...   아시아경제    737188   \n",
       "25   [디지털타임스 김아름 기자] 이니스프리가 모공 속 피지 및 미세먼지까지 강력하게 제...  디지털타임스    737180   \n",
       "26   [아시아경제 차민영 기자] 자연주의 화장품 브랜드 이니스프리가 모공 속 피지와 미세...   아시아경제    737180   \n",
       "27   자연주의 화장품 이니스프리가 22일 '지구의 날'을 맞아 최대 36% 할인 행사 및...    매일경제    737171   \n",
       "28   [디지털타임스 김아름 기자] 이니스프리가 11일부터 13일까지 3일간 이니스프리 멤...  디지털타임스    737160   \n",
       "29   이니스프리가 4월 멤버십 데이 '묘한세일' 행사를 진행한다.\\r\\n\\r\\n코스메틱 ...    경인일보    737160   \n",
       "33   [아시아경제 최신혜 기자] 이니스프리가 현대인의 탈모 증상 완화에 도움을 주는 기능...   아시아경제    737139   \n",
       "34   ‘이니스프리’ 제주 왕벚꽃 라인 첫 세일 “최대 6,000원 할인”, 더샘은 최대 ...    서울경제    737132   \n",
       "35   이니스프리가 3월 멤버십 데이 행사를 시작한다.\\r\\n이니스프리는 14일부터 오는 ...    경인일보    737132   \n",
       "36   [아시아경제 이선애 기자] 이니스프리가 14일부터 16일까지 3일간 이니스프리 멤버...   아시아경제    737132   \n",
       "..                                                 ...     ...       ...   \n",
       "208  아모레퍼시픽의 자연주의 화장품 브랜드 이니스프리가 다음달 16일 서울 용산가족공원에...  파이낸셜뉴스    736550   \n",
       "210  [아시아경제 조호윤 기자]이니스프리는 다음달 16일 서울 용산가족공원에서 그린라이프...   아시아경제    736550   \n",
       "232  워너원 멤버들이 합숙을 시작한 가운데, 첫 모델계약으로 이니스프리 모델로 채택됐다....    전자신문    736499   \n",
       "20    \\r\\n\\r\\n \\r\\n\\r\\n이니스프리가 역대급 빅세일을 시작한다.\\r\\n\\r\\...    경인일보    737194   \n",
       "155  이베이코리아는 지난 25일 서울 역삼동 사옥에서 이니스프리와 기업제휴 파트너십(JB...  디지털타임스    736723   \n",
       "197  {IL01}\"회사 로비에 웬 인형뽑기 기계가?\"\\r\\n\\r\\n아모레퍼시픽 브랜드숍 ...   머니투데이    736571   \n",
       "198  아모레퍼시픽의 자연주의 화장품 브랜드 이니스프리가 오는 9월 5일까지 대학생 마케터...  파이낸셜뉴스    736564   \n",
       "199  [아시아경제 조호윤 기자]이니스프리는 다음달 5일까지 대학생 마케터 ‘그린어스 18...   아시아경제    736564   \n",
       "212  아모레퍼시픽 화장품 브랜드숍 이니스프리가 대세 아이돌그룹 '워너원(Wanna One...   머니투데이    736545   \n",
       "213  워너원이 이니스프리와 장기 모델 계약을 맺는다.\\r\\n\\r\\n이니스프리는 향후 1년...    서울경제    736545   \n",
       "233  화장품브랜드 이니스프리가 Mnet ‘프로듀스 101 시즌2’의 데뷔팀 워너원(Wan...    서울경제    736499   \n",
       "235  이니스프리가 Mnet 프로듀스 101 시즌 2의 데뷔팀 '워너원(Wanna One)...    매일경제    736499   \n",
       "274  두산 베어스가 3일 자연주의 화장품 브랜드 '이니스프리'와 업무 협약을 체결하고 2...   머니투데이    736422   \n",
       "293  이니스프리, 대학생 마케터 ‘그린어스 17기’ 모집\\r\\n'다양한 브랜드 캠페인과 ...  파이낸셜뉴스    736373   \n",
       "294  올해로 9년째 대학생 마케터 양성 프로그램 운영[아시아경제 조호윤 기자]이니스프리는...   아시아경제    736373   \n",
       "30   [머니투데이 마아라 기자] ['국민파우더' 노세범 출시 13주년 기념…재치 있는 1...   머니투데이    737152   \n",
       "61   [아시아경제 최신혜 기자] 이니스프리가 겨울철 찬바람에 자극받은 볼과 입술을 위한 ...   아시아경제    737054   \n",
       "87    \\r\\n\\r\\n2018년 이니스프리 마지막 빅세일이 진행된다. \\r\\n\\r\\n \\...    경인일보    737012   \n",
       "151  3월 4일까지 19기 지원자 접수…총 24명의 그린어스 선발[아시아경제 박미주 기자...   아시아경제    736739   \n",
       "156  이베이코리아는 지난 25일 역삼동 이베이코리아 본사에서 아모레퍼시픽그룹 자연주의 뷰...    동아일보    736720   \n",
       "176  [아시아경제 조호윤 기자]아모레퍼시픽의 대표 브랜드 이니스프리는 동대문디자인플라자(...   아시아경제    736639   \n",
       "218  [아시아경제 조호윤 기자]이니스프리는 그룹 ‘워너원’과 장기 모델 계약을 체결했다고...   아시아경제    736545   \n",
       "267  아모레퍼시픽그룹 자연주의 화장품 ‘이니스프리’는 지난 4일부터 사흘간 중국 내몽골 ...    국민일보    736432   \n",
       "272  [아시아경제 조호윤 기자]이니스프리는 중국 내몽고 동부 지역 통랴오시 내 사막 지역...   아시아경제    736431   \n",
       "276  두산 베어스가 31일 화장품 브랜드 이니스프리와 업무 협약을 체결하고, 2017시즌...   머니투데이    736419   \n",
       "107  이니스프리가 인도 라자스탄 지역에 ‘이니스프리 숲’을 조성했다. [제공=이니스프리]...   헤럴드경제    736919   \n",
       "109  인도 북서부 라자스탄주 반수르 지역에 총 1000그루 규모의 ‘이니스프리 숲’ 조성...   아시아경제    736919   \n",
       "269  이니스프리는 중국 내몽고 동부 지역 통랴오시 내 사막 지역에서 나무 심기 행사를 펼...  디지털타임스    736431   \n",
       "270  자연주의 화장품 브랜드 이니스프리는 지난 4일부터 사흘간 중국 내몽고 동부 지역 통...  파이낸셜뉴스    736431   \n",
       "271  이니스프리는 중국 내몽고 동부 지역 통랴오시 내 사막 지역에서 나무 심기 행사를 펼...    서울경제    736431   \n",
       "\n",
       "                                         tokenized_doc  \\\n",
       "0    아시아,경제,자연,주의,화장품,브랜드,이니스프리,에코,손수건,캠페인,론칭,한정판,제...   \n",
       "1    아시아,경제,자연,주의,화장품,브랜드,이니스프리,그룹,블락비,멤버,피오,포레스트,포...   \n",
       "4    아시아,경제,자연,주의,화장품,브랜드,이니스프리,베이스,메이크업,고민,여름철,여름,...   \n",
       "5    아시아,경제,자연,주의,화장품,브랜드,이니스프리,콘셉트,기획,개발,고객,힘,탄생,스...   \n",
       "6    화장품,브랜드,이니스프리,빅,시작,관심,이니스프리,날,할인,행사,진행,해당,기간,이...   \n",
       "7    이니스프리,수요일,토요일,인하,빅세일,진행,이니스프리,인기,품목,마이,아이섀도우,마...   \n",
       "8    아모레퍼시픽,계열,화장품,브랜드,이니스프리,역대,급,혜택,건,빅세일,진행,품목,할인...   \n",
       "9    이니스프리,홈페이지,이벤트,페이지,갈무리,아모레퍼시픽,로드,샵,화장품,브랜드,이니스...   \n",
       "10   이니스프리,홈페이지,캡처,화장품,브랜드,이니스프리,빅세일,진행,이니스프리,날,할인,...   \n",
       "11   이니스프리,빅세일,시작,가운데,모바일,네이버,검색,만,할인,쿠폰,화제,진행,이니스프...   \n",
       "12   머니투데이,빅세일,이니스프리,검색,할인,쿠폰,이니스프리,빅세일,이벤트,이미지,사진,...   \n",
       "13   화장품,브랜드,이니스프리,역대,급,혜택,제공,빅세일,진행,이니스프리,날,할인,행사,...   \n",
       "14   화장품,브랜드,이니스프리,역대,급,진행,이니스프리,날,할인,행사,진행,해당,기간,이...   \n",
       "15   이니스프리,이벤트,진행,사람,관심,이니스프리,공식,한정,빅세일,진행,품목,미만,할인...   \n",
       "16   이니스프리,빅세일,실시,화장품,브랜드,이니스프리,할인,행사,진행,이벤트,기간,담,을...   \n",
       "17   이니스프리,빅세일,진행,이니스프리,공식,한정,빅세일,진행,이니스프리,품목,미만,할인...   \n",
       "18   유명,화장품,브랜드,이니스프리,역대,급,혜택,건,빅세일,진행,관심,모,이니스프리,날...   \n",
       "19   이니스프리,간의,판매,개시,네티즌,관심,이니스프리,구매,시,품목,미만,할인,해택,제...   \n",
       "21   디지털타임스,이니스프리,빅데이터,분석,개발,맞춤,크림,퍼스,널,크림,출시,퍼스,널,...   \n",
       "22   아시아,경제,자연,주의,화장품,브랜드,이니스프리,만,빅데이터,가지,퍼스,널,성분,솔...   \n",
       "23   아시아,경제,자연,주의,화장품,이니스프리,작년,카이스트,전기,전자공학,부,김대식,교...   \n",
       "25   디지털타임스,이니스프리,모공,속,피지,미세먼지,강력,제거,해주,수퍼,화산,송이,클레...   \n",
       "26   아시아,경제,자연,주의,화장품,브랜드,이니스프리,모공,속,피지,미세먼지,강력,제거,...   \n",
       "27   자연,주의,화장품,이니스프리,지구,날,할인,행사,다양,친환경,이벤트,마련,일회용품,...   \n",
       "28   디지털타임스,이니스프리,이니스프리,멤버십,일인,멤버십,데이,진행,멤버십,데이,이니스...   \n",
       "29   이니스프리,멤버십,데이,묘,행사,진행,코스메틱,브랜드,이니스프리,멤버십,데이,묘,진...   \n",
       "33   아시아,경제,이니스프리,현대인,탈모,증상,완화,도움,기능,라인,마이,헤어,레시피,로...   \n",
       "34   이니스프리,제주,왕,벚꽃,라인,첫,할인,더샘,이니스프리,멤버십,일인,멤버십,데이,진...   \n",
       "35   이니스프리,멤버십,데이,행사,시작,이니스프리,행사,진행,행사,그린티,씨드,오일,슈퍼...   \n",
       "36   아시아,경제,이니스프리,이니스프리,멤버십,일인,멤버십,데이,진행,멤버십,데이,이니스...   \n",
       "..                                                 ...   \n",
       "208  아모레퍼시픽,자연,주의,화장품,브랜드,이니스프리,다음,서울,용산,가족,공원,그린,라...   \n",
       "210  아시아,경제,이니스프리,다음,서울,용산,가족,공원,그린,라이프,축제,플레이,그린,페...   \n",
       "232  워,버들,합숙,시작,가운데,첫,모델,계약,이니스프리,모델,채택,워,멤버,소속사,엔터...   \n",
       "20   이니스프리,역대,급,빅세일,시작,코스메틱,브랜드,이니스프리,공식,초록,창,이니스프리...   \n",
       "155  이베이,코리아,서울,역삼동,사옥,이니스프리,기업,제휴,파트너,십,날,협약식,항일,이...   \n",
       "197  회사,로비,웬,인형,뽑기,기계,아모레퍼시픽,브랜드,숍,이니스프리,본사,어서,입구,바...   \n",
       "198  아모레퍼시픽,자연,주의,화장품,브랜드,이니스프리,대학생,마케터,그린,어스,모집,그린...   \n",
       "199  아시아,경제,이니스프리,다음,대학생,마케터,그린,어스,모집,그린,어스,이니스프리,대...   \n",
       "212  아모레퍼시픽,화장품,브랜드,숍,이니스프리,대세,아이돌,그룹,워,과,광고,모델,계약,...   \n",
       "213  워,이니스프리,장기,모델,계약,이니스프리,이니스프리,제품,캠페인,모델,워,기용,광고...   \n",
       "233  화장품,브랜드,이니스프리,프로,듀스,시즌,데뷔,팀,워,과,모델,계약,체결,앞,워,이...   \n",
       "235  이니스프리,프로,듀스,시즌,데뷔,팀,워,과,모델,계약,체결,앞,워,이니스프리,신제품...   \n",
       "274  두산,베어스,자연,주의,화장품,브랜드,이니스프리,업무,협약,체결,즌,공동,마케팅,실...   \n",
       "293  이니스프리,대학생,마케터,그린,어스,모집,다양,브랜드,캠페인,뷰티,마케팅,경험,아모...   \n",
       "294  대학생,마케터,양성,프로그램,운영,아시아,경제,이니스프리,다음,대학생,마케터,그린,...   \n",
       "30   머니투데이,국민,파우더,범,출시,주년,기념,재치,가지,응원,메시지,사진,제공,이니스...   \n",
       "61   아시아,경제,이니스프리,겨울철,찬,바람,자극,볼,입술,아토,수딩,오인,트,스틱,밤,...   \n",
       "87   이니스프리,마지막,빅세일,진행,이니스프리,회원,누구,겨울,제품,할인,헤어,바디,네일...   \n",
       "151  지원,자,접수,명의,그린,어스,선발,아시아,경제,아모레퍼시픽,이니스프리,대학생,마케...   \n",
       "156  이베이,코리아,역삼동,이베이,코리아,본사,아모레퍼시픽,그룹,자연,주의,뷰티,브랜드,...   \n",
       "176  아시아,경제,아모레퍼시픽,대표,브랜드,이니스프리,디자인,플라자,국민,대학교,이니스프...   \n",
       "218  아시아,경제,이니스프리,그룹,워,과,장기,모델,계약,체결,워,이니스프리,제품,캠페인...   \n",
       "267  아모레퍼시픽,그룹,자연,주의,화장품,이니스프리,사흘,중국,내몽골,동부,지역,통랴,오...   \n",
       "272  아시아,경제,이니스프리,중국,내몽고,동부,지역,통랴,오시,사막,지역,나무,심기,행사...   \n",
       "276  두산,베어스,화장품,브랜드,이니스프리,업무,협약,체결,즌,공동,마케팅,실시,두산베어...   \n",
       "107  이니스프리,인도,라자스탄,지역,이니스프리,숲,조성,제공,이니스프리,인도,라자스탄,이...   \n",
       "109  인도,북서,부,라자스탄,반수,르,지역,그루,규모,이니스프리,숲,조성,지역,산칼프,타...   \n",
       "269  이니스프리,중국,내몽고,동부,지역,통랴,오시,사막,지역,나무,심기,행사,나무,심기,...   \n",
       "270  자연,주의,화장품,브랜드,이니스프리,사흘,중국,내몽고,동부,지역,통랴,오시,사막,지...   \n",
       "271  이니스프리,중국,내몽고,동부,지역,통랴,오시,사막,지역,나무,심기,행사,나무,심기,...   \n",
       "\n",
       "                            tokenized_title cat_selected  topic  represent  \n",
       "0             이니스프리,에코,손수건,주년,캠페인,한정판,제품,출시           경제     -1      False  \n",
       "1        이니스프리,포레스트,포맨,올인원,에센스,모델,블락비,피오,발탁           경제     -1      False  \n",
       "4                이니스프리,여름,캠페인,실시,파운데이션,지원,금           경제     -1      False  \n",
       "5    이니스프리,신상,화장품,콘셉트,고객,수분,진정,솔루션,메이드,바이,유           경제     -1      False  \n",
       "6                           이니스프리,빅,일,최대,혜택           경제      0       True  \n",
       "7                   이니스프리,원,섀도우,원,부터,최대,빅세일           경제     -1      False  \n",
       "8          이니스프리,빅세일,유의사항,할인,판매,만원,할인,혜택,기준           경제      0      False  \n",
       "9              이니스프리,최대,할인,이벤트,할인,쿠폰,선착순,지급           경제      0      False  \n",
       "10                       이니스프리,벡세일,까지,최대,할인           경제      0      False  \n",
       "11              이니스프리,할인,쿠폰,검색,통해,만,다운로드,가능           경제      0      False  \n",
       "12                         아침,부터,이니스프리,무슨,일           경제      0      False  \n",
       "13                     이니스프리,빅세일,간,최대,할인,혜택           경제      0      False  \n",
       "14                  종합,이니스프리,일,까지,최대,역대,급,일           경제      0      False  \n",
       "15                          이니스프리,까지,최대,빅세일           경제      0      False  \n",
       "16                    이니스프리,검색,어마,어마,혜택,이벤트           경제      0      False  \n",
       "17                 이니스프리,최대,빅세일,할인,쿠폰,다운,방법           경제      0      False  \n",
       "18               역대,급,혜택,이니스프리,빅세일,할인,방법,종합           경제      0      False  \n",
       "19                   이니스프리,간,빅세일,전,품목,쿠폰,방법           경제      0      False  \n",
       "21                  내,피부,이니스프리,퍼스,널,원,크림,출시           경제     -1      False  \n",
       "22      이니스프리,빅데이터,활용,온라인,전용,템,퍼스,널,원,크림,출시           경제     -1      False  \n",
       "23            이니스프리,빅데이터,기반,고객,맞춤,스킨,케어,솔루션           경제     -1      False  \n",
       "25              이니스프리,수퍼,화산,송이,클레,무스,마스크,출시           경제      6       True  \n",
       "26    이니스프리,미세먼지,방어,템,수퍼,화산,송이,클레,무스,마스크,출시           경제      6      False  \n",
       "27                      이니스프리,지구,날,최대,할인,행사           경제     -1      False  \n",
       "28                       이니스프리,까지,멤버십,데이,진행           경제     -1      False  \n",
       "29              이니스프리,멤버십,데이,묘,일,스마트,드로잉,천원           경제     -1      False  \n",
       "33        이니스프리,탈모증,상,완화,마이,헤어,레시피,로스케,종,출시           경제     -1      False  \n",
       "34       이니스프리,제주,왕,벚꽃,라인,첫,일,최대,원,할인,더샘,최대           경제      2       True  \n",
       "35                 이니스프리,멤버십,데이,진행,까지,최대,할인           경제     -1      False  \n",
       "36              이니스프리,멤버십,데이,할인,단돈,원,구매,이벤트           경제      2      False  \n",
       "..                                      ...          ...    ...        ...  \n",
       "208               이니스프리,다음,달,플레이,그린,페스티벌,개최           문화      0      False  \n",
       "210                    이니스프리,플레이,그린,페스티벌,개최           문화      0      False  \n",
       "232               워,원,합숙,시작,첫,모델,계약,이니스프리,팩           문화     -1      False  \n",
       "20                   이니스프리,검색,전,품목,할인,쿠폰,제공        IT_과학     -1       True  \n",
       "155                    이베이,코리아,이니스프리,통합,마케팅        IT_과학     -1      False  \n",
       "197                 이니스프리,본사,인형,뽑기,기계,설치,이유        IT_과학     -1      False  \n",
       "198                이니스프리,대학생,마케터,그린,어스,기,모집        IT_과학      0       True  \n",
       "199                이니스프리,대학생,마케터,그린,어스,기,모집        IT_과학      0      False  \n",
       "212             이니스프리,대세,아이돌,워,원,과,광고,모델,계약        IT_과학      0      False  \n",
       "213                   워,원,이니스프리,장기,계약,슈스,인증        IT_과학      0      False  \n",
       "233       프로,듀스,시즌,워,원,이니스프리,모델,발탁,꽃길,행보,시작        IT_과학      0      False  \n",
       "235                이니스프리,프로,듀스,시즌,워,원,모델,계약        IT_과학      0      False  \n",
       "274              두산,베어스,화장품,브랜드,이니스프리,업무,제휴        IT_과학      0      False  \n",
       "293            아모레,이니스프리,대학생,마케터,그린,어스,기,모집        IT_과학      0      False  \n",
       "294                        이니스프리,그린,어스,기,모집        IT_과학      0      False  \n",
       "30                이니스프리,귀,여운,토끼,베니,범,컬렉션,출시          미분류     -1       True  \n",
       "61    이니스프리,찬,바람,상한,피부,위,아토,수딩,오인,트,스틱,밤,출시          미분류     -1      False  \n",
       "87                            이니스프리,마지막,빅,일          미분류     -1      False  \n",
       "151                이니스프리,대학생,마케터,그린,어스,기,모집          미분류     -1      False  \n",
       "156               이베이,코리아,이니스프리,업무,제휴,협약,체결          미분류     -1      False  \n",
       "176           이니스프리,신개,념,파우더,룸,그린,라운지,호점,오픈          미분류     -1      False  \n",
       "218              이니스프리,그룹,워,원,과,장기,모델,계약,체결          미분류     -1      False  \n",
       "267                이니스프리,내몽고,지역,나무,심기,행사,진행          미분류     -1      False  \n",
       "272                   이니스프리,내몽고,지역,나무,심기,행사          미분류     -1      False  \n",
       "276                       두산,이니스프리,연속,업무,제휴          미분류     -1      False  \n",
       "107                       이니스프리,인도,그루,생명,불어           국제      0       True  \n",
       "109                이니스프리,인도,라자스탄,이니스프리,숲,조성           국제      0      False  \n",
       "269                      이니스프리,중국,내몽고,사막,나무           국제      0      False  \n",
       "270      사막화,이니스프리,중국,내몽고,통랴,오시,사막,나무,심기,행사           국제      0      False  \n",
       "271                   이니스프리,내몽고,지역,나무,심기,행사           국제      0      False  \n",
       "\n",
       "[315 rows x 11 columns]"
      ]
     },
     "execution_count": 42,
     "metadata": {},
     "output_type": "execute_result"
    }
   ],
   "source": [
    "# DB에 저장 가능한 상태!!!!!!!!!!!!!!!\n",
    "df_final"
   ]
  },
  {
   "cell_type": "markdown",
   "metadata": {},
   "source": [
    "## sqlite에 저장"
   ]
  },
  {
   "cell_type": "code",
   "execution_count": 24,
   "metadata": {
    "ExecuteTime": {
     "end_time": "2019-06-17T03:47:40.791855Z",
     "start_time": "2019-06-17T03:47:40.789850Z"
    }
   },
   "outputs": [],
   "source": [
    "import sqlite3"
   ]
  },
  {
   "cell_type": "code",
   "execution_count": 52,
   "metadata": {
    "ExecuteTime": {
     "end_time": "2019-06-17T05:04:46.342954Z",
     "start_time": "2019-06-17T05:04:46.339947Z"
    }
   },
   "outputs": [],
   "source": [
    "con = sqlite3.connect(\"C:/Users/smnoh/Desktop/works/database/newbit.db\")\n",
    "cur=con.cursor()"
   ]
  },
  {
   "cell_type": "code",
   "execution_count": 53,
   "metadata": {
    "ExecuteTime": {
     "end_time": "2019-06-17T05:04:46.819223Z",
     "start_time": "2019-06-17T05:04:46.801143Z"
    }
   },
   "outputs": [],
   "source": [
    "df_final.to_sql('news', con, if_exists='append', index=False)"
   ]
  },
  {
   "cell_type": "code",
   "execution_count": 54,
   "metadata": {
    "ExecuteTime": {
     "end_time": "2019-06-17T05:07:08.138763Z",
     "start_time": "2019-06-17T05:07:08.136290Z"
    }
   },
   "outputs": [],
   "source": [
    "con.close()"
   ]
  },
  {
   "cell_type": "markdown",
   "metadata": {},
   "source": [
    "## 그외 필요한 코드"
   ]
  },
  {
   "cell_type": "code",
   "execution_count": 34,
   "metadata": {
    "ExecuteTime": {
     "end_time": "2019-06-13T04:47:23.982126Z",
     "start_time": "2019-06-13T04:47:23.976110Z"
    }
   },
   "outputs": [
    {
     "data": {
      "text/plain": [
       "130    화장품,쇼핑,체험,다양,헤럴드경제,자연,주의,화장품,브랜드,이니스프리,일본,도쿄,하...\n",
       "131    구매,선착순,이민호,포토북,이니스프리,에코,백,증정,아시아,경제,자연,주의,화장품,...\n",
       "141    화장품,브랜드,이니스프리,일본,도쿄,오모테산도,일본,제호,매장,사진,인,이니스프리,...\n",
       "142    자연,주의,화장품,브랜드,이니스프리,시간,일본,도쿄,오모테산도,일본,호,매장,이니스...\n",
       "143    머니투데이,이니스프리,일본,도쿄,오모테산도,본점,사진,제공,이니스프리,아모레퍼시픽,...\n",
       "144    이니스프리,일본,도쿄,오모테산도,호,매장,이니스프리,오모테산도,본점,매장,층,평,규...\n",
       "145    층,규모,녹색,식물,수직,정원,인테리어,제주,감성,일본,호점,리뉴얼,대표,아이템,그...\n",
       "146    이니스프리,일본,동경,오모테산도,일본,제호,매장,이니스프리,오모테산도,본점,층,규모...\n",
       "Name: tokenized_doc, dtype: object"
      ]
     },
     "execution_count": 34,
     "metadata": {},
     "output_type": "execute_result"
    }
   ],
   "source": [
    "#원하는 기사 뽑아보기\n",
    "df_final['tokenized_doc'][df_final['cat_selected']=='경제'][df_final['topic']==7]"
   ]
  },
  {
   "cell_type": "code",
   "execution_count": null,
   "metadata": {},
   "outputs": [],
   "source": [
    "# 다음 컬럼을 String에서 다시 리스트로 변환해야 이미지 생성 프로세스 가능\n",
    "df_final['category'] = df_final['category'].apply(lambda x : x if x == '' else x.split(','))\n",
    "df_final['tokenized_doc'] = df_final['tokenized_doc'].apply(lambda x : x.split(','))\n",
    "df_final['tokenized_title'] = df_final['tokenized_title'].apply(lambda x : x.split(','))"
   ]
  }
 ],
 "metadata": {
  "kernelspec": {
   "display_name": "Python 3",
   "language": "python",
   "name": "python3"
  },
  "language_info": {
   "codemirror_mode": {
    "name": "ipython",
    "version": 3
   },
   "file_extension": ".py",
   "mimetype": "text/x-python",
   "name": "python",
   "nbconvert_exporter": "python",
   "pygments_lexer": "ipython3",
   "version": "3.6.5"
  },
  "toc": {
   "base_numbering": 1,
   "nav_menu": {},
   "number_sections": true,
   "sideBar": true,
   "skip_h1_title": false,
   "title_cell": "Table of Contents",
   "title_sidebar": "Contents",
   "toc_cell": true,
   "toc_position": {
    "height": "calc(100% - 180px)",
    "left": "10px",
    "top": "150px",
    "width": "206.6px"
   },
   "toc_section_display": true,
   "toc_window_display": true
  }
 },
 "nbformat": 4,
 "nbformat_minor": 2
}
