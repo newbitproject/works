{
 "cells": [
  {
   "cell_type": "code",
   "execution_count": 0,
   "metadata": {
    "colab": {},
    "colab_type": "code",
    "id": "SatDs1vQ-NQ4"
   },
   "outputs": [],
   "source": [
    "import modules.newsight as ns \n",
    "\n",
    "# 시각화\n",
    "import matplotlib.pyplot as plt\n",
    "import seaborn as sb\n",
    "\n",
    "# file I/O\n",
    "import pickle\n",
    "import pandas as pd\n",
    "\n",
    "import re # 정규표현식\n",
    "import numpy as np # 연산\n",
    "import time # 연산 시간 측정\n",
    "time_list = [] # 각 단계별 처리 시간 저장\n",
    "process = ['load_data' ,' preprocess - get proper docs A','preprocess - get proper doc B', 'get category', 'get topic - vectorize',\n",
    "'get topic-DBSCAN','get main doc']\n",
    "\n",
    "# 경고 메시지 숨기기\n",
    "import warnings\n",
    "warnings.filterwarnings(\"ignore\")"
   ]
  },
  {
   "cell_type": "markdown",
   "metadata": {
    "colab_type": "text",
    "id": "VZA_k3pO-NQ7"
   },
   "source": [
    "## 처리 단계 명세\n",
    "\n",
    "**DB** workflow v3 전처리(토큰화).ipynb \n",
    "\n",
    "1. **검색어 입력**\n",
    "2. **데이터 불러오기**(raw data)   \n",
    "1. **전처리**  \n",
    "    1.1. 특수문자, 일반적 불용어 제거  \n",
    "    1.2. 유효 명사 추가     \n",
    "    1.4. 검색어에 대한 불용어 제거  \n",
    "    1.3. 명사 추출  \n",
    "\n",
    "**Backend** <font color='red'>workflow v3 유효기사추출 - 대표기사추출.ipynb </font> \n",
    "\n",
    "1. **검색어 입력**\n",
    "2. **데이터 불러오기**(tokenized data)\n",
    "3. **유효문서 추출**  \n",
    "    3.2. 유효 문서 추출 A (제목에 검색어를 포함하는 문서만 추출, 제목에 [ ]가 들어간 문서 제외)  \n",
    "    3.3. 유효 문서 추출 B (본문에 검색어가 3번 이상 들어가는 문서만 추출) \n",
    "4. **문서별 카테고리 할당**\n",
    "5. **카테고리 별 토픽 할당**  \n",
    "    5.1. 벡터화 (TFIDF)  \n",
    "    5.2. 군집화 (DBSCAN)\n",
    "6. **토픽 별 대표기사 추출**\n",
    "    6.1. 토픽별 문서 벡터화 (TFIDF)  \n",
    "    6.2. 토픽별 대표 키워드 추출 (SVD)  \n",
    "    6.3. 토픽별 대표 문서 추출 (BM25)  \n",
    "    \n",
    "**Frontend**  workflow v3 시각화.ipynb \n",
    "\n",
    "    \n",
    "**References**  \n",
    "[1] 현호\\_mulcam_mirae_workflow.ipynb\n",
    "\n",
    "**기타**  \n",
    "각 블록 마다 running time 측정"
   ]
  },
  {
   "cell_type": "code",
   "execution_count": 0,
   "metadata": {
    "colab": {},
    "colab_type": "code",
    "id": "0N8wrxpQ-NQ8",
    "outputId": "63fb0282-089b-4bc1-f7c0-1d4819459c1a"
   },
   "outputs": [
    {
     "name": "stdout",
     "output_type": "stream",
     "text": [
      "******Description*****\n",
      "code by 현호킴, description by 승현백\n",
      "클래스 이름.help() : 해당 클래스에서 사용할 수 있는 함수 출력\n",
      "******Class names******\n",
      "1) 데이터 불러오기 : Pickle2DF\n",
      "2) 전처리 : PreprocessingText\n",
      "3) 불용어,유의어 처리 : GetSimilarWords, GetStopWords\n",
      "4) 문서 검색 :  GetDocsFromQuery\n",
      "5) 벡터화 :  Vectorizer\n",
      "6) 시각화 : Get2DPlot, AnalyzingNewsData, WordCloud\n",
      "7) 이상치 제거 : CleaningNoise\n",
      "8) 키워드 추출 : GetKeyword\n",
      "수정사항은 history 함수를 참고하세효\n"
     ]
    }
   ],
   "source": [
    "# newsight 모듈\n",
    "ns.readme()"
   ]
  },
  {
   "cell_type": "markdown",
   "metadata": {
    "colab_type": "text",
    "id": "K2EXNhRV-NQ_"
   },
   "source": [
    "## 검색어 입력"
   ]
  },
  {
   "cell_type": "code",
   "execution_count": 0,
   "metadata": {
    "colab": {},
    "colab_type": "code",
    "id": "8BZFjczl-NRA"
   },
   "outputs": [],
   "source": [
    "query = '미래에셋대우'\n",
    "query_route = f'tokenized data/tkdata_{query}.pickle' # 검색어에 대한 파일 경로 생성"
   ]
  },
  {
   "cell_type": "markdown",
   "metadata": {
    "colab_type": "text",
    "id": "dnGtl8kI-NRB"
   },
   "source": [
    "## 데이터 불러오기"
   ]
  },
  {
   "cell_type": "code",
   "execution_count": 0,
   "metadata": {
    "colab": {},
    "colab_type": "code",
    "id": "Ok6vaHJM-NRC",
    "outputId": "44dedc2c-3e12-447c-f3cf-479a97dcc524"
   },
   "outputs": [
    {
     "name": "stdout",
     "output_type": "stream",
     "text": [
      "excution time : 0.5405874252319336\n"
     ]
    }
   ],
   "source": [
    "loader = ns.Pickle2DF()\n",
    "\n",
    "tic = time.time()\n",
    "with open(query_route, 'rb') as handle:\n",
    "    df_raw = pickle.load(handle)\n",
    "\n",
    "toc = time.time()\n",
    "print(f'excution time : {toc-tic}')\n",
    "time_list.append(toc-tic)"
   ]
  },
  {
   "cell_type": "markdown",
   "metadata": {
    "colab_type": "text",
    "id": "KngkXUkj-NRF"
   },
   "source": [
    "## 전처리"
   ]
  },
  {
   "cell_type": "code",
   "execution_count": 0,
   "metadata": {
    "colab": {},
    "colab_type": "code",
    "id": "Gr0Sdd2v-NRG",
    "outputId": "4addf394-cd31-461b-cec5-754f66149e56"
   },
   "outputs": [
    {
     "name": "stdout",
     "output_type": "stream",
     "text": [
      "******GetDocsFromQuery******\n",
      "1)set_query(검색어(str)) : 검색어 설정 \n",
      "2)select_news(데이터프레임(DataFrame),title) : 검색어를 포함한 문서를 시리즈로 반환, title = True 면 제목에 쿼리를 포함한 문서 인덱스 반환\n",
      "*****************************\n",
      "******PreprocessingText******\n",
      "1) make_content_re(df['컬럼이름'](Series)) : 입력받은 열을 전처리 후 시리즈로 반환\n",
      "2) add_noun_dict('list') : 명사 사전에 단어 추가\n",
      "3) add_stopwords('list') : 불용어 사전에 단어 추가\n",
      "4) tokenize(df['컬럼이름'](Series)) : 입력받은 열을 토큰화한 후 시리즈로 반환\n",
      "5) change_similar_words(토큰화된 문서(Series), 유의어 사전(dictionary)) : 유의어 사전을 기반으로 문서 내 유의어를 대표어로 변환하고, 변환된 문서를 시리즈로 반환한다.\n",
      "*****************************\n",
      "******CleaningNoise******\n",
      "1)count_topic(토큰화된문서(Series),단어(str)) : 각 문서당 특정 단어가 몇번 포함됐는지를 리스트로 출력\n",
      "2)plot_hist(count_topic 에서 반환된 카운트리스트(list)) : 1 에서 반환된 리스트로 히스토그램을 그린다\n",
      "3)get_proper_news(토큰화된문서(Series), count_topic 에서 반환된 카운트리스트(list), 기준치(int): 문서 내 특정 단어가 기준치 이상 나온 문서만 반환한다.\n",
      "*****************************\n"
     ]
    }
   ],
   "source": [
    "selector = ns.GetDocsFromQuery() # 유효문서 추출 A\n",
    "pp = ns.PreprocessingText() # 전처리\n",
    "cleaner = ns.CleaningNoise() # 유효문서 추출 B\n",
    "\n",
    "selector.help()\n",
    "pp.help()\n",
    "cleaner.help()"
   ]
  },
  {
   "cell_type": "markdown",
   "metadata": {
    "colab_type": "text",
    "id": "QvA7TNCB-NRI"
   },
   "source": [
    "* 유효문서 추출 A  \n",
    "제목에 검색어를 포함하는 문서만 추출  \n",
    "제목에 '[\\w+]'를 포함하는 문서 제외"
   ]
  },
  {
   "cell_type": "code",
   "execution_count": 0,
   "metadata": {
    "colab": {},
    "colab_type": "code",
    "id": "6Kw95J_Z-NRI",
    "outputId": "99419dbb-400a-42d2-a3f4-f14f6eaef7a0"
   },
   "outputs": [
    {
     "name": "stdout",
     "output_type": "stream",
     "text": [
      "length of selected news: 1955\n",
      "length of original data: 10000\n",
      "length of proper title : 1049\n",
      "excution time : 0.605259895324707\n"
     ]
    }
   ],
   "source": [
    "tic = time.time()\n",
    "\n",
    "# 제목에 검색어를 포함하는 문서 인덱스 추출\n",
    "selector.set_query(query)\n",
    "idx_proper_title = selector.select_news(df_raw, title = True) \n",
    "df_proper_title = df_raw.loc[idx_proper_title]\n",
    "\n",
    "# [ET투자뉴스],[마켓인사이트] 등의 기사 제거\n",
    "# [단독], [속보], [2보] 등은 남겨야함\n",
    "idx_special_title = []\n",
    "regex = \"\\[\\w{4,20}\\]\"\n",
    "for i in df_proper_title.index:\n",
    "    if re.search(regex,df_proper_title.loc[i]['title']) is not None: idx_special_title.append(i)\n",
    "\n",
    "df_proper_title.drop(idx_special_title,inplace = True)\n",
    "print(f'length of proper title : {df_proper_title.shape[0]}')\n",
    "\n",
    "toc = time.time()\n",
    "print(f'excution time : {toc-tic}')\n",
    "\n",
    "time_list.append(toc-tic)"
   ]
  },
  {
   "cell_type": "markdown",
   "metadata": {
    "colab_type": "text",
    "id": "14ZI9OFX-NRL"
   },
   "source": [
    "* 유효문서 추출 B  \n",
    "본문에 검색어를 3번이상 포함하는 문서만 추출"
   ]
  },
  {
   "cell_type": "code",
   "execution_count": 0,
   "metadata": {
    "colab": {},
    "colab_type": "code",
    "id": "l9BqUcC2-NRM",
    "outputId": "9e488139-769e-41cb-f061-c4a43386b00b"
   },
   "outputs": [
    {
     "name": "stdout",
     "output_type": "stream",
     "text": [
      "number of total data: 1049\n",
      "number of proper data: 506\n",
      "excution time : 0.009881258010864258\n"
     ]
    }
   ],
   "source": [
    "tic = time.time()\n",
    "\n",
    "query_counter = cleaner.count_topic(df_proper_title['tokenized_doc'],query)\n",
    "proper_idx = cleaner.get_proper_news(df_proper_title['tokenized_doc'],query_counter, 3).index.tolist()\n",
    "df_proper = df_proper_title.loc[proper_idx].copy()\n",
    "\n",
    "toc = time.time()\n",
    "print(f'excution time : {toc-tic}')\n",
    "time_list.append(toc-tic)"
   ]
  },
  {
   "cell_type": "markdown",
   "metadata": {
    "colab_type": "text",
    "id": "-ZMPgyK4-NRP"
   },
   "source": [
    "## 문서별 카테고리 할당"
   ]
  },
  {
   "cell_type": "code",
   "execution_count": 0,
   "metadata": {
    "colab": {},
    "colab_type": "code",
    "id": "GehwIK_N-NRQ",
    "outputId": "7a68804a-2785-4cda-cfb9-525122322db6",
    "scrolled": true
   },
   "outputs": [
    {
     "name": "stdout",
     "output_type": "stream",
     "text": [
      "******GetKeyword******\n",
      "1)top_df(토큰화된 문서(Series)) : 문서에 포함된 단어의 DF를 계산하고, 단어에 따른 DF를 데이터프레임으로 반환한다.\n",
      "2)top_tfidf(tfidf 벡터(np.ndarray), tfidf 벡터의 features(np.array), top_n(int)) : 각 문서별 tfidf가 가장 큰 단어 3개를 뽑고, 그 단어들의 빈도를 시리즈로 반환한다.\n",
      "3)lda(tfidf 벡터(np.ndarray),tfidf 벡터의 features(np.array), 토픽수(int), 토픽당 출력할 단어 수(int)) : 토픽에 따라 선정된 키워드를 출력한다. 각 문서의 토픽 번호를 리스트로 반환한다.\n",
      "4)get_issues_based_dataframe(self, 데이터프레임(dataframe), 주제별 키워드 리스트(list), 주제당 뽑고 싶은 기사 수(int) , 컬럼이름(str)\n",
      "주제별 키워드 형식 : [[k11,k12,k12...],[k21,k22,...],...,[kn1,kn2]]\n",
      "주제당 가장 bm25 score가 높은 기사를 뽑아서 데이터 프레임으로 반환한다\n",
      "5)remove_na_category(데이터프레임(DataFrame)) : 카테고리가 있는 문서만 반환한다. 카테고리가 없는 문서를 제거 전/후 문서의 수를 출력한다.\n",
      "6)select_category(카테고리(Series)) :카테고리 리스트 내에서 원소 한개를 선택해 반환한다.\n",
      "\n",
      "            카테고리 원소 형식 : [cat_1>cat_2, cat_1>cat_2, cat_1>cat_2],[...],[...],...\n",
      "            6-1) cat_1>cat2 에서 cat2 를 제거하고, 중복된 cat_1을 제거한다.\n",
      "            6-2) cat_1의 빈도 분포를 출력한다.\n",
      "            6-3) cat_1에서 가장 빈도가 높은 카테고리를 major_cat, 나머지를 빈도 순서대로 minor_cat에 저장한다.\n",
      "            6-4) cat_list 는 category(input)의 원소일때,\n",
      "                6-4-1) cat_list 의 길이가 1 이면 cat_list[0]을 카테고리로 선정\n",
      "                6-4-2) cat_list 의 길이가 2 이상일 때\n",
      "                    6-4-2-1) minor_cat 이 존재하지 않는다면 major_cat을 카테고리로 선정\n",
      "                    6-4-2-2) minor_cat 이 존재한다면 minor_cat_list에서 가장 뒤에 있는 원소를 카테고리로 선정\n",
      "            6-5) 선택된 카테고리 리스트를 시리즈로 반환한다.\n",
      "            \n",
      "7)get_news(이슈별로 분류된 데이터[cat[df,df..]], max_feat, min_df, max_df, n_keyword): 토픽 별 키워드를 추출하고, BM25가 높은 문서를 반환한다\n",
      "*************************\n"
     ]
    }
   ],
   "source": [
    "keyword_extractor = ns.GetKeyword() # 카테고리 할당 모듈\n",
    "keyword_extractor.help()"
   ]
  },
  {
   "cell_type": "code",
   "execution_count": 0,
   "metadata": {
    "colab": {},
    "colab_type": "code",
    "id": "S9PrPjWP-NRS"
   },
   "outputs": [],
   "source": [
    "def select_category(category):          \n",
    "    # cat_2 제거, 중복된 cat_1 제거\n",
    "    cat_1 = []\n",
    "    cat_tmp = []\n",
    "    for cat_list in category :\n",
    "        tmp = []\n",
    "        for cat in cat_list :\n",
    "            tmp.append(re.sub(r'\\>\\w+','',cat))\n",
    "        cat_1.extend(list(set(tmp)))\n",
    "        cat_tmp.append(list(set(tmp)))\n",
    "\n",
    "    # 카테고리 원소 빈도 출력\n",
    "    cat_1_table = pd.Series(cat_1).value_counts()\n",
    "    #print(cat_1_table)\n",
    "    #print(len(cat_tmp))\n",
    "\n",
    "    tmp = cat_1_table.index.tolist()\n",
    "    major_cat = tmp[0]\n",
    "    minor_cat_list = tmp[1:]\n",
    "    minor_cat_list.reverse()\n",
    "\n",
    "    print(f'major category : {major_cat}')\n",
    "    print(f'minor categories : {minor_cat_list}')\n",
    "\n",
    "    # 카테고리 원소 선택 \n",
    "    selected_cat = []\n",
    "    for cat in cat_tmp : \n",
    "        if(len(cat)==1) : selected_cat.append(cat[0])\n",
    "        else :\n",
    "            for minor_cat in minor_cat_list:\n",
    "                if minor_cat in cat : \n",
    "                    selected_cat.append(minor_cat)\n",
    "                    break\n",
    "                else : \n",
    "                    selected_cat.append(major_cat)\n",
    "                    break\n",
    "    selected_cat = pd.Series(selected_cat)\n",
    "    display(selected_cat.value_counts())\n",
    "    return selected_cat"
   ]
  },
  {
   "cell_type": "code",
   "execution_count": 0,
   "metadata": {
    "colab": {},
    "colab_type": "code",
    "id": "3W-eDlUd-NRU",
    "outputId": "767129d4-c019-4762-83a5-23ed5dd46812"
   },
   "outputs": [
    {
     "name": "stdout",
     "output_type": "stream",
     "text": [
      "n_docs : 506\n",
      "n_docs after remove na categories : 473\n"
     ]
    }
   ],
   "source": [
    "df_cat_proper = keyword_extractor.remove_na_category(df_proper).reset_index(drop=True) #인덱스 초기화 해야함"
   ]
  },
  {
   "cell_type": "code",
   "execution_count": 0,
   "metadata": {
    "colab": {},
    "colab_type": "code",
    "id": "5JfS4d1H-NRW",
    "outputId": "bacdefc9-9ee9-4670-fba2-f84341767851",
    "scrolled": true
   },
   "outputs": [
    {
     "name": "stdout",
     "output_type": "stream",
     "text": [
      "major category : 경제\n",
      "minor categories : ['스포츠', '정치', '문화', '지역', '사회', '국제', 'IT_과학']\n"
     ]
    },
    {
     "data": {
      "text/plain": [
       "경제       427\n",
       "IT_과학     25\n",
       "사회        10\n",
       "지역         5\n",
       "정치         2\n",
       "문화         2\n",
       "국제         1\n",
       "스포츠        1\n",
       "dtype: int64"
      ]
     },
     "metadata": {
      "tags": []
     },
     "output_type": "display_data"
    }
   ],
   "source": [
    "a = select_category(df_cat_proper['category'])"
   ]
  },
  {
   "cell_type": "code",
   "execution_count": 0,
   "metadata": {
    "colab": {},
    "colab_type": "code",
    "id": "uT6mUKAz-NRY",
    "outputId": "1fd5e76f-aefb-41df-9a80-81e48251068e"
   },
   "outputs": [
    {
     "name": "stdout",
     "output_type": "stream",
     "text": [
      "n_docs : 506\n",
      "n_docs after remove na categories : 473\n",
      "경제       423\n",
      "IT_과학     75\n",
      "국제        24\n",
      "사회        16\n",
      "지역        11\n",
      "문화         8\n",
      "정치         4\n",
      "스포츠        1\n",
      "dtype: int64\n",
      "473\n",
      "major category : 경제\n",
      "minor categories : ['IT_과학', '국제', '사회', '지역', '문화', '정치', '스포츠']\n",
      "excution time : 0.009456157684326172\n"
     ]
    }
   ],
   "source": [
    "tic = time.time()\n",
    "\n",
    "df_cat_proper = keyword_extractor.remove_na_category(df_proper).reset_index(drop=True) #인덱스 초기화 해야함\n",
    "cat_selected = keyword_extractor.select_category(df_cat_proper['category'])\n",
    "df_cat_proper['cat_selected'] = cat_selected\n",
    "\n",
    "toc = time.time()\n",
    "print(f'excution time : {toc-tic}')\n",
    "\n",
    "# 클러스터의 개수가 1이하인 문서는 버린다.\n",
    "threshold = 1\n",
    "rm_cat_list = df_cat_proper['cat_selected'].value_counts()[df_cat_proper['cat_selected'].value_counts()<5].index.tolist()\n",
    "for rm_cat in rm_cat_list:\n",
    "    idx = df_cat_proper[df_cat_proper['cat_selected']==rm_cat].index.tolist()\n",
    "    df_cat_proper.drop(idx,inplace = True)\n",
    "    \n",
    "\n",
    "time_list.append(toc-tic)"
   ]
  },
  {
   "cell_type": "code",
   "execution_count": 0,
   "metadata": {
    "colab": {},
    "colab_type": "code",
    "id": "zsL4QPea-NRb",
    "outputId": "eb77517e-0171-4bbf-b6e9-37e132381ef1"
   },
   "outputs": [
    {
     "data": {
      "text/plain": [
       "경제       378\n",
       "IT_과학     75\n",
       "사회        10\n",
       "지역         5\n",
       "Name: cat_selected, dtype: int64"
      ]
     },
     "execution_count": 13,
     "metadata": {
      "tags": []
     },
     "output_type": "execute_result"
    }
   ],
   "source": [
    "df_cat_proper['cat_selected'].value_counts()"
   ]
  },
  {
   "cell_type": "markdown",
   "metadata": {
    "colab_type": "text",
    "id": "CFunRi_Q-NRe"
   },
   "source": [
    "## 카테고리 별 토픽 할당"
   ]
  },
  {
   "cell_type": "markdown",
   "metadata": {
    "colab_type": "text",
    "id": "oE4Adeds-NRf"
   },
   "source": [
    "* 벡터화"
   ]
  },
  {
   "cell_type": "code",
   "execution_count": 0,
   "metadata": {
    "colab": {},
    "colab_type": "code",
    "id": "SQGn5y1u-NRf",
    "outputId": "1612d7d1-5e50-4674-f0a4-7c5663e517c2"
   },
   "outputs": [
    {
     "name": "stdout",
     "output_type": "stream",
     "text": [
      "******Vectorizer******\n",
      "1)get_tfidf_vec(토큰화된 문서(Series),단어 수(int)) : 문서를 tfidf 벡터(x) 와 단어(words)로 반환\n",
      "2)get_doc2vec(토큰화된 문서(Series)) : doc2vec 벡터 반환\n",
      "3)load_doc2vec_model(토큰화된 문서(Series),모델객체(word2vec_obj)): 저장된 모델로  doc2vec 벡터 반환\n",
      "*****************************\n",
      "******Get2DPlot******\n",
      "1)get_2D_vec(벡터(ndarray),벡터 종류(string), 차원축소 방법(string)) : \n",
      "2 차원으로 차원축소된 벡터를 반환, 벡터 종류 = (tfidf, doc2vec) 차원축소 방법 = (TSNE,PCA)\n",
      "2)get_cluster_labels(클러스터링 방법(string), min_samples(int), min_range(int), optimal_eps(boolean), eps(float)\n",
      "\n",
      "            1)에서 받은 벡터를 군집화하고, 라벨 리스트를 반환, \n",
      "            optimal_eps = True 면 엡실론 최적화 함수 실행\n",
      "            min_sample 은 DBSCAN min_sample과 동일, min_range는 평균 변화율 계산 구간의 너비\n",
      "            \n",
      "클러스터링 방법은 kmeans, DBSCAN 중 하나 선택. kmeans를 선택할 경우 클러스터 개수를 입력, DBSCAN 은 eps 입력\n",
      "3)plot2D(): 2)에서 실행한 군집화 결과를 2차원으로 시각화\n",
      "*****************************\n"
     ]
    }
   ],
   "source": [
    "vectorizer = ns.Vectorizer()\n",
    "cluster = ns.Get2DPlot()\n",
    "\n",
    "vectorizer.help()\n",
    "cluster.help()"
   ]
  },
  {
   "cell_type": "code",
   "execution_count": 0,
   "metadata": {
    "colab": {},
    "colab_type": "code",
    "id": "0rAdRtEn-NRj",
    "outputId": "9d995111-0451-487e-de31-9445b8760e8e"
   },
   "outputs": [
    {
     "name": "stdout",
     "output_type": "stream",
     "text": [
      "['경제', 'IT_과학', '사회', '지역']\n",
      "excution time : 0.0829014778137207\n"
     ]
    }
   ],
   "source": [
    "#  카테고리별 단어리스트와 TFIDF를 딕셔너리로 저장\n",
    "tic = time.time()\n",
    "\n",
    "x_cat_dict = {} # 카테고리별 tfidf 벡터\n",
    "word_cat_dict = {} # 카테고리별 단어\n",
    "cat_list = df_cat_proper['cat_selected'].unique().tolist() # 카테고리 리스트\n",
    "print(cat_list)\n",
    "\n",
    "for cat in cat_list:\n",
    "    vec_obj = ns.Vectorizer()\n",
    "    cat_docs = df_cat_proper[df_cat_proper['cat_selected'] == cat]['tokenized_doc']\n",
    "    \n",
    "    x_cat,word_cat = vec_obj.get_tfidf_vec(cat_docs)\n",
    "    \n",
    "    x_cat_dict[cat] = x_cat\n",
    "    word_cat_dict[cat] = word_cat\n",
    "    \n",
    "toc = time.time()\n",
    "print(f'excution time : {toc-tic}')\n",
    "time_list.append(toc-tic)"
   ]
  },
  {
   "cell_type": "markdown",
   "metadata": {
    "colab_type": "text",
    "id": "4Ic1Fstt-NRl"
   },
   "source": [
    "* DBSCAN + 2차원 시각화\n",
    "* OPTICS + 2차원 시각화"
   ]
  },
  {
   "cell_type": "code",
   "execution_count": 0,
   "metadata": {
    "colab": {},
    "colab_type": "code",
    "id": "g5wGh47r-NRm"
   },
   "outputs": [],
   "source": [
    "from sklearn.neighbors import NearestNeighbors"
   ]
  },
  {
   "cell_type": "code",
   "execution_count": 0,
   "metadata": {
    "colab": {},
    "colab_type": "code",
    "id": "S4aUqzEl-NRo",
    "outputId": "68161da1-5d0d-455a-d6d9-2016d0965423"
   },
   "outputs": [
    {
     "name": "stdout",
     "output_type": "stream",
     "text": [
      "******Get2DPlot******\n",
      "1)get_2D_vec(벡터(ndarray),벡터 종류(string), 차원축소 방법(string)) : \n",
      "2 차원으로 차원축소된 벡터를 반환, 벡터 종류 = (tfidf, doc2vec) 차원축소 방법 = (TSNE,PCA)\n",
      "2)get_cluster_labels(클러스터링 방법(string), min_samples(int), min_range(int), optimal_eps(boolean), eps(float)\n",
      "\n",
      "            1)에서 받은 벡터를 군집화하고, 라벨 리스트를 반환, \n",
      "            optimal_eps = True 면 엡실론 최적화 함수 실행\n",
      "            min_sample 은 DBSCAN min_sample과 동일, min_range는 평균 변화율 계산 구간의 너비\n",
      "            \n",
      "클러스터링 방법은 kmeans, DBSCAN 중 하나 선택. kmeans를 선택할 경우 클러스터 개수를 입력, DBSCAN 은 eps 입력\n",
      "3)plot2D(): 2)에서 실행한 군집화 결과를 2차원으로 시각화\n",
      "*****************************\n"
     ]
    }
   ],
   "source": [
    "cluster_obj = ns.Get2DPlot()\n",
    "cluster_obj.help()"
   ]
  },
  {
   "cell_type": "code",
   "execution_count": 0,
   "metadata": {
    "colab": {},
    "colab_type": "code",
    "id": "weJFMYfS-NRq",
    "outputId": "4e0edc67-3b85-4029-98f1-829dbafaf00a",
    "scrolled": true
   },
   "outputs": [
    {
     "name": "stdout",
     "output_type": "stream",
     "text": [
      "****경제****\n",
      "PCA OPTICS\n"
     ]
    },
    {
     "data": {
      "image/png": "[encoded data removed]",
      "text/plain": [
       "<Figure size 432x288 with 1 Axes>"
      ]
     },
     "metadata": {
      "needs_background": "light",
      "tags": []
     },
     "output_type": "display_data"
    },
    {
     "name": "stdout",
     "output_type": "stream",
     "text": [
      "****IT_과학****\n",
      "PCA OPTICS\n"
     ]
    },
    {
     "data": {
      "image/png": "[encoded data removed]",
      "text/plain": [
       "<Figure size 432x288 with 1 Axes>"
      ]
     },
     "metadata": {
      "needs_background": "light",
      "tags": []
     },
     "output_type": "display_data"
    },
    {
     "name": "stdout",
     "output_type": "stream",
     "text": [
      "****사회****\n",
      "PCA OPTICS\n"
     ]
    },
    {
     "data": {
      "image/png": "[encoded data removed]",
      "text/plain": [
       "<Figure size 432x288 with 1 Axes>"
      ]
     },
     "metadata": {
      "needs_background": "light",
      "tags": []
     },
     "output_type": "display_data"
    },
    {
     "name": "stdout",
     "output_type": "stream",
     "text": [
      "****지역****\n",
      "PCA OPTICS\n"
     ]
    },
    {
     "data": {
      "image/png": "[encoded data removed]",
      "text/plain": [
       "<Figure size 432x288 with 1 Axes>"
      ]
     },
     "metadata": {
      "needs_background": "light",
      "tags": []
     },
     "output_type": "display_data"
    },
    {
     "name": "stdout",
     "output_type": "stream",
     "text": [
      "excution time : 3.754788398742676\n"
     ]
    }
   ],
   "source": [
    "tic = time.time()\n",
    "\n",
    "topic_label_dict = {}\n",
    "for category, tfidf_vec in x_cat_dict.items():\n",
    "    cluster_obj = ns.Get2DPlot()\n",
    "    \n",
    "    print(f'****{category}****')\n",
    "    \n",
    "    vec_2d = cluster_obj.get_2D_vec(tfidf_vec,'tfidf','PCA')\n",
    "    topic_label = cluster_obj.get_cluster_labels(True,cluster_method= 'OPTICS')\n",
    "    cluster_obj.plot2D()  \n",
    "    \n",
    "    topic_label_dict[category] = topic_label\n",
    "toc = time.time()\n",
    "print(f'excution time : {toc-tic}')\n",
    "time_list.append(toc-tic)"
   ]
  },
  {
   "cell_type": "code",
   "execution_count": 0,
   "metadata": {
    "colab": {},
    "colab_type": "code",
    "id": "TJGII3Mh-NRt"
   },
   "outputs": [],
   "source": [
    "# 카테고리별 토픽할당\n",
    "df_final = pd.DataFrame()\n",
    "for cat in cat_list:\n",
    "    df_tmp = df_cat_proper[df_cat_proper['cat_selected'] == cat].copy()\n",
    "    df_tmp['topic'] = topic_label_dict[cat]\n",
    "    df_final = pd.concat([df_final,df_tmp])"
   ]
  },
  {
   "cell_type": "code",
   "execution_count": 0,
   "metadata": {
    "colab": {},
    "colab_type": "code",
    "id": "vyUCNuiQ-NRv",
    "outputId": "7dce504c-9ab5-4679-9784-ff102418ce7a"
   },
   "outputs": [
    {
     "data": {
      "text/html": [
       "<div>\n",
       "<style scoped>\n",
       "    .dataframe tbody tr th:only-of-type {\n",
       "        vertical-align: middle;\n",
       "    }\n",
       "\n",
       "    .dataframe tbody tr th {\n",
       "        vertical-align: top;\n",
       "    }\n",
       "\n",
       "    .dataframe thead th {\n",
       "        text-align: right;\n",
       "    }\n",
       "</style>\n",
       "<table border=\"1\" class=\"dataframe\">\n",
       "  <thead>\n",
       "    <tr style=\"text-align: right;\">\n",
       "      <th></th>\n",
       "      <th>date</th>\n",
       "      <th>title</th>\n",
       "      <th>content</th>\n",
       "      <th>category</th>\n",
       "      <th>date_tmp</th>\n",
       "      <th>tokenized_doc</th>\n",
       "      <th>tokenized_title</th>\n",
       "      <th>cat_selected</th>\n",
       "      <th>topic</th>\n",
       "    </tr>\n",
       "  </thead>\n",
       "  <tbody>\n",
       "    <tr>\n",
       "      <th>0</th>\n",
       "      <td>2019-04-19</td>\n",
       "      <td>미래에셋대우-에트리홀딩스, 중소·벤처기업 성장지원 업무 협약</td>\n",
       "      <td>[ 이송렬 기자 ] \\n \\n미래에셋대우는 미래에셋센터원에서 에트리홀딩스(주)와 '...</td>\n",
       "      <td>[경제&gt;산업_기업]</td>\n",
       "      <td>737168</td>\n",
       "      <td>[미래에셋대우, 미래에셋센터원, 에트리홀딩스, 중소, 벤처기업, 성장지원, 업무, ...</td>\n",
       "      <td>[미래에셋대우, 에트리홀딩스, 중소, 벤처기업, 성장지원, 업무, 협약]</td>\n",
       "      <td>경제</td>\n",
       "      <td>-1</td>\n",
       "    </tr>\n",
       "    <tr>\n",
       "      <th>1</th>\n",
       "      <td>2019-04-19</td>\n",
       "      <td>미래에셋대우, 에트리홀딩스와 `중소·벤처기업 성장 지원` MOU 체결</td>\n",
       "      <td>미래에셋대우는 지난 18일 서울 중구 미래에셋센터원에서 에트리홀딩스와 '중소·벤처 ...</td>\n",
       "      <td>[경제&gt;산업_기업, 경제&gt;취업_창업]</td>\n",
       "      <td>737168</td>\n",
       "      <td>[미래에셋대우, 서울, 중구, 미래에셋센터원, 에트리홀딩스, 중소, 벤처, 기업, ...</td>\n",
       "      <td>[미래에셋대우, 에트리홀딩스, 중소, 벤처기업, 성장, 지원, 체결]</td>\n",
       "      <td>경제</td>\n",
       "      <td>-1</td>\n",
       "    </tr>\n",
       "    <tr>\n",
       "      <th>2</th>\n",
       "      <td>2019-04-19</td>\n",
       "      <td>홍콩 오피스 빌딩에 2800억 투자한 미래에셋대우</td>\n",
       "      <td>[디지털타임스 차현정 기자] 미래에셋대우는 18일 홍콩 CBD2(이스트 카우룽)에 ...</td>\n",
       "      <td>[경제&gt;국제경제, 경제&gt;금융_재테크, 경제&gt;산업_기업]</td>\n",
       "      <td>737168</td>\n",
       "      <td>[디지털타임스, 미래에셋대우, 홍콩, 이스트, 카우룽, 위치, 오피스, 빌딩, 골딘...</td>\n",
       "      <td>[홍콩, 오피스, 빌딩, 투자, 미래에셋대우]</td>\n",
       "      <td>경제</td>\n",
       "      <td>12</td>\n",
       "    </tr>\n",
       "    <tr>\n",
       "      <th>3</th>\n",
       "      <td>2019-04-18</td>\n",
       "      <td>홍콩 오피스 빌딩에 2800억 투자한 미래에셋대우</td>\n",
       "      <td>[디지털타임스 차현정 기자] 미래에셋대우는 18일 홍콩 CBD2(이스트 카우룽)에 ...</td>\n",
       "      <td>[경제&gt;국제경제, 경제&gt;금융_재테크, 경제&gt;산업_기업]</td>\n",
       "      <td>737167</td>\n",
       "      <td>[디지털타임스, 미래에셋대우, 홍콩, 이스트, 카우룽, 위치, 오피스, 빌딩, 골딘...</td>\n",
       "      <td>[홍콩, 오피스, 빌딩, 투자, 미래에셋대우]</td>\n",
       "      <td>경제</td>\n",
       "      <td>12</td>\n",
       "    </tr>\n",
       "    <tr>\n",
       "      <th>4</th>\n",
       "      <td>2019-04-18</td>\n",
       "      <td>해외 부동산 쓸어담는 미래에셋대우</td>\n",
       "      <td>쾰른·파리 찍고 다시 홍콩…새 업무지구 빌딩에 2800억 투자 \\n \\n내달 5억弗...</td>\n",
       "      <td>[경제&gt;금융_재테크, 경제&gt;산업_기업, 경제&gt;국제경제]</td>\n",
       "      <td>737167</td>\n",
       "      <td>[쾰른, 파리, 홍콩, 새, 업무지구, 빌딩, 투자, 내달, 채권, 발행, 실탄, ...</td>\n",
       "      <td>[해외, 부동산, 어담, 미래에셋대우]</td>\n",
       "      <td>경제</td>\n",
       "      <td>12</td>\n",
       "    </tr>\n",
       "    <tr>\n",
       "      <th>5</th>\n",
       "      <td>2019-04-18</td>\n",
       "      <td>해외 부동산 투자 속도내는 미래에셋대우</td>\n",
       "      <td>[ 오형주/김진성 기자 ] 미래에셋대우가 올 들어 홍콩과 유럽 등 해외 부동산 투자...</td>\n",
       "      <td>[경제&gt;금융_재테크, 경제&gt;산업_기업, 경제&gt;국제경제]</td>\n",
       "      <td>737167</td>\n",
       "      <td>[오형, 미래에셋대우, 홍콩, 유럽, 해외, 부동산, 투자, 속도, 건, 수천, 대...</td>\n",
       "      <td>[해외, 부동산, 투자, 속도, 미래에셋대우]</td>\n",
       "      <td>경제</td>\n",
       "      <td>12</td>\n",
       "    </tr>\n",
       "    <tr>\n",
       "      <th>6</th>\n",
       "      <td>2019-04-18</td>\n",
       "      <td>미래에셋대우, 홍콩 랜드마크 오피스에 2800억원 투자</td>\n",
       "      <td>[머니투데이 임동욱 기자] [메자닌 대출에 2억4300만달러 투자...\"짧은 만기 ...</td>\n",
       "      <td>[경제&gt;국제경제, 경제&gt;금융_재테크, 국제&gt;중국]</td>\n",
       "      <td>737167</td>\n",
       "      <td>[머니투데이, 메자닌, 대출, 억만, 투자, 만기, 수익성, 투자, 매력, 골딘, ...</td>\n",
       "      <td>[미래에셋대우, 홍콩, 랜드마크, 오피스, 투자]</td>\n",
       "      <td>경제</td>\n",
       "      <td>12</td>\n",
       "    </tr>\n",
       "    <tr>\n",
       "      <th>7</th>\n",
       "      <td>2019-04-18</td>\n",
       "      <td>미래에셋대우, 홍콩 오피스 빌딩에 2800억원 투자</td>\n",
       "      <td>[디지털타임스 김민주 기자] 미래에셋대우가 홍콩 카오룽 반도에 위치한 오피스 빌딩 ...</td>\n",
       "      <td>[국제&gt;중국, 경제&gt;국제경제, 경제&gt;금융_재테크]</td>\n",
       "      <td>737167</td>\n",
       "      <td>[디지털타임스, 미래에셋대우, 홍콩, 카오룽, 반도, 위치, 오피스, 빌딩, 골딘,...</td>\n",
       "      <td>[미래에셋대우, 홍콩, 오피스, 빌딩, 투자]</td>\n",
       "      <td>경제</td>\n",
       "      <td>12</td>\n",
       "    </tr>\n",
       "    <tr>\n",
       "      <th>8</th>\n",
       "      <td>2019-04-18</td>\n",
       "      <td>미래에셋대우, 홍콩 구룡반도 오피스빌딩에 2800억원 투자</td>\n",
       "      <td>[ 한민수 기자 ] \\n \\n미래에셋대우는 18일 홍콩 이스트 카우룽에 위치한 오피...</td>\n",
       "      <td>[경제&gt;금융_재테크, 경제&gt;국제경제]</td>\n",
       "      <td>737167</td>\n",
       "      <td>[미래에셋대우, 홍콩, 이스트, 카우룽, 위치, 오피스, 빌딩, 골딘, 파이낸셜, ...</td>\n",
       "      <td>[미래에셋대우, 홍콩, 구룡반도, 오피스, 빌딩, 투자]</td>\n",
       "      <td>경제</td>\n",
       "      <td>12</td>\n",
       "    </tr>\n",
       "    <tr>\n",
       "      <th>9</th>\n",
       "      <td>2019-04-18</td>\n",
       "      <td>미래에셋대우, 홍콩 구룡반도 오피스빌딩 2800억 투자</td>\n",
       "      <td>[디지털타임스 차현정 기자] 미래에셋대우는 18일 홍콩 CBD2(이스트 카우룽)에 ...</td>\n",
       "      <td>[경제&gt;국제경제, 경제&gt;금융_재테크, 경제&gt;산업_기업]</td>\n",
       "      <td>737167</td>\n",
       "      <td>[디지털타임스, 미래에셋대우, 홍콩, 이스트, 카우룽, 위치, 오피스, 빌딩, 골딘...</td>\n",
       "      <td>[미래에셋대우, 홍콩, 구룡반도, 오피스, 빌딩, 투자]</td>\n",
       "      <td>경제</td>\n",
       "      <td>12</td>\n",
       "    </tr>\n",
       "    <tr>\n",
       "      <th>10</th>\n",
       "      <td>2019-04-18</td>\n",
       "      <td>\"미래에셋대우, 올해 실적 개선 기대…목표가 하향\"</td>\n",
       "      <td>[디지털타임스 김민주 기자] NH투자증권은 18일 미래에셋대우에 대해 올해부터 글로...</td>\n",
       "      <td>[경제&gt;증권_증시, 경제&gt;국제경제, 경제&gt;금융_재테크]</td>\n",
       "      <td>737167</td>\n",
       "      <td>[디지털타임스, 투자, 증권, 미래에셋대우, 글로벌, 증시, 랠리, 힘, 실적, 평...</td>\n",
       "      <td>[미래에셋대우, 실적, 목표, 하향]</td>\n",
       "      <td>경제</td>\n",
       "      <td>-1</td>\n",
       "    </tr>\n",
       "    <tr>\n",
       "      <th>11</th>\n",
       "      <td>2019-04-17</td>\n",
       "      <td>미래에셋대우, '생명' 주식 매일 담는 까닭</td>\n",
       "      <td>지분 16.2%서 21%로 늘려 \\n\"대주주 지배력 강화 위한 포석\" \\n \\n \\...</td>\n",
       "      <td>[경제&gt;국제경제, 경제&gt;금융_재테크, 경제&gt;산업_기업]</td>\n",
       "      <td>737166</td>\n",
       "      <td>[지분, 대주, 지배, 포석, 오형, 미래에셋대우, 생명, 주식, 넉, 지분, 지분...</td>\n",
       "      <td>[미래에셋대우, 생명, 주식, 매일, 까닭]</td>\n",
       "      <td>경제</td>\n",
       "      <td>-1</td>\n",
       "    </tr>\n",
       "    <tr>\n",
       "      <th>12</th>\n",
       "      <td>2019-04-16</td>\n",
       "      <td>미래에셋대우, 국내 선물·옵션 온라인 수수료 지원 이벤트</td>\n",
       "      <td>[디지털타임스 김민주 기자] 미래에셋대우는 다이렉트 비대면 국내선물, 옵션 온라인 ...</td>\n",
       "      <td>[경제&gt;서비스_쇼핑, 경제&gt;금융_재테크, 경제&gt;산업_기업]</td>\n",
       "      <td>737165</td>\n",
       "      <td>[디지털타임스, 미래에셋대우, 다이렉트, 비대면, 국내선, 물, 옵션, 온라인, 수...</td>\n",
       "      <td>[미래에셋대우, 국내, 선물, 옵션, 온라인, 수수료, 지원, 이벤트]</td>\n",
       "      <td>경제</td>\n",
       "      <td>5</td>\n",
       "    </tr>\n",
       "    <tr>\n",
       "      <th>13</th>\n",
       "      <td>2019-04-16</td>\n",
       "      <td>미래에셋대우, 비대면 국내선물·옵션 온라인 수수료 지원</td>\n",
       "      <td>[ 한민수 기자 ] 미래에셋대우는 16일 다이렉트 비대면 국내 선물·옵션 온라인 수...</td>\n",
       "      <td>[경제&gt;서비스_쇼핑, 경제&gt;금융_재테크]</td>\n",
       "      <td>737165</td>\n",
       "      <td>[미래에셋대우, 다이렉트, 비대면, 국내, 선물, 옵션, 온라인, 수수료, 지원, ...</td>\n",
       "      <td>[미래에셋대우, 비대면, 국내선, 물, 옵션, 온라인, 수수료, 지원]</td>\n",
       "      <td>경제</td>\n",
       "      <td>5</td>\n",
       "    </tr>\n",
       "    <tr>\n",
       "      <th>15</th>\n",
       "      <td>2019-04-14</td>\n",
       "      <td>홍성국 전 미래에셋대우 사장 \"벤처기업 육성 절박함이 '수축사회' 막을 것\"</td>\n",
       "      <td>박영선 장관으로 주목받는 \\n홍성국 전 미래에셋대우 사장 \\n \\n성장 아닌, 파이...</td>\n",
       "      <td>[경제&gt;산업_기업, 문화&gt;문화일반]</td>\n",
       "      <td>737163</td>\n",
       "      <td>[박영선, 장관, 주목, 홍성, 국, 미래에셋대우, 사장, 성장, 파이, 수축, 사...</td>\n",
       "      <td>[홍성, 국, 미래에셋대우, 사장, 벤처기업, 육성, 절박, 함, 수축, 사회, 막]</td>\n",
       "      <td>경제</td>\n",
       "      <td>-1</td>\n",
       "    </tr>\n",
       "    <tr>\n",
       "      <th>16</th>\n",
       "      <td>2019-04-11</td>\n",
       "      <td>미래에셋대우, ELW 수수료 면제 이벤트 나서</td>\n",
       "      <td>미래에셋대우는 11일 회사가 발행하는 ELW를 거래할 때 매매수수료를 면제해주는 이...</td>\n",
       "      <td>[경제&gt;서비스_쇼핑, 경제&gt;금융_재테크, 경제&gt;산업_기업]</td>\n",
       "      <td>737160</td>\n",
       "      <td>[미래에셋대우, 회사, 발행, 거래, 매매, 수수료, 면제, 해주, 이벤트, 다만,...</td>\n",
       "      <td>[미래에셋대우, 수수료, 면제, 이벤트]</td>\n",
       "      <td>경제</td>\n",
       "      <td>-1</td>\n",
       "    </tr>\n",
       "    <tr>\n",
       "      <th>17</th>\n",
       "      <td>2019-04-11</td>\n",
       "      <td>미래에셋대우, ELW 매매수수료 면제 이벤트</td>\n",
       "      <td>미래에셋대우는 11일 미래에셋대우가 발행하는 ELW를 거래하면 매매수수료를 면제하는...</td>\n",
       "      <td>[경제&gt;서비스_쇼핑, 경제&gt;금융_재테크, 경제&gt;산업_기업]</td>\n",
       "      <td>737160</td>\n",
       "      <td>[미래에셋대우, 미래에셋대우, 발행, 거래, 매매, 수수료, 면, 제하, 이벤트, ...</td>\n",
       "      <td>[미래에셋대우, 매매, 수수료, 면제, 이벤트]</td>\n",
       "      <td>경제</td>\n",
       "      <td>-1</td>\n",
       "    </tr>\n",
       "    <tr>\n",
       "      <th>18</th>\n",
       "      <td>2019-04-11</td>\n",
       "      <td>미래에셋대우, ELW 무료 수수료 이벤트 실시</td>\n",
       "      <td>미래에셋대우(006800)는 11일부터 7월 10일까지 3개월간 자사 발행 주식워런...</td>\n",
       "      <td>[경제&gt;서비스_쇼핑, 경제&gt;금융_재테크, 경제&gt;산업_기업]</td>\n",
       "      <td>737160</td>\n",
       "      <td>[미래에셋대우, 월간, 자사, 발행, 주식, 워런, 트, 증권, 거래, 매매, 수수...</td>\n",
       "      <td>[미래에셋대우, 무료, 수수료, 이벤트, 실시]</td>\n",
       "      <td>경제</td>\n",
       "      <td>-1</td>\n",
       "    </tr>\n",
       "    <tr>\n",
       "      <th>19</th>\n",
       "      <td>2019-04-11</td>\n",
       "      <td>미래에셋대우, ELW 무료 수수료 행사 실시</td>\n",
       "      <td>[ 한민수 기자 ] 미래에셋대우는 11일부터 미래에셋대우가 발행하는 주가워런트증권(...</td>\n",
       "      <td>[경제&gt;금융_재테크, 경제&gt;서비스_쇼핑]</td>\n",
       "      <td>737160</td>\n",
       "      <td>[미래에셋대우, 미래에셋대우, 발행, 주가, 워런, 트, 증권, 거래, 매매, 수수...</td>\n",
       "      <td>[미래에셋대우, 무료, 수수료, 행사, 실시]</td>\n",
       "      <td>경제</td>\n",
       "      <td>-1</td>\n",
       "    </tr>\n",
       "    <tr>\n",
       "      <th>20</th>\n",
       "      <td>2019-04-09</td>\n",
       "      <td>미래에셋대우 2019 제1회 전국 자산관리 세미나 개최</td>\n",
       "      <td>미래에셋대우는 10일 오후 4시부터 전국 영업점에서 자산관리세미나를 개최한다고 9일...</td>\n",
       "      <td>[경제&gt;경제일반]</td>\n",
       "      <td>737158</td>\n",
       "      <td>[미래에셋대우, 오후, 전국, 영업점, 자산, 세미나, 개최, 세미나, 포트폴리오,...</td>\n",
       "      <td>[미래에셋대우, 전국, 자산, 세미나, 개최]</td>\n",
       "      <td>경제</td>\n",
       "      <td>19</td>\n",
       "    </tr>\n",
       "    <tr>\n",
       "      <th>21</th>\n",
       "      <td>2019-04-09</td>\n",
       "      <td>미래에셋대우, 9일 `핵심자산` 주제로 전국자산관리세미나 개최</td>\n",
       "      <td>미래에셋대우는 오는 10일 오후 4시부터 전국 영업점에서 '핵심 자산(Core As...</td>\n",
       "      <td>[경제&gt;경제일반]</td>\n",
       "      <td>737158</td>\n",
       "      <td>[미래에셋대우, 오후, 전국, 영업점, 핵심, 자산, 주제, 시장, 변동성, 상품,...</td>\n",
       "      <td>[미래에셋대우, 핵심, 자산, 주제, 전국, 자산, 세미나, 개최]</td>\n",
       "      <td>경제</td>\n",
       "      <td>19</td>\n",
       "    </tr>\n",
       "    <tr>\n",
       "      <th>22</th>\n",
       "      <td>2019-04-09</td>\n",
       "      <td>\"현대제철, 강판 가격 상승 기대\"&lt;미래에셋대우&gt;</td>\n",
       "      <td>[디지털타임스 차현정 기자] 미래에셋대우는 9일 현대제철에 대해 철강 원재료 가격이...</td>\n",
       "      <td>[경제&gt;국제경제, 경제&gt;산업_기업, 경제&gt;유통]</td>\n",
       "      <td>737158</td>\n",
       "      <td>[디지털타임스, 미래에셋대우, 현대, 제철, 철강, 원재, 료, 가격, 상승세, 가...</td>\n",
       "      <td>[현대, 제철, 강판, 가격, 미래에셋대우]</td>\n",
       "      <td>경제</td>\n",
       "      <td>-1</td>\n",
       "    </tr>\n",
       "    <tr>\n",
       "      <th>23</th>\n",
       "      <td>2019-04-08</td>\n",
       "      <td>미래에셋대우, 4월은 영업점 '통합 대형화'의 달</td>\n",
       "      <td>[머니투데이 임동욱 기자] [4월 통합 마무리 후 총 점포수 101개로 줄어, 올들...</td>\n",
       "      <td>[경제&gt;산업_기업]</td>\n",
       "      <td>737157</td>\n",
       "      <td>[머니투데이, 통합, 마무리, 점포, 점포, 폐점, 미래에셋대우, 점포, 통합, 영...</td>\n",
       "      <td>[미래에셋대우, 영업점, 통합, 대형화]</td>\n",
       "      <td>경제</td>\n",
       "      <td>-1</td>\n",
       "    </tr>\n",
       "    <tr>\n",
       "      <th>24</th>\n",
       "      <td>2019-04-08</td>\n",
       "      <td>제주항공, 1Q 예상치 넘는 호실적…목표가↑-미래에셋대우</td>\n",
       "      <td>[머니투데이 박계현 기자] 미래에셋대우가 8일 제주항공에 대해 \"공급 증가로 시장점...</td>\n",
       "      <td>[경제&gt;증권_증시, 경제&gt;국제경제]</td>\n",
       "      <td>737157</td>\n",
       "      <td>[머니투데이, 미래에셋대우, 제주항공, 공급, 증가, 시장점유율, 단위, 비용, 투...</td>\n",
       "      <td>[제주항공, 예상치, 호실적, 목표, 미래에셋대우]</td>\n",
       "      <td>경제</td>\n",
       "      <td>-1</td>\n",
       "    </tr>\n",
       "    <tr>\n",
       "      <th>25</th>\n",
       "      <td>2019-04-05</td>\n",
       "      <td>리프트 안착, 미래에셋대우 프리IPO 대박 기대감↑</td>\n",
       "      <td>[머니투데이 김명룡 기자] [미래에셋대우, 디디추싱·그랩 등 차량공유업체 Pre-I...</td>\n",
       "      <td>[경제&gt;증권_증시, 경제&gt;국제경제, 경제&gt;산업_기업]</td>\n",
       "      <td>737154</td>\n",
       "      <td>[머니투데이, 미래에셋대우, 디디, 추싱, 랩, 차량, 공유, 업체, 투자, 미래에...</td>\n",
       "      <td>[리프트, 안착, 미래에셋대우, 프리, 대박]</td>\n",
       "      <td>경제</td>\n",
       "      <td>-1</td>\n",
       "    </tr>\n",
       "    <tr>\n",
       "      <th>26</th>\n",
       "      <td>2019-04-04</td>\n",
       "      <td>`자산관리 강자` 미래에셋대우, 수수료 수익 1730억 1위 수성</td>\n",
       "      <td>[디지털타임스 김민주 기자] 미래에셋대우가 WM(자산관리) 부문 수수료 수익에서 1...</td>\n",
       "      <td>[경제&gt;증권_증시, 경제&gt;금융_재테크, 경제&gt;산업_기업]</td>\n",
       "      <td>737153</td>\n",
       "      <td>[디지털타임스, 미래에셋대우, 자산, 수수료, 수익, 차, 명가, 자리, 확, 고하...</td>\n",
       "      <td>[자산, 강, 미래에셋대우, 수수료, 수익, 수성]</td>\n",
       "      <td>경제</td>\n",
       "      <td>-1</td>\n",
       "    </tr>\n",
       "    <tr>\n",
       "      <th>27</th>\n",
       "      <td>2019-04-03</td>\n",
       "      <td>`자산관리 강자` 미래에셋대우, 수수료 수익 1730억 1위 수성</td>\n",
       "      <td>[디지털타임스 김민주 기자] 미래에셋대우가 WM(자산관리) 부문 수수료 수익에서 1...</td>\n",
       "      <td>[경제&gt;증권_증시, 경제&gt;금융_재테크, 경제&gt;산업_기업]</td>\n",
       "      <td>737152</td>\n",
       "      <td>[디지털타임스, 미래에셋대우, 자산, 수수료, 수익, 차, 명가, 자리, 확, 고하...</td>\n",
       "      <td>[자산, 강, 미래에셋대우, 수수료, 수익, 수성]</td>\n",
       "      <td>경제</td>\n",
       "      <td>-1</td>\n",
       "    </tr>\n",
       "    <tr>\n",
       "      <th>28</th>\n",
       "      <td>2019-04-03</td>\n",
       "      <td>[대한민국 100대 CEO] 최현만 미래에셋대우 수석부회장 | 자기자본 1위 국내 ...</td>\n",
       "      <td>합병 이후 자기자본 1위 증권사로 거듭난 미래에셋대우는 지난해 어려운 시장 상황 속...</td>\n",
       "      <td>[경제&gt;산업_기업, 경제&gt;증권_증시, 경제&gt;국제경제]</td>\n",
       "      <td>737152</td>\n",
       "      <td>[합병, 증권사, 거듭, 미래에셋대우, 시장, 속, 서도, 통합, 시너지, 바탕, ...</td>\n",
       "      <td>[대한민국, 최현, 미래에셋대우, 수석, 부회장, 자기, 자본, 국내, 증권사, 우뚝]</td>\n",
       "      <td>경제</td>\n",
       "      <td>-1</td>\n",
       "    </tr>\n",
       "    <tr>\n",
       "      <th>29</th>\n",
       "      <td>2019-04-03</td>\n",
       "      <td>미래에셋대우, `자산관리 강자` 자리매김…수수료 수익 1위 `수성`</td>\n",
       "      <td>[디지털타임스 김민주 기자] 미래에셋대우가 WM(자산관리) 부문 수수료 수익에서 1...</td>\n",
       "      <td>[경제&gt;증권_증시, 경제&gt;금융_재테크, 경제&gt;산업_기업]</td>\n",
       "      <td>737152</td>\n",
       "      <td>[디지털타임스, 미래에셋대우, 자산, 수수료, 수익, 차, 명가, 자리, 확, 고하...</td>\n",
       "      <td>[미래에셋대우, 자산, 강, 자리, 김, 수수료, 수익, 수성]</td>\n",
       "      <td>경제</td>\n",
       "      <td>-1</td>\n",
       "    </tr>\n",
       "    <tr>\n",
       "      <th>30</th>\n",
       "      <td>2019-04-03</td>\n",
       "      <td>미래에셋대우 온라인전용 펀드, 설정액 8700억 돌파… 업계 1위</td>\n",
       "      <td>[디지털타임스 김민주 기자] 미래에셋대우는 온라인전용 펀드 설정액이 8700억원을 ...</td>\n",
       "      <td>[경제&gt;금융_재테크, 경제&gt;서비스_쇼핑, 경제&gt;국제경제]</td>\n",
       "      <td>737152</td>\n",
       "      <td>[디지털타임스, 미래에셋대우, 온라인, 전용, 펀드, 설정액, 돌파, 업계, 미래에...</td>\n",
       "      <td>[미래에셋대우, 온라인, 전용, 펀드, 설정액, 돌파, 업계]</td>\n",
       "      <td>경제</td>\n",
       "      <td>-1</td>\n",
       "    </tr>\n",
       "    <tr>\n",
       "      <th>...</th>\n",
       "      <td>...</td>\n",
       "      <td>...</td>\n",
       "      <td>...</td>\n",
       "      <td>...</td>\n",
       "      <td>...</td>\n",
       "      <td>...</td>\n",
       "      <td>...</td>\n",
       "      <td>...</td>\n",
       "      <td>...</td>\n",
       "    </tr>\n",
       "    <tr>\n",
       "      <th>393</th>\n",
       "      <td>2018-04-17</td>\n",
       "      <td>미래에셋대우, 로보포트·로보픽 서비스 시작</td>\n",
       "      <td>미래에셋대우는 17일 '로보포트(Robo-Port)'와 '로보픽(Robo-Pick)...</td>\n",
       "      <td>[IT_과학&gt;인터넷_SNS, 경제&gt;증권_증시, 경제&gt;자동차]</td>\n",
       "      <td>736801</td>\n",
       "      <td>[미래에셋대우, 보포트, 로보픽, 투자, 서비스, 시작, 보포트, 서비스, 투자자,...</td>\n",
       "      <td>[미래에셋대우, 보포트, 로보픽, 서비스, 시작]</td>\n",
       "      <td>IT_과학</td>\n",
       "      <td>1</td>\n",
       "    </tr>\n",
       "    <tr>\n",
       "      <th>394</th>\n",
       "      <td>2018-04-17</td>\n",
       "      <td>미래에셋대우, '혼투' 어려울 땐 '로보포트, 로보픽'</td>\n",
       "      <td>[머니투데이 전병윤 기자] 미래에셋대우가 17일 혼자 투자하기(혼투) 어려운 개인 ...</td>\n",
       "      <td>[IT_과학&gt;인터넷_SNS, IT_과학&gt;콘텐츠, 경제&gt;증권_증시]</td>\n",
       "      <td>736801</td>\n",
       "      <td>[머니투데이, 미래에셋대우, 혼자, 투자, 혼투, 투자자, 보포트, 로보픽, 투자,...</td>\n",
       "      <td>[미래에셋대우, 혼투, 땐, 보포트, 로보픽]</td>\n",
       "      <td>IT_과학</td>\n",
       "      <td>1</td>\n",
       "    </tr>\n",
       "    <tr>\n",
       "      <th>395</th>\n",
       "      <td>2018-04-17</td>\n",
       "      <td>미래에셋대우, 로보포트·로보픽 서비스 오픈</td>\n",
       "      <td>미래에셋대우는 17일 '로보포트'와 '로보픽' 투자정보 서비스를 오픈했다고 밝혔다....</td>\n",
       "      <td>[IT_과학&gt;인터넷_SNS, IT_과학&gt;모바일, IT_과학&gt;콘텐츠]</td>\n",
       "      <td>736801</td>\n",
       "      <td>[미래에셋대우, 보포트, 로보픽, 투자, 서비스, 오픈, 보포트, 서비스, 투자자,...</td>\n",
       "      <td>[미래에셋대우, 보포트, 로보픽, 서비스, 오픈]</td>\n",
       "      <td>IT_과학</td>\n",
       "      <td>1</td>\n",
       "    </tr>\n",
       "    <tr>\n",
       "      <th>396</th>\n",
       "      <td>2018-04-17</td>\n",
       "      <td>미래에셋대우, 독일-영국-캐나다 주식 온라인 재매매 서비스 실시</td>\n",
       "      <td>미래에셋대우는 업계 최초로 유럽(독일, 영국)과 캐나다 주식의 온라인 재매매 서비스...</td>\n",
       "      <td>[국제&gt;유럽_EU, IT_과학&gt;인터넷_SNS, 국제&gt;미국_북미]</td>\n",
       "      <td>736801</td>\n",
       "      <td>[미래에셋대우, 업계, 최초, 유럽, 독일, 영국, 과, 캐나다, 주식, 온라인, ...</td>\n",
       "      <td>[미래에셋대우, 독일, 영국, 캐나다, 주식, 온라인, 재, 매매, 서비스, 실시]</td>\n",
       "      <td>IT_과학</td>\n",
       "      <td>0</td>\n",
       "    </tr>\n",
       "    <tr>\n",
       "      <th>397</th>\n",
       "      <td>2018-04-17</td>\n",
       "      <td>미래에셋대우, 투자정보 서비스 '로보포트' '로보픽' 개시</td>\n",
       "      <td>미래에셋대우는 혼자 하는 투자가 어려운 개인 투자자들을 위한 '로보포트'와 '로보픽...</td>\n",
       "      <td>[IT_과학&gt;인터넷_SNS, 경제&gt;자동차, 경제&gt;증권_증시]</td>\n",
       "      <td>736801</td>\n",
       "      <td>[미래에셋대우, 혼자, 투자가, 투자자, 보포트, 로보픽, 투자, 서비스, 오픈, ...</td>\n",
       "      <td>[미래에셋대우, 투자, 서비스, 보포트, 로보픽, 개시]</td>\n",
       "      <td>IT_과학</td>\n",
       "      <td>1</td>\n",
       "    </tr>\n",
       "    <tr>\n",
       "      <th>398</th>\n",
       "      <td>2018-04-17</td>\n",
       "      <td>미래에셋대우, 독일·영국·캐나다 주식 온라인 재매매 서비스 오픈</td>\n",
       "      <td>미래에셋대우는 업계 최초로 유럽(독일, 영국)과 캐나다 주식의 온라인 재매매 서비스...</td>\n",
       "      <td>[IT_과학&gt;인터넷_SNS, 경제&gt;경제일반, 국제&gt;미국_북미]</td>\n",
       "      <td>736801</td>\n",
       "      <td>[미래에셋대우, 업계, 최초, 유럽, 독일, 영국, 과, 캐나다, 주식, 온라인, ...</td>\n",
       "      <td>[미래에셋대우, 독일, 영국, 캐나다, 주식, 온라인, 재, 매매, 서비스, 오픈]</td>\n",
       "      <td>IT_과학</td>\n",
       "      <td>0</td>\n",
       "    </tr>\n",
       "    <tr>\n",
       "      <th>399</th>\n",
       "      <td>2018-04-17</td>\n",
       "      <td>미래에셋대우, 업계 첫 독일·영국·캐나다 주식 온라인 재매매 서비스</td>\n",
       "      <td>[머니투데이 전병윤 기자] 미래에셋대우가 17일 업계 처음으로 유럽(독일, 영국)과...</td>\n",
       "      <td>[국제&gt;국제일반, IT_과학&gt;인터넷_SNS, 경제&gt;경제일반]</td>\n",
       "      <td>736801</td>\n",
       "      <td>[머니투데이, 미래에셋대우, 업계, 처, 음으로, 유럽, 독일, 영국, 과, 캐나다...</td>\n",
       "      <td>[미래에셋대우, 업계, 첫, 독일, 영국, 캐나다, 주식, 온라인, 재, 매매, 서비스]</td>\n",
       "      <td>IT_과학</td>\n",
       "      <td>0</td>\n",
       "    </tr>\n",
       "    <tr>\n",
       "      <th>400</th>\n",
       "      <td>2018-04-17</td>\n",
       "      <td>미래에셋대우, 독일·영국·캐나다 주식 당일 매매 서비스</td>\n",
       "      <td>미래에셋대우가 독일, 영국, 캐나다 주식의 온라인 재매매 서비스를 17일 개시했다고...</td>\n",
       "      <td>[국제&gt;미국_북미, IT_과학&gt;인터넷_SNS, 경제&gt;자동차]</td>\n",
       "      <td>736801</td>\n",
       "      <td>[미래에셋대우, 독일, 영국, 캐나다, 주식, 온라인, 재, 매매, 서비스, 개시,...</td>\n",
       "      <td>[미래에셋대우, 독일, 영국, 캐나다, 주식, 당일, 매매, 서비스]</td>\n",
       "      <td>IT_과학</td>\n",
       "      <td>0</td>\n",
       "    </tr>\n",
       "    <tr>\n",
       "      <th>401</th>\n",
       "      <td>2018-04-16</td>\n",
       "      <td>미래에셋대우 \"다이렉트 예탁자산 11조 돌파\"</td>\n",
       "      <td>미래에셋대우는 16일 다이렉트 계좌의 예탁자산이 11조원을 돌파했다고 밝혔다. \\n...</td>\n",
       "      <td>[IT_과학&gt;모바일]</td>\n",
       "      <td>736800</td>\n",
       "      <td>[미래에셋대우, 다이렉트, 계좌, 예, 탁자, 산이, 돌파, 스마트폰, 계좌, 개설...</td>\n",
       "      <td>[미래에셋대우, 다이렉트, 예, 탁자, 산, 돌파]</td>\n",
       "      <td>IT_과학</td>\n",
       "      <td>2</td>\n",
       "    </tr>\n",
       "    <tr>\n",
       "      <th>412</th>\n",
       "      <td>2018-03-30</td>\n",
       "      <td>미래에셋대우 ‘해외주식 거래 차별화’, 국내 첫 브라질 주식 거래</td>\n",
       "      <td>미래에셋대우는 국내주식은 물론 해외주식 거래에서도 차별화된 서비스를 제공하기 위해 ...</td>\n",
       "      <td>[IT_과학&gt;인터넷_SNS, 경제&gt;증권_증시, 경제&gt;금융_재테크]</td>\n",
       "      <td>736783</td>\n",
       "      <td>[미래에셋대우, 국내, 주식, 해외, 주식, 거래, 차별, 서비스, 제공, 노력, ...</td>\n",
       "      <td>[미래에셋대우, 해외, 주식, 거래, 차별, 국내, 첫, 브라질, 주식, 거래]</td>\n",
       "      <td>IT_과학</td>\n",
       "      <td>0</td>\n",
       "    </tr>\n",
       "    <tr>\n",
       "      <th>417</th>\n",
       "      <td>2018-03-28</td>\n",
       "      <td>미래에셋대우, 김포산단공단 등과 기업 금융서비스 업무협약</td>\n",
       "      <td>미래에셋대우는 김포상공회의소, 김포산업단지관리공단과 '강소기업 금융서비스 업무협약식...</td>\n",
       "      <td>[경제&gt;산업_기업, IT_과학&gt;인터넷_SNS, 경제&gt;자원]</td>\n",
       "      <td>736781</td>\n",
       "      <td>[미래에셋대우, 김포, 상공회의소, 김포, 산업, 단지, 공단, 강소기업, 금융, ...</td>\n",
       "      <td>[미래에셋대우, 김, 포산, 단공, 단, 기업, 금융, 서비스, 업무, 협약]</td>\n",
       "      <td>IT_과학</td>\n",
       "      <td>-1</td>\n",
       "    </tr>\n",
       "    <tr>\n",
       "      <th>424</th>\n",
       "      <td>2018-03-27</td>\n",
       "      <td>[퇴직연금 대상 / 가입기업 최우수상] 가입자교육 부문 특별상 / 미래에셋대우</td>\n",
       "      <td>제4회 대한민국 퇴직연금대상 심사위원들은 가입자 교육에 큰 의미를 부여했다. 퇴직연...</td>\n",
       "      <td>[IT_과학&gt;인터넷_SNS, 경제&gt;국제경제, 경제&gt;증권_증시]</td>\n",
       "      <td>736780</td>\n",
       "      <td>[대한민국, 퇴직, 연금, 심사, 위원, 가입자, 교육, 의미, 부여, 퇴직, 연금...</td>\n",
       "      <td>[퇴직, 연금, 가입, 기업, 최우수상, 가입자, 교육, 특별상, 미래에셋대우]</td>\n",
       "      <td>IT_과학</td>\n",
       "      <td>-1</td>\n",
       "    </tr>\n",
       "    <tr>\n",
       "      <th>457</th>\n",
       "      <td>2018-02-27</td>\n",
       "      <td>로또 인터넷 판매 사업자에 케이뱅크・미래에셋대우도 '도전'</td>\n",
       "      <td>12월 2일 로또 인터넷 판매 첫 시행이 예정된 가운데 케이뱅크, 미래에셋대우 등이...</td>\n",
       "      <td>[IT_과학&gt;인터넷_SNS, 경제&gt;산업_기업]</td>\n",
       "      <td>736752</td>\n",
       "      <td>[로또, 인터넷, 판매, 첫, 시행, 가운데, 케이, 뱅크, 미래에셋대우, 수탁, ...</td>\n",
       "      <td>[로또, 인터넷, 판매, 사업자, 케이, 뱅크, 미래에셋대우, 도전]</td>\n",
       "      <td>IT_과학</td>\n",
       "      <td>-1</td>\n",
       "    </tr>\n",
       "    <tr>\n",
       "      <th>469</th>\n",
       "      <td>2018-02-07</td>\n",
       "      <td>미래에셋대우, 글로벌 투자 전문가 양성차 中알리바바 탐방</td>\n",
       "      <td>미래에셋대우가 이달초 글로벌 투자 전문가를 양성하는 프로그램 일환으로 4박5일간 해...</td>\n",
       "      <td>[IT_과학&gt;인터넷_SNS, IT_과학&gt;과학]</td>\n",
       "      <td>736732</td>\n",
       "      <td>[미래에셋대우, 달초, 글로벌, 투자, 전문가, 양, 성하, 프로그램, 일환, 박,...</td>\n",
       "      <td>[미래에셋대우, 글로벌, 투자, 전문가, 양성, 차, 알리바바, 탐방]</td>\n",
       "      <td>IT_과학</td>\n",
       "      <td>0</td>\n",
       "    </tr>\n",
       "    <tr>\n",
       "      <th>470</th>\n",
       "      <td>2018-02-07</td>\n",
       "      <td>미래에셋대우 \"WM직원, 中 알리바바 탐방 연수\"</td>\n",
       "      <td>미래에셋대우는 글로벌 투자 전문가 양성 프로그램의 일환으로 자산관리를 담당하는 영업...</td>\n",
       "      <td>[IT_과학&gt;인터넷_SNS]</td>\n",
       "      <td>736732</td>\n",
       "      <td>[미래에셋대우, 글로벌, 투자, 전문가, 양성, 프로그램, 일환, 자산, 담, 영업...</td>\n",
       "      <td>[미래에셋대우, 직원, 알리바바, 탐방, 연수]</td>\n",
       "      <td>IT_과학</td>\n",
       "      <td>0</td>\n",
       "    </tr>\n",
       "    <tr>\n",
       "      <th>42</th>\n",
       "      <td>2019-03-27</td>\n",
       "      <td>미래에셋대우 사외이사 2명, 주총 재선임 직후 \"그만두겠다\" 사임</td>\n",
       "      <td>[머니투데이 임동욱 기자] [27일 정기주총에서 권태균, 박찬수 사외이사 재선임, ...</td>\n",
       "      <td>[사회&gt;사회일반]</td>\n",
       "      <td>737145</td>\n",
       "      <td>[머니투데이, 정기, 권태균, 박찬수, 사외이사, 재선, 임, 몇, 시간, 이사회,...</td>\n",
       "      <td>[미래에셋대우, 사외이사, 재선, 임, 직후, 만두, 사임]</td>\n",
       "      <td>사회</td>\n",
       "      <td>-1</td>\n",
       "    </tr>\n",
       "    <tr>\n",
       "      <th>43</th>\n",
       "      <td>2019-03-27</td>\n",
       "      <td>미래에셋대우, 권태균·박찬수 사외이사 사의 받아들여</td>\n",
       "      <td>미래에셋대우는 27일 열린 이사회에서 권태균·박찬수 사외이사의 사의를 받아들이기로 ...</td>\n",
       "      <td>[사회&gt;사회일반]</td>\n",
       "      <td>737145</td>\n",
       "      <td>[미래에셋대우, 이사회, 권태균, 박찬수, 사외이사, 사의, 아들, 이기, 결정, ...</td>\n",
       "      <td>[미래에셋대우, 권태균, 박찬수, 사외이사, 사의, 아들]</td>\n",
       "      <td>사회</td>\n",
       "      <td>-1</td>\n",
       "    </tr>\n",
       "    <tr>\n",
       "      <th>67</th>\n",
       "      <td>2019-02-19</td>\n",
       "      <td>미래에셋대우, 전자투표 설명회</td>\n",
       "      <td>[ 오형주 기자 ] 미래에셋대우는 주주총회 전자투표시스템 ‘플랫폼 V’ 설명회를 오...</td>\n",
       "      <td>[사회&gt;사회일반]</td>\n",
       "      <td>737109</td>\n",
       "      <td>[미래에셋대우, 주주총회, 투표, 시스템, 플랫폼, 서울, 여의도, 사옥, 연, 플...</td>\n",
       "      <td>[미래에셋대우, 투표]</td>\n",
       "      <td>사회</td>\n",
       "      <td>-1</td>\n",
       "    </tr>\n",
       "    <tr>\n",
       "      <th>91</th>\n",
       "      <td>2019-01-17</td>\n",
       "      <td>미래에셋대우 합병 후 첫 290명 희망퇴직</td>\n",
       "      <td>미래에셋대우가 직원 290여명(임금피크 대상자의 명예퇴직, 휴직자 포함)의 희망퇴직...</td>\n",
       "      <td>[사회&gt;장애인]</td>\n",
       "      <td>737076</td>\n",
       "      <td>[미래에셋대우, 직원, 여명, 임금, 피크, 대상자, 명예퇴직, 휴직, 자, 포함,...</td>\n",
       "      <td>[미래에셋대우, 합병, 첫, 희망, 퇴직]</td>\n",
       "      <td>사회</td>\n",
       "      <td>-1</td>\n",
       "    </tr>\n",
       "    <tr>\n",
       "      <th>93</th>\n",
       "      <td>2019-01-17</td>\n",
       "      <td>미래에셋대우, 합병 후 첫 희망퇴직…업계 최대 규모 교육비 지원</td>\n",
       "      <td>미래에셋대우는 합병 이후 첫 희망퇴직을 실시한 결과 모두 290명이 희망퇴직을 하게...</td>\n",
       "      <td>[사회&gt;사회일반]</td>\n",
       "      <td>737076</td>\n",
       "      <td>[미래에셋대우, 합병, 첫, 희망, 퇴직, 실시, 결과, 모두, 희망, 퇴직, 희망...</td>\n",
       "      <td>[미래에셋대우, 합병, 첫, 희망, 퇴직, 업계, 규모, 교육비, 지원]</td>\n",
       "      <td>사회</td>\n",
       "      <td>-1</td>\n",
       "    </tr>\n",
       "    <tr>\n",
       "      <th>148</th>\n",
       "      <td>2018-11-20</td>\n",
       "      <td>미래에셋대우 노조, 구조조정 반발 컨테이너 농성 돌입</td>\n",
       "      <td>미래에셋대우노조가 사측의 구조조정 계획에 반발해 철야 농성에 돌입한다. \\n20일 ...</td>\n",
       "      <td>[사회&gt;노동_복지, 사회&gt;사건_사고]</td>\n",
       "      <td>737018</td>\n",
       "      <td>[미래에셋대우, 노조, 구조조정, 계획, 반발, 철야, 농성, 돌입, 오전, 미래에...</td>\n",
       "      <td>[미래에셋대우, 노조, 구조조정, 반발, 컨테이너, 농성, 돌입]</td>\n",
       "      <td>사회</td>\n",
       "      <td>-1</td>\n",
       "    </tr>\n",
       "    <tr>\n",
       "      <th>180</th>\n",
       "      <td>2018-10-22</td>\n",
       "      <td>미래에셋대우, 손실시 해외주식 지급 ELS 등 9종 판매</td>\n",
       "      <td>[머니투데이 전병윤 기자] 미래에셋대우가 22일 연 5.0~8.0% 수익률을 지급하...</td>\n",
       "      <td>[사회&gt;사건_사고]</td>\n",
       "      <td>736989</td>\n",
       "      <td>[머니투데이, 미래에셋대우, 연, 수익률, 지급, 다양, 구조, 지수, 주가, 계,...</td>\n",
       "      <td>[미래에셋대우, 손실, 시, 해외, 주식, 지급, 종, 판매]</td>\n",
       "      <td>사회</td>\n",
       "      <td>-1</td>\n",
       "    </tr>\n",
       "    <tr>\n",
       "      <th>181</th>\n",
       "      <td>2018-10-16</td>\n",
       "      <td>미래에셋대우, 손실시 해외주식 지급 ELS 등 10종 판매</td>\n",
       "      <td>[머니투데이 전병윤 기자] \\n\\n미래에셋대우가 16일 연 4.4%에서 연 7.3%...</td>\n",
       "      <td>[사회&gt;사회일반]</td>\n",
       "      <td>736983</td>\n",
       "      <td>[머니투데이, 미래에셋대우, 연, 연, 다양, 구조, 지수, 주가, 계, 증권, 종...</td>\n",
       "      <td>[미래에셋대우, 손실, 시, 해외, 주식, 지급, 종, 판매]</td>\n",
       "      <td>사회</td>\n",
       "      <td>-1</td>\n",
       "    </tr>\n",
       "    <tr>\n",
       "      <th>182</th>\n",
       "      <td>2018-10-15</td>\n",
       "      <td>이번엔 미래에셋대우…금감원, 종합업무검사</td>\n",
       "      <td>금융감독원이 미래에셋대우에 대한 종합검사에 나선다. 업무 전반에 대한 검사를 시행하...</td>\n",
       "      <td>[사회&gt;의료_건강]</td>\n",
       "      <td>736982</td>\n",
       "      <td>[금융감독원, 미래에셋대우, 종합, 검사, 나선, 업무, 전반, 검사, 시행, 지난...</td>\n",
       "      <td>[미래에셋대우, 금감원, 종합, 업무, 검사]</td>\n",
       "      <td>사회</td>\n",
       "      <td>-1</td>\n",
       "    </tr>\n",
       "    <tr>\n",
       "      <th>188</th>\n",
       "      <td>2018-10-08</td>\n",
       "      <td>미래에셋대우, HTS 먹통…\"문제 파악 중\"</td>\n",
       "      <td>미래에셋대우의 홈트레이딩시스템(HTS)이 8일 오전 접속이 안되는 등 오작동을 일으...</td>\n",
       "      <td>[사회&gt;사회일반]</td>\n",
       "      <td>736975</td>\n",
       "      <td>[미래에셋대우, 홈, 트레이딩, 시스템, 오전, 접속, 오, 작동, 증권, 업계, ...</td>\n",
       "      <td>[미래에셋대우, 먹통, 문제, 파악]</td>\n",
       "      <td>사회</td>\n",
       "      <td>-1</td>\n",
       "    </tr>\n",
       "    <tr>\n",
       "      <th>94</th>\n",
       "      <td>2019-01-16</td>\n",
       "      <td>금호타이어-미래에셋대우, '광주공장 이전' 위한 업무제휴 협약</td>\n",
       "      <td>금호타이어는 16일 광주광역시청에서 미래에셋대우와 '광주공장 부지 도시계획 변경 및...</td>\n",
       "      <td>[지역&gt;전남]</td>\n",
       "      <td>737075</td>\n",
       "      <td>[금호, 타이어, 광주, 광역시, 청, 미래에셋대우, 광주, 공장, 부지, 도시, ...</td>\n",
       "      <td>[금호, 타이어, 미래에셋대우, 광주, 공장, 이전, 업무, 제휴, 협약]</td>\n",
       "      <td>지역</td>\n",
       "      <td>-1</td>\n",
       "    </tr>\n",
       "    <tr>\n",
       "      <th>342</th>\n",
       "      <td>2018-05-15</td>\n",
       "      <td>미래에셋대우, 희망체인리더 1기 발대식 개최</td>\n",
       "      <td>미래에셋대우는 임직원으로부터 나온 사회공헌 아이디어가 새로운 기업문화로 정착될 수 ...</td>\n",
       "      <td>[지역&gt;지역일반]</td>\n",
       "      <td>736829</td>\n",
       "      <td>[미래에셋대우, 임직원, 사회, 공헌, 아이디어, 새, 기업, 문화, 정착, 도록,...</td>\n",
       "      <td>[미래에셋대우, 희망, 체인, 리더, 발대식, 개최]</td>\n",
       "      <td>지역</td>\n",
       "      <td>-1</td>\n",
       "    </tr>\n",
       "    <tr>\n",
       "      <th>354</th>\n",
       "      <td>2018-05-04</td>\n",
       "      <td>미래에셋대우 \"고객자산관리 전문가 'PB이사' 신규 선임\"</td>\n",
       "      <td>미래에셋대우는 자산관리(WM)부문에서 담당분야의 전문인력인 PB이사를 21명 신규 ...</td>\n",
       "      <td>[지역&gt;지역일반]</td>\n",
       "      <td>736818</td>\n",
       "      <td>[미래에셋대우, 자산, 담당, 분야, 전문, 인력, 이사, 선임, 이사, 우수, 프...</td>\n",
       "      <td>[미래에셋대우, 고객, 자산, 전문가, 이사, 선임]</td>\n",
       "      <td>지역</td>\n",
       "      <td>-1</td>\n",
       "    </tr>\n",
       "    <tr>\n",
       "      <th>410</th>\n",
       "      <td>2018-04-02</td>\n",
       "      <td>미래에셋대우, `2018 퇴직연금 세미나` 전국 6곳서 개최</td>\n",
       "      <td>미래에셋대우는 오는 3일부터 2주간 '2018년 미래에셋대우 퇴직연금 세미나'를 개...</td>\n",
       "      <td>[지역&gt;지역일반]</td>\n",
       "      <td>736786</td>\n",
       "      <td>[미래에셋대우, 주간, 미래에셋대우, 퇴직, 연금, 세미나, 개최, 미래에셋대우, ...</td>\n",
       "      <td>[미래에셋대우, 퇴직, 연금, 세미나, 전국, 곳, 개최]</td>\n",
       "      <td>지역</td>\n",
       "      <td>-1</td>\n",
       "    </tr>\n",
       "    <tr>\n",
       "      <th>411</th>\n",
       "      <td>2018-04-02</td>\n",
       "      <td>미래에셋대우, 2018 퇴직연금 세미나 개최</td>\n",
       "      <td>미래에셋대우(006800)는 3일부터 2주간에 걸쳐 ‘2018년 미래에셋대우 퇴직연...</td>\n",
       "      <td>[지역&gt;지역일반]</td>\n",
       "      <td>736786</td>\n",
       "      <td>[미래에셋대우, 주간, 미래에셋대우, 퇴직, 연금, 세미나, 개최, 미래에셋대우, ...</td>\n",
       "      <td>[미래에셋대우, 퇴직, 연금, 세미나, 개최]</td>\n",
       "      <td>지역</td>\n",
       "      <td>-1</td>\n",
       "    </tr>\n",
       "  </tbody>\n",
       "</table>\n",
       "<p>468 rows × 9 columns</p>\n",
       "</div>"
      ],
      "text/plain": [
       "           date                                              title  \\\n",
       "0    2019-04-19                  미래에셋대우-에트리홀딩스, 중소·벤처기업 성장지원 업무 협약   \n",
       "1    2019-04-19             미래에셋대우, 에트리홀딩스와 `중소·벤처기업 성장 지원` MOU 체결   \n",
       "2    2019-04-19                        홍콩 오피스 빌딩에 2800억 투자한 미래에셋대우   \n",
       "3    2019-04-18                        홍콩 오피스 빌딩에 2800억 투자한 미래에셋대우   \n",
       "4    2019-04-18                                 해외 부동산 쓸어담는 미래에셋대우   \n",
       "5    2019-04-18                              해외 부동산 투자 속도내는 미래에셋대우   \n",
       "6    2019-04-18                     미래에셋대우, 홍콩 랜드마크 오피스에 2800억원 투자   \n",
       "7    2019-04-18                       미래에셋대우, 홍콩 오피스 빌딩에 2800억원 투자   \n",
       "8    2019-04-18                   미래에셋대우, 홍콩 구룡반도 오피스빌딩에 2800억원 투자   \n",
       "9    2019-04-18                     미래에셋대우, 홍콩 구룡반도 오피스빌딩 2800억 투자   \n",
       "10   2019-04-18                       \"미래에셋대우, 올해 실적 개선 기대…목표가 하향\"   \n",
       "11   2019-04-17                           미래에셋대우, '생명' 주식 매일 담는 까닭   \n",
       "12   2019-04-16                    미래에셋대우, 국내 선물·옵션 온라인 수수료 지원 이벤트   \n",
       "13   2019-04-16                     미래에셋대우, 비대면 국내선물·옵션 온라인 수수료 지원   \n",
       "15   2019-04-14         홍성국 전 미래에셋대우 사장 \"벤처기업 육성 절박함이 '수축사회' 막을 것\"   \n",
       "16   2019-04-11                          미래에셋대우, ELW 수수료 면제 이벤트 나서   \n",
       "17   2019-04-11                           미래에셋대우, ELW 매매수수료 면제 이벤트   \n",
       "18   2019-04-11                          미래에셋대우, ELW 무료 수수료 이벤트 실시   \n",
       "19   2019-04-11                           미래에셋대우, ELW 무료 수수료 행사 실시   \n",
       "20   2019-04-09                     미래에셋대우 2019 제1회 전국 자산관리 세미나 개최   \n",
       "21   2019-04-09                 미래에셋대우, 9일 `핵심자산` 주제로 전국자산관리세미나 개최   \n",
       "22   2019-04-09                        \"현대제철, 강판 가격 상승 기대\"<미래에셋대우>   \n",
       "23   2019-04-08                        미래에셋대우, 4월은 영업점 '통합 대형화'의 달   \n",
       "24   2019-04-08                    제주항공, 1Q 예상치 넘는 호실적…목표가↑-미래에셋대우   \n",
       "25   2019-04-05                       리프트 안착, 미래에셋대우 프리IPO 대박 기대감↑   \n",
       "26   2019-04-04               `자산관리 강자` 미래에셋대우, 수수료 수익 1730억 1위 수성   \n",
       "27   2019-04-03               `자산관리 강자` 미래에셋대우, 수수료 수익 1730억 1위 수성   \n",
       "28   2019-04-03  [대한민국 100대 CEO] 최현만 미래에셋대우 수석부회장 | 자기자본 1위 국내 ...   \n",
       "29   2019-04-03              미래에셋대우, `자산관리 강자` 자리매김…수수료 수익 1위 `수성`   \n",
       "30   2019-04-03               미래에셋대우 온라인전용 펀드, 설정액 8700억 돌파… 업계 1위   \n",
       "..          ...                                                ...   \n",
       "393  2018-04-17                            미래에셋대우, 로보포트·로보픽 서비스 시작   \n",
       "394  2018-04-17                     미래에셋대우, '혼투' 어려울 땐 '로보포트, 로보픽'   \n",
       "395  2018-04-17                            미래에셋대우, 로보포트·로보픽 서비스 오픈   \n",
       "396  2018-04-17                미래에셋대우, 독일-영국-캐나다 주식 온라인 재매매 서비스 실시   \n",
       "397  2018-04-17                   미래에셋대우, 투자정보 서비스 '로보포트' '로보픽' 개시   \n",
       "398  2018-04-17                미래에셋대우, 독일·영국·캐나다 주식 온라인 재매매 서비스 오픈   \n",
       "399  2018-04-17              미래에셋대우, 업계 첫 독일·영국·캐나다 주식 온라인 재매매 서비스   \n",
       "400  2018-04-17                     미래에셋대우, 독일·영국·캐나다 주식 당일 매매 서비스   \n",
       "401  2018-04-16                          미래에셋대우 \"다이렉트 예탁자산 11조 돌파\"   \n",
       "412  2018-03-30               미래에셋대우 ‘해외주식 거래 차별화’, 국내 첫 브라질 주식 거래   \n",
       "417  2018-03-28                    미래에셋대우, 김포산단공단 등과 기업 금융서비스 업무협약   \n",
       "424  2018-03-27        [퇴직연금 대상 / 가입기업 최우수상] 가입자교육 부문 특별상 / 미래에셋대우   \n",
       "457  2018-02-27                   로또 인터넷 판매 사업자에 케이뱅크・미래에셋대우도 '도전'   \n",
       "469  2018-02-07                    미래에셋대우, 글로벌 투자 전문가 양성차 中알리바바 탐방   \n",
       "470  2018-02-07                        미래에셋대우 \"WM직원, 中 알리바바 탐방 연수\"   \n",
       "42   2019-03-27               미래에셋대우 사외이사 2명, 주총 재선임 직후 \"그만두겠다\" 사임   \n",
       "43   2019-03-27                       미래에셋대우, 권태균·박찬수 사외이사 사의 받아들여   \n",
       "67   2019-02-19                                   미래에셋대우, 전자투표 설명회   \n",
       "91   2019-01-17                            미래에셋대우 합병 후 첫 290명 희망퇴직   \n",
       "93   2019-01-17                미래에셋대우, 합병 후 첫 희망퇴직…업계 최대 규모 교육비 지원   \n",
       "148  2018-11-20                      미래에셋대우 노조, 구조조정 반발 컨테이너 농성 돌입   \n",
       "180  2018-10-22                    미래에셋대우, 손실시 해외주식 지급 ELS 등 9종 판매   \n",
       "181  2018-10-16                   미래에셋대우, 손실시 해외주식 지급 ELS 등 10종 판매   \n",
       "182  2018-10-15                             이번엔 미래에셋대우…금감원, 종합업무검사   \n",
       "188  2018-10-08                           미래에셋대우, HTS 먹통…\"문제 파악 중\"   \n",
       "94   2019-01-16                 금호타이어-미래에셋대우, '광주공장 이전' 위한 업무제휴 협약   \n",
       "342  2018-05-15                           미래에셋대우, 희망체인리더 1기 발대식 개최   \n",
       "354  2018-05-04                   미래에셋대우 \"고객자산관리 전문가 'PB이사' 신규 선임\"   \n",
       "410  2018-04-02                  미래에셋대우, `2018 퇴직연금 세미나` 전국 6곳서 개최   \n",
       "411  2018-04-02                           미래에셋대우, 2018 퇴직연금 세미나 개최   \n",
       "\n",
       "                                               content  \\\n",
       "0    [ 이송렬 기자 ] \\n \\n미래에셋대우는 미래에셋센터원에서 에트리홀딩스(주)와 '...   \n",
       "1    미래에셋대우는 지난 18일 서울 중구 미래에셋센터원에서 에트리홀딩스와 '중소·벤처 ...   \n",
       "2    [디지털타임스 차현정 기자] 미래에셋대우는 18일 홍콩 CBD2(이스트 카우룽)에 ...   \n",
       "3    [디지털타임스 차현정 기자] 미래에셋대우는 18일 홍콩 CBD2(이스트 카우룽)에 ...   \n",
       "4    쾰른·파리 찍고 다시 홍콩…새 업무지구 빌딩에 2800억 투자 \\n \\n내달 5억弗...   \n",
       "5    [ 오형주/김진성 기자 ] 미래에셋대우가 올 들어 홍콩과 유럽 등 해외 부동산 투자...   \n",
       "6    [머니투데이 임동욱 기자] [메자닌 대출에 2억4300만달러 투자...\"짧은 만기 ...   \n",
       "7    [디지털타임스 김민주 기자] 미래에셋대우가 홍콩 카오룽 반도에 위치한 오피스 빌딩 ...   \n",
       "8    [ 한민수 기자 ] \\n \\n미래에셋대우는 18일 홍콩 이스트 카우룽에 위치한 오피...   \n",
       "9    [디지털타임스 차현정 기자] 미래에셋대우는 18일 홍콩 CBD2(이스트 카우룽)에 ...   \n",
       "10   [디지털타임스 김민주 기자] NH투자증권은 18일 미래에셋대우에 대해 올해부터 글로...   \n",
       "11   지분 16.2%서 21%로 늘려 \\n\"대주주 지배력 강화 위한 포석\" \\n \\n \\...   \n",
       "12   [디지털타임스 김민주 기자] 미래에셋대우는 다이렉트 비대면 국내선물, 옵션 온라인 ...   \n",
       "13   [ 한민수 기자 ] 미래에셋대우는 16일 다이렉트 비대면 국내 선물·옵션 온라인 수...   \n",
       "15   박영선 장관으로 주목받는 \\n홍성국 전 미래에셋대우 사장 \\n \\n성장 아닌, 파이...   \n",
       "16   미래에셋대우는 11일 회사가 발행하는 ELW를 거래할 때 매매수수료를 면제해주는 이...   \n",
       "17   미래에셋대우는 11일 미래에셋대우가 발행하는 ELW를 거래하면 매매수수료를 면제하는...   \n",
       "18   미래에셋대우(006800)는 11일부터 7월 10일까지 3개월간 자사 발행 주식워런...   \n",
       "19   [ 한민수 기자 ] 미래에셋대우는 11일부터 미래에셋대우가 발행하는 주가워런트증권(...   \n",
       "20   미래에셋대우는 10일 오후 4시부터 전국 영업점에서 자산관리세미나를 개최한다고 9일...   \n",
       "21   미래에셋대우는 오는 10일 오후 4시부터 전국 영업점에서 '핵심 자산(Core As...   \n",
       "22   [디지털타임스 차현정 기자] 미래에셋대우는 9일 현대제철에 대해 철강 원재료 가격이...   \n",
       "23   [머니투데이 임동욱 기자] [4월 통합 마무리 후 총 점포수 101개로 줄어, 올들...   \n",
       "24   [머니투데이 박계현 기자] 미래에셋대우가 8일 제주항공에 대해 \"공급 증가로 시장점...   \n",
       "25   [머니투데이 김명룡 기자] [미래에셋대우, 디디추싱·그랩 등 차량공유업체 Pre-I...   \n",
       "26   [디지털타임스 김민주 기자] 미래에셋대우가 WM(자산관리) 부문 수수료 수익에서 1...   \n",
       "27   [디지털타임스 김민주 기자] 미래에셋대우가 WM(자산관리) 부문 수수료 수익에서 1...   \n",
       "28   합병 이후 자기자본 1위 증권사로 거듭난 미래에셋대우는 지난해 어려운 시장 상황 속...   \n",
       "29   [디지털타임스 김민주 기자] 미래에셋대우가 WM(자산관리) 부문 수수료 수익에서 1...   \n",
       "30   [디지털타임스 김민주 기자] 미래에셋대우는 온라인전용 펀드 설정액이 8700억원을 ...   \n",
       "..                                                 ...   \n",
       "393  미래에셋대우는 17일 '로보포트(Robo-Port)'와 '로보픽(Robo-Pick)...   \n",
       "394  [머니투데이 전병윤 기자] 미래에셋대우가 17일 혼자 투자하기(혼투) 어려운 개인 ...   \n",
       "395  미래에셋대우는 17일 '로보포트'와 '로보픽' 투자정보 서비스를 오픈했다고 밝혔다....   \n",
       "396  미래에셋대우는 업계 최초로 유럽(독일, 영국)과 캐나다 주식의 온라인 재매매 서비스...   \n",
       "397  미래에셋대우는 혼자 하는 투자가 어려운 개인 투자자들을 위한 '로보포트'와 '로보픽...   \n",
       "398  미래에셋대우는 업계 최초로 유럽(독일, 영국)과 캐나다 주식의 온라인 재매매 서비스...   \n",
       "399  [머니투데이 전병윤 기자] 미래에셋대우가 17일 업계 처음으로 유럽(독일, 영국)과...   \n",
       "400  미래에셋대우가 독일, 영국, 캐나다 주식의 온라인 재매매 서비스를 17일 개시했다고...   \n",
       "401  미래에셋대우는 16일 다이렉트 계좌의 예탁자산이 11조원을 돌파했다고 밝혔다. \\n...   \n",
       "412  미래에셋대우는 국내주식은 물론 해외주식 거래에서도 차별화된 서비스를 제공하기 위해 ...   \n",
       "417  미래에셋대우는 김포상공회의소, 김포산업단지관리공단과 '강소기업 금융서비스 업무협약식...   \n",
       "424  제4회 대한민국 퇴직연금대상 심사위원들은 가입자 교육에 큰 의미를 부여했다. 퇴직연...   \n",
       "457  12월 2일 로또 인터넷 판매 첫 시행이 예정된 가운데 케이뱅크, 미래에셋대우 등이...   \n",
       "469  미래에셋대우가 이달초 글로벌 투자 전문가를 양성하는 프로그램 일환으로 4박5일간 해...   \n",
       "470  미래에셋대우는 글로벌 투자 전문가 양성 프로그램의 일환으로 자산관리를 담당하는 영업...   \n",
       "42   [머니투데이 임동욱 기자] [27일 정기주총에서 권태균, 박찬수 사외이사 재선임, ...   \n",
       "43   미래에셋대우는 27일 열린 이사회에서 권태균·박찬수 사외이사의 사의를 받아들이기로 ...   \n",
       "67   [ 오형주 기자 ] 미래에셋대우는 주주총회 전자투표시스템 ‘플랫폼 V’ 설명회를 오...   \n",
       "91   미래에셋대우가 직원 290여명(임금피크 대상자의 명예퇴직, 휴직자 포함)의 희망퇴직...   \n",
       "93   미래에셋대우는 합병 이후 첫 희망퇴직을 실시한 결과 모두 290명이 희망퇴직을 하게...   \n",
       "148  미래에셋대우노조가 사측의 구조조정 계획에 반발해 철야 농성에 돌입한다. \\n20일 ...   \n",
       "180  [머니투데이 전병윤 기자] 미래에셋대우가 22일 연 5.0~8.0% 수익률을 지급하...   \n",
       "181  [머니투데이 전병윤 기자] \\n\\n미래에셋대우가 16일 연 4.4%에서 연 7.3%...   \n",
       "182  금융감독원이 미래에셋대우에 대한 종합검사에 나선다. 업무 전반에 대한 검사를 시행하...   \n",
       "188  미래에셋대우의 홈트레이딩시스템(HTS)이 8일 오전 접속이 안되는 등 오작동을 일으...   \n",
       "94   금호타이어는 16일 광주광역시청에서 미래에셋대우와 '광주공장 부지 도시계획 변경 및...   \n",
       "342  미래에셋대우는 임직원으로부터 나온 사회공헌 아이디어가 새로운 기업문화로 정착될 수 ...   \n",
       "354  미래에셋대우는 자산관리(WM)부문에서 담당분야의 전문인력인 PB이사를 21명 신규 ...   \n",
       "410  미래에셋대우는 오는 3일부터 2주간 '2018년 미래에셋대우 퇴직연금 세미나'를 개...   \n",
       "411  미래에셋대우(006800)는 3일부터 2주간에 걸쳐 ‘2018년 미래에셋대우 퇴직연...   \n",
       "\n",
       "                                  category  date_tmp  \\\n",
       "0                               [경제>산업_기업]    737168   \n",
       "1                     [경제>산업_기업, 경제>취업_창업]    737168   \n",
       "2           [경제>국제경제, 경제>금융_재테크, 경제>산업_기업]    737168   \n",
       "3           [경제>국제경제, 경제>금융_재테크, 경제>산업_기업]    737167   \n",
       "4           [경제>금융_재테크, 경제>산업_기업, 경제>국제경제]    737167   \n",
       "5           [경제>금융_재테크, 경제>산업_기업, 경제>국제경제]    737167   \n",
       "6              [경제>국제경제, 경제>금융_재테크, 국제>중국]    737167   \n",
       "7              [국제>중국, 경제>국제경제, 경제>금융_재테크]    737167   \n",
       "8                     [경제>금융_재테크, 경제>국제경제]    737167   \n",
       "9           [경제>국제경제, 경제>금융_재테크, 경제>산업_기업]    737167   \n",
       "10          [경제>증권_증시, 경제>국제경제, 경제>금융_재테크]    737167   \n",
       "11          [경제>국제경제, 경제>금융_재테크, 경제>산업_기업]    737166   \n",
       "12        [경제>서비스_쇼핑, 경제>금융_재테크, 경제>산업_기업]    737165   \n",
       "13                  [경제>서비스_쇼핑, 경제>금융_재테크]    737165   \n",
       "15                     [경제>산업_기업, 문화>문화일반]    737163   \n",
       "16        [경제>서비스_쇼핑, 경제>금융_재테크, 경제>산업_기업]    737160   \n",
       "17        [경제>서비스_쇼핑, 경제>금융_재테크, 경제>산업_기업]    737160   \n",
       "18        [경제>서비스_쇼핑, 경제>금융_재테크, 경제>산업_기업]    737160   \n",
       "19                  [경제>금융_재테크, 경제>서비스_쇼핑]    737160   \n",
       "20                               [경제>경제일반]    737158   \n",
       "21                               [경제>경제일반]    737158   \n",
       "22              [경제>국제경제, 경제>산업_기업, 경제>유통]    737158   \n",
       "23                              [경제>산업_기업]    737157   \n",
       "24                     [경제>증권_증시, 경제>국제경제]    737157   \n",
       "25           [경제>증권_증시, 경제>국제경제, 경제>산업_기업]    737154   \n",
       "26         [경제>증권_증시, 경제>금융_재테크, 경제>산업_기업]    737153   \n",
       "27         [경제>증권_증시, 경제>금융_재테크, 경제>산업_기업]    737152   \n",
       "28           [경제>산업_기업, 경제>증권_증시, 경제>국제경제]    737152   \n",
       "29         [경제>증권_증시, 경제>금융_재테크, 경제>산업_기업]    737152   \n",
       "30         [경제>금융_재테크, 경제>서비스_쇼핑, 경제>국제경제]    737152   \n",
       "..                                     ...       ...   \n",
       "393      [IT_과학>인터넷_SNS, 경제>증권_증시, 경제>자동차]    736801   \n",
       "394   [IT_과학>인터넷_SNS, IT_과학>콘텐츠, 경제>증권_증시]    736801   \n",
       "395  [IT_과학>인터넷_SNS, IT_과학>모바일, IT_과학>콘텐츠]    736801   \n",
       "396    [국제>유럽_EU, IT_과학>인터넷_SNS, 국제>미국_북미]    736801   \n",
       "397      [IT_과학>인터넷_SNS, 경제>자동차, 경제>증권_증시]    736801   \n",
       "398     [IT_과학>인터넷_SNS, 경제>경제일반, 국제>미국_북미]    736801   \n",
       "399      [국제>국제일반, IT_과학>인터넷_SNS, 경제>경제일반]    736801   \n",
       "400      [국제>미국_북미, IT_과학>인터넷_SNS, 경제>자동차]    736801   \n",
       "401                            [IT_과학>모바일]    736800   \n",
       "412   [IT_과학>인터넷_SNS, 경제>증권_증시, 경제>금융_재테크]    736783   \n",
       "417       [경제>산업_기업, IT_과학>인터넷_SNS, 경제>자원]    736781   \n",
       "424     [IT_과학>인터넷_SNS, 경제>국제경제, 경제>증권_증시]    736780   \n",
       "457              [IT_과학>인터넷_SNS, 경제>산업_기업]    736752   \n",
       "469              [IT_과학>인터넷_SNS, IT_과학>과학]    736732   \n",
       "470                        [IT_과학>인터넷_SNS]    736732   \n",
       "42                               [사회>사회일반]    737145   \n",
       "43                               [사회>사회일반]    737145   \n",
       "67                               [사회>사회일반]    737109   \n",
       "91                                [사회>장애인]    737076   \n",
       "93                               [사회>사회일반]    737076   \n",
       "148                   [사회>노동_복지, 사회>사건_사고]    737018   \n",
       "180                             [사회>사건_사고]    736989   \n",
       "181                              [사회>사회일반]    736983   \n",
       "182                             [사회>의료_건강]    736982   \n",
       "188                              [사회>사회일반]    736975   \n",
       "94                                 [지역>전남]    737075   \n",
       "342                              [지역>지역일반]    736829   \n",
       "354                              [지역>지역일반]    736818   \n",
       "410                              [지역>지역일반]    736786   \n",
       "411                              [지역>지역일반]    736786   \n",
       "\n",
       "                                         tokenized_doc  \\\n",
       "0    [미래에셋대우, 미래에셋센터원, 에트리홀딩스, 중소, 벤처기업, 성장지원, 업무, ...   \n",
       "1    [미래에셋대우, 서울, 중구, 미래에셋센터원, 에트리홀딩스, 중소, 벤처, 기업, ...   \n",
       "2    [디지털타임스, 미래에셋대우, 홍콩, 이스트, 카우룽, 위치, 오피스, 빌딩, 골딘...   \n",
       "3    [디지털타임스, 미래에셋대우, 홍콩, 이스트, 카우룽, 위치, 오피스, 빌딩, 골딘...   \n",
       "4    [쾰른, 파리, 홍콩, 새, 업무지구, 빌딩, 투자, 내달, 채권, 발행, 실탄, ...   \n",
       "5    [오형, 미래에셋대우, 홍콩, 유럽, 해외, 부동산, 투자, 속도, 건, 수천, 대...   \n",
       "6    [머니투데이, 메자닌, 대출, 억만, 투자, 만기, 수익성, 투자, 매력, 골딘, ...   \n",
       "7    [디지털타임스, 미래에셋대우, 홍콩, 카오룽, 반도, 위치, 오피스, 빌딩, 골딘,...   \n",
       "8    [미래에셋대우, 홍콩, 이스트, 카우룽, 위치, 오피스, 빌딩, 골딘, 파이낸셜, ...   \n",
       "9    [디지털타임스, 미래에셋대우, 홍콩, 이스트, 카우룽, 위치, 오피스, 빌딩, 골딘...   \n",
       "10   [디지털타임스, 투자, 증권, 미래에셋대우, 글로벌, 증시, 랠리, 힘, 실적, 평...   \n",
       "11   [지분, 대주, 지배, 포석, 오형, 미래에셋대우, 생명, 주식, 넉, 지분, 지분...   \n",
       "12   [디지털타임스, 미래에셋대우, 다이렉트, 비대면, 국내선, 물, 옵션, 온라인, 수...   \n",
       "13   [미래에셋대우, 다이렉트, 비대면, 국내, 선물, 옵션, 온라인, 수수료, 지원, ...   \n",
       "15   [박영선, 장관, 주목, 홍성, 국, 미래에셋대우, 사장, 성장, 파이, 수축, 사...   \n",
       "16   [미래에셋대우, 회사, 발행, 거래, 매매, 수수료, 면제, 해주, 이벤트, 다만,...   \n",
       "17   [미래에셋대우, 미래에셋대우, 발행, 거래, 매매, 수수료, 면, 제하, 이벤트, ...   \n",
       "18   [미래에셋대우, 월간, 자사, 발행, 주식, 워런, 트, 증권, 거래, 매매, 수수...   \n",
       "19   [미래에셋대우, 미래에셋대우, 발행, 주가, 워런, 트, 증권, 거래, 매매, 수수...   \n",
       "20   [미래에셋대우, 오후, 전국, 영업점, 자산, 세미나, 개최, 세미나, 포트폴리오,...   \n",
       "21   [미래에셋대우, 오후, 전국, 영업점, 핵심, 자산, 주제, 시장, 변동성, 상품,...   \n",
       "22   [디지털타임스, 미래에셋대우, 현대, 제철, 철강, 원재, 료, 가격, 상승세, 가...   \n",
       "23   [머니투데이, 통합, 마무리, 점포, 점포, 폐점, 미래에셋대우, 점포, 통합, 영...   \n",
       "24   [머니투데이, 미래에셋대우, 제주항공, 공급, 증가, 시장점유율, 단위, 비용, 투...   \n",
       "25   [머니투데이, 미래에셋대우, 디디, 추싱, 랩, 차량, 공유, 업체, 투자, 미래에...   \n",
       "26   [디지털타임스, 미래에셋대우, 자산, 수수료, 수익, 차, 명가, 자리, 확, 고하...   \n",
       "27   [디지털타임스, 미래에셋대우, 자산, 수수료, 수익, 차, 명가, 자리, 확, 고하...   \n",
       "28   [합병, 증권사, 거듭, 미래에셋대우, 시장, 속, 서도, 통합, 시너지, 바탕, ...   \n",
       "29   [디지털타임스, 미래에셋대우, 자산, 수수료, 수익, 차, 명가, 자리, 확, 고하...   \n",
       "30   [디지털타임스, 미래에셋대우, 온라인, 전용, 펀드, 설정액, 돌파, 업계, 미래에...   \n",
       "..                                                 ...   \n",
       "393  [미래에셋대우, 보포트, 로보픽, 투자, 서비스, 시작, 보포트, 서비스, 투자자,...   \n",
       "394  [머니투데이, 미래에셋대우, 혼자, 투자, 혼투, 투자자, 보포트, 로보픽, 투자,...   \n",
       "395  [미래에셋대우, 보포트, 로보픽, 투자, 서비스, 오픈, 보포트, 서비스, 투자자,...   \n",
       "396  [미래에셋대우, 업계, 최초, 유럽, 독일, 영국, 과, 캐나다, 주식, 온라인, ...   \n",
       "397  [미래에셋대우, 혼자, 투자가, 투자자, 보포트, 로보픽, 투자, 서비스, 오픈, ...   \n",
       "398  [미래에셋대우, 업계, 최초, 유럽, 독일, 영국, 과, 캐나다, 주식, 온라인, ...   \n",
       "399  [머니투데이, 미래에셋대우, 업계, 처, 음으로, 유럽, 독일, 영국, 과, 캐나다...   \n",
       "400  [미래에셋대우, 독일, 영국, 캐나다, 주식, 온라인, 재, 매매, 서비스, 개시,...   \n",
       "401  [미래에셋대우, 다이렉트, 계좌, 예, 탁자, 산이, 돌파, 스마트폰, 계좌, 개설...   \n",
       "412  [미래에셋대우, 국내, 주식, 해외, 주식, 거래, 차별, 서비스, 제공, 노력, ...   \n",
       "417  [미래에셋대우, 김포, 상공회의소, 김포, 산업, 단지, 공단, 강소기업, 금융, ...   \n",
       "424  [대한민국, 퇴직, 연금, 심사, 위원, 가입자, 교육, 의미, 부여, 퇴직, 연금...   \n",
       "457  [로또, 인터넷, 판매, 첫, 시행, 가운데, 케이, 뱅크, 미래에셋대우, 수탁, ...   \n",
       "469  [미래에셋대우, 달초, 글로벌, 투자, 전문가, 양, 성하, 프로그램, 일환, 박,...   \n",
       "470  [미래에셋대우, 글로벌, 투자, 전문가, 양성, 프로그램, 일환, 자산, 담, 영업...   \n",
       "42   [머니투데이, 정기, 권태균, 박찬수, 사외이사, 재선, 임, 몇, 시간, 이사회,...   \n",
       "43   [미래에셋대우, 이사회, 권태균, 박찬수, 사외이사, 사의, 아들, 이기, 결정, ...   \n",
       "67   [미래에셋대우, 주주총회, 투표, 시스템, 플랫폼, 서울, 여의도, 사옥, 연, 플...   \n",
       "91   [미래에셋대우, 직원, 여명, 임금, 피크, 대상자, 명예퇴직, 휴직, 자, 포함,...   \n",
       "93   [미래에셋대우, 합병, 첫, 희망, 퇴직, 실시, 결과, 모두, 희망, 퇴직, 희망...   \n",
       "148  [미래에셋대우, 노조, 구조조정, 계획, 반발, 철야, 농성, 돌입, 오전, 미래에...   \n",
       "180  [머니투데이, 미래에셋대우, 연, 수익률, 지급, 다양, 구조, 지수, 주가, 계,...   \n",
       "181  [머니투데이, 미래에셋대우, 연, 연, 다양, 구조, 지수, 주가, 계, 증권, 종...   \n",
       "182  [금융감독원, 미래에셋대우, 종합, 검사, 나선, 업무, 전반, 검사, 시행, 지난...   \n",
       "188  [미래에셋대우, 홈, 트레이딩, 시스템, 오전, 접속, 오, 작동, 증권, 업계, ...   \n",
       "94   [금호, 타이어, 광주, 광역시, 청, 미래에셋대우, 광주, 공장, 부지, 도시, ...   \n",
       "342  [미래에셋대우, 임직원, 사회, 공헌, 아이디어, 새, 기업, 문화, 정착, 도록,...   \n",
       "354  [미래에셋대우, 자산, 담당, 분야, 전문, 인력, 이사, 선임, 이사, 우수, 프...   \n",
       "410  [미래에셋대우, 주간, 미래에셋대우, 퇴직, 연금, 세미나, 개최, 미래에셋대우, ...   \n",
       "411  [미래에셋대우, 주간, 미래에셋대우, 퇴직, 연금, 세미나, 개최, 미래에셋대우, ...   \n",
       "\n",
       "                                       tokenized_title cat_selected  topic  \n",
       "0             [미래에셋대우, 에트리홀딩스, 중소, 벤처기업, 성장지원, 업무, 협약]           경제     -1  \n",
       "1               [미래에셋대우, 에트리홀딩스, 중소, 벤처기업, 성장, 지원, 체결]           경제     -1  \n",
       "2                            [홍콩, 오피스, 빌딩, 투자, 미래에셋대우]           경제     12  \n",
       "3                            [홍콩, 오피스, 빌딩, 투자, 미래에셋대우]           경제     12  \n",
       "4                                [해외, 부동산, 어담, 미래에셋대우]           경제     12  \n",
       "5                            [해외, 부동산, 투자, 속도, 미래에셋대우]           경제     12  \n",
       "6                          [미래에셋대우, 홍콩, 랜드마크, 오피스, 투자]           경제     12  \n",
       "7                            [미래에셋대우, 홍콩, 오피스, 빌딩, 투자]           경제     12  \n",
       "8                      [미래에셋대우, 홍콩, 구룡반도, 오피스, 빌딩, 투자]           경제     12  \n",
       "9                      [미래에셋대우, 홍콩, 구룡반도, 오피스, 빌딩, 투자]           경제     12  \n",
       "10                                [미래에셋대우, 실적, 목표, 하향]           경제     -1  \n",
       "11                            [미래에셋대우, 생명, 주식, 매일, 까닭]           경제     -1  \n",
       "12             [미래에셋대우, 국내, 선물, 옵션, 온라인, 수수료, 지원, 이벤트]           경제      5  \n",
       "13             [미래에셋대우, 비대면, 국내선, 물, 옵션, 온라인, 수수료, 지원]           경제      5  \n",
       "15     [홍성, 국, 미래에셋대우, 사장, 벤처기업, 육성, 절박, 함, 수축, 사회, 막]           경제     -1  \n",
       "16                              [미래에셋대우, 수수료, 면제, 이벤트]           경제     -1  \n",
       "17                          [미래에셋대우, 매매, 수수료, 면제, 이벤트]           경제     -1  \n",
       "18                          [미래에셋대우, 무료, 수수료, 이벤트, 실시]           경제     -1  \n",
       "19                           [미래에셋대우, 무료, 수수료, 행사, 실시]           경제     -1  \n",
       "20                           [미래에셋대우, 전국, 자산, 세미나, 개최]           경제     19  \n",
       "21               [미래에셋대우, 핵심, 자산, 주제, 전국, 자산, 세미나, 개최]           경제     19  \n",
       "22                            [현대, 제철, 강판, 가격, 미래에셋대우]           경제     -1  \n",
       "23                              [미래에셋대우, 영업점, 통합, 대형화]           경제     -1  \n",
       "24                        [제주항공, 예상치, 호실적, 목표, 미래에셋대우]           경제     -1  \n",
       "25                           [리프트, 안착, 미래에셋대우, 프리, 대박]           경제     -1  \n",
       "26                        [자산, 강, 미래에셋대우, 수수료, 수익, 수성]           경제     -1  \n",
       "27                        [자산, 강, 미래에셋대우, 수수료, 수익, 수성]           경제     -1  \n",
       "28    [대한민국, 최현, 미래에셋대우, 수석, 부회장, 자기, 자본, 국내, 증권사, 우뚝]           경제     -1  \n",
       "29                 [미래에셋대우, 자산, 강, 자리, 김, 수수료, 수익, 수성]           경제     -1  \n",
       "30                  [미래에셋대우, 온라인, 전용, 펀드, 설정액, 돌파, 업계]           경제     -1  \n",
       "..                                                 ...          ...    ...  \n",
       "393                        [미래에셋대우, 보포트, 로보픽, 서비스, 시작]        IT_과학      1  \n",
       "394                          [미래에셋대우, 혼투, 땐, 보포트, 로보픽]        IT_과학      1  \n",
       "395                        [미래에셋대우, 보포트, 로보픽, 서비스, 오픈]        IT_과학      1  \n",
       "396     [미래에셋대우, 독일, 영국, 캐나다, 주식, 온라인, 재, 매매, 서비스, 실시]        IT_과학      0  \n",
       "397                    [미래에셋대우, 투자, 서비스, 보포트, 로보픽, 개시]        IT_과학      1  \n",
       "398     [미래에셋대우, 독일, 영국, 캐나다, 주식, 온라인, 재, 매매, 서비스, 오픈]        IT_과학      0  \n",
       "399  [미래에셋대우, 업계, 첫, 독일, 영국, 캐나다, 주식, 온라인, 재, 매매, 서비스]        IT_과학      0  \n",
       "400             [미래에셋대우, 독일, 영국, 캐나다, 주식, 당일, 매매, 서비스]        IT_과학      0  \n",
       "401                       [미래에셋대우, 다이렉트, 예, 탁자, 산, 돌파]        IT_과학      2  \n",
       "412       [미래에셋대우, 해외, 주식, 거래, 차별, 국내, 첫, 브라질, 주식, 거래]        IT_과학      0  \n",
       "417        [미래에셋대우, 김, 포산, 단공, 단, 기업, 금융, 서비스, 업무, 협약]        IT_과학     -1  \n",
       "424       [퇴직, 연금, 가입, 기업, 최우수상, 가입자, 교육, 특별상, 미래에셋대우]        IT_과학     -1  \n",
       "457             [로또, 인터넷, 판매, 사업자, 케이, 뱅크, 미래에셋대우, 도전]        IT_과학     -1  \n",
       "469            [미래에셋대우, 글로벌, 투자, 전문가, 양성, 차, 알리바바, 탐방]        IT_과학      0  \n",
       "470                         [미래에셋대우, 직원, 알리바바, 탐방, 연수]        IT_과학      0  \n",
       "42                   [미래에셋대우, 사외이사, 재선, 임, 직후, 만두, 사임]           사회     -1  \n",
       "43                    [미래에셋대우, 권태균, 박찬수, 사외이사, 사의, 아들]           사회     -1  \n",
       "67                                        [미래에셋대우, 투표]           사회     -1  \n",
       "91                             [미래에셋대우, 합병, 첫, 희망, 퇴직]           사회     -1  \n",
       "93            [미래에셋대우, 합병, 첫, 희망, 퇴직, 업계, 규모, 교육비, 지원]           사회     -1  \n",
       "148               [미래에셋대우, 노조, 구조조정, 반발, 컨테이너, 농성, 돌입]           사회     -1  \n",
       "180                 [미래에셋대우, 손실, 시, 해외, 주식, 지급, 종, 판매]           사회     -1  \n",
       "181                 [미래에셋대우, 손실, 시, 해외, 주식, 지급, 종, 판매]           사회     -1  \n",
       "182                          [미래에셋대우, 금감원, 종합, 업무, 검사]           사회     -1  \n",
       "188                               [미래에셋대우, 먹통, 문제, 파악]           사회     -1  \n",
       "94           [금호, 타이어, 미래에셋대우, 광주, 공장, 이전, 업무, 제휴, 협약]           지역     -1  \n",
       "342                      [미래에셋대우, 희망, 체인, 리더, 발대식, 개최]           지역     -1  \n",
       "354                      [미래에셋대우, 고객, 자산, 전문가, 이사, 선임]           지역     -1  \n",
       "410                   [미래에셋대우, 퇴직, 연금, 세미나, 전국, 곳, 개최]           지역     -1  \n",
       "411                          [미래에셋대우, 퇴직, 연금, 세미나, 개최]           지역     -1  \n",
       "\n",
       "[468 rows x 9 columns]"
      ]
     },
     "metadata": {
      "tags": []
     },
     "output_type": "display_data"
    }
   ],
   "source": [
    "display(df_final)"
   ]
  },
  {
   "cell_type": "markdown",
   "metadata": {
    "colab_type": "text",
    "id": "UHN1YFxW-NRx"
   },
   "source": [
    "## 토픽 별 대표기사 추출"
   ]
  },
  {
   "cell_type": "code",
   "execution_count": 0,
   "metadata": {
    "colab": {},
    "colab_type": "code",
    "id": "68pLrXCq-NRx",
    "outputId": "5cf949c7-09d6-48d9-f974-9a1e7365b520"
   },
   "outputs": [
    {
     "name": "stdout",
     "output_type": "stream",
     "text": [
      "excution time : 0.8628804683685303\n"
     ]
    }
   ],
   "source": [
    "tic = time.time()\n",
    "df_main = keyword_extractor.get_news(df_final)\n",
    "toc = time.time()\n",
    "print(f'excution time : {toc-tic}')\n",
    "time_list.append(toc-tic)"
   ]
  },
  {
   "cell_type": "code",
   "execution_count": 0,
   "metadata": {
    "colab": {},
    "colab_type": "code",
    "id": "tPPniP9n-NR0",
    "outputId": "007e0908-2dc0-4496-cd1b-df4467f57a79",
    "scrolled": true
   },
   "outputs": [
    {
     "name": "stdout",
     "output_type": "stream",
     "text": [
      "(31, 9)\n"
     ]
    },
    {
     "data": {
      "text/html": [
       "<div>\n",
       "<style scoped>\n",
       "    .dataframe tbody tr th:only-of-type {\n",
       "        vertical-align: middle;\n",
       "    }\n",
       "\n",
       "    .dataframe tbody tr th {\n",
       "        vertical-align: top;\n",
       "    }\n",
       "\n",
       "    .dataframe thead th {\n",
       "        text-align: right;\n",
       "    }\n",
       "</style>\n",
       "<table border=\"1\" class=\"dataframe\">\n",
       "  <thead>\n",
       "    <tr style=\"text-align: right;\">\n",
       "      <th></th>\n",
       "      <th>date</th>\n",
       "      <th>title</th>\n",
       "      <th>content</th>\n",
       "      <th>category</th>\n",
       "      <th>date_tmp</th>\n",
       "      <th>tokenized_doc</th>\n",
       "      <th>tokenized_title</th>\n",
       "      <th>cat_selected</th>\n",
       "      <th>topic</th>\n",
       "    </tr>\n",
       "  </thead>\n",
       "  <tbody>\n",
       "    <tr>\n",
       "      <th>296</th>\n",
       "      <td>2018-06-10</td>\n",
       "      <td>미래에셋대우 과천사옥, 재개발 사업 '난기류'</td>\n",
       "      <td>[머니투데이 전병윤 기자] [멀티에셋운용이 25층 오피스텔로 건축…조망권 침해 소지...</td>\n",
       "      <td>[경제&gt;부동산]</td>\n",
       "      <td>736855</td>\n",
       "      <td>[머니투데이, 멀티, 셋, 운용, 층, 오피스텔, 건축, 망, 침해, 소지로, 민원...</td>\n",
       "      <td>[미래에셋대우, 과천, 사옥, 재개발, 사업, 난기, 류]</td>\n",
       "      <td>경제</td>\n",
       "      <td>-1</td>\n",
       "    </tr>\n",
       "    <tr>\n",
       "      <th>2</th>\n",
       "      <td>2019-04-19</td>\n",
       "      <td>홍콩 오피스 빌딩에 2800억 투자한 미래에셋대우</td>\n",
       "      <td>[디지털타임스 차현정 기자] 미래에셋대우는 18일 홍콩 CBD2(이스트 카우룽)에 ...</td>\n",
       "      <td>[경제&gt;국제경제, 경제&gt;금융_재테크, 경제&gt;산업_기업]</td>\n",
       "      <td>737168</td>\n",
       "      <td>[디지털타임스, 미래에셋대우, 홍콩, 이스트, 카우룽, 위치, 오피스, 빌딩, 골딘...</td>\n",
       "      <td>[홍콩, 오피스, 빌딩, 투자, 미래에셋대우]</td>\n",
       "      <td>경제</td>\n",
       "      <td>12</td>\n",
       "    </tr>\n",
       "    <tr>\n",
       "      <th>12</th>\n",
       "      <td>2019-04-16</td>\n",
       "      <td>미래에셋대우, 국내 선물·옵션 온라인 수수료 지원 이벤트</td>\n",
       "      <td>[디지털타임스 김민주 기자] 미래에셋대우는 다이렉트 비대면 국내선물, 옵션 온라인 ...</td>\n",
       "      <td>[경제&gt;서비스_쇼핑, 경제&gt;금융_재테크, 경제&gt;산업_기업]</td>\n",
       "      <td>737165</td>\n",
       "      <td>[디지털타임스, 미래에셋대우, 다이렉트, 비대면, 국내선, 물, 옵션, 온라인, 수...</td>\n",
       "      <td>[미래에셋대우, 국내, 선물, 옵션, 온라인, 수수료, 지원, 이벤트]</td>\n",
       "      <td>경제</td>\n",
       "      <td>5</td>\n",
       "    </tr>\n",
       "    <tr>\n",
       "      <th>20</th>\n",
       "      <td>2019-04-09</td>\n",
       "      <td>미래에셋대우 2019 제1회 전국 자산관리 세미나 개최</td>\n",
       "      <td>미래에셋대우는 10일 오후 4시부터 전국 영업점에서 자산관리세미나를 개최한다고 9일...</td>\n",
       "      <td>[경제&gt;경제일반]</td>\n",
       "      <td>737158</td>\n",
       "      <td>[미래에셋대우, 오후, 전국, 영업점, 자산, 세미나, 개최, 세미나, 포트폴리오,...</td>\n",
       "      <td>[미래에셋대우, 전국, 자산, 세미나, 개최]</td>\n",
       "      <td>경제</td>\n",
       "      <td>19</td>\n",
       "    </tr>\n",
       "    <tr>\n",
       "      <th>61</th>\n",
       "      <td>2019-02-28</td>\n",
       "      <td>미래에셋대우, 주당 220원 현금배당…\"주주가치 제고\"</td>\n",
       "      <td>[디지털타임스 차현정 기자] 미래에셋대우가 주당 220원의 현금배당을 실시한다. \\...</td>\n",
       "      <td>[경제&gt;국제경제, 경제&gt;금융_재테크, 경제&gt;산업_기업]</td>\n",
       "      <td>737118</td>\n",
       "      <td>[디지털타임스, 미래에셋대우, 현금, 배당, 실시, 미래에셋대우, 결산, 배당, 보...</td>\n",
       "      <td>[미래에셋대우, 현금, 배당, 주주, 가치]</td>\n",
       "      <td>경제</td>\n",
       "      <td>14</td>\n",
       "    </tr>\n",
       "    <tr>\n",
       "      <th>213</th>\n",
       "      <td>2018-08-30</td>\n",
       "      <td>김대환 미래에셋대우 WM연금지원부문 대표 \"외화내빈 퇴직연금… 자동투자制로 수익률 ...</td>\n",
       "      <td>전문가가 장기간 분산투자하면 \\n수익률 높고 변동성 크게 줄어 \\n \\n美선 자산 ...</td>\n",
       "      <td>[경제&gt;증권_증시, 경제&gt;국제경제, 경제&gt;금융_재테크]</td>\n",
       "      <td>736936</td>\n",
       "      <td>[전문가, 장기간, 분산, 투자, 수익률, 변동성, 자산, 타깃, 데이트, 펀드, ...</td>\n",
       "      <td>[김대환, 미래에셋대우, 연금, 지원, 대표, 외화, 내빈, 퇴직, 연금, 자동, ...</td>\n",
       "      <td>경제</td>\n",
       "      <td>1</td>\n",
       "    </tr>\n",
       "    <tr>\n",
       "      <th>90</th>\n",
       "      <td>2019-01-18</td>\n",
       "      <td>미래에셋대우, 홍콩법인에 5000억원 출자</td>\n",
       "      <td>영국법인 주식 3360억 처분 \\n \\n \\n[ 오형주 기자 ] 미래에셋대우가 브렉...</td>\n",
       "      <td>[국제&gt;유럽_EU, 경제&gt;국제경제, 경제&gt;산업_기업]</td>\n",
       "      <td>737077</td>\n",
       "      <td>[영국, 법인, 주식, 처분, 미래에셋대우, 브렉, 시트, 영국, 유럽연합, 탈퇴,...</td>\n",
       "      <td>[미래에셋대우, 홍콩, 법인, 출자]</td>\n",
       "      <td>경제</td>\n",
       "      <td>8</td>\n",
       "    </tr>\n",
       "    <tr>\n",
       "      <th>96</th>\n",
       "      <td>2019-01-14</td>\n",
       "      <td>미래에셋대우, 달러 청약 ELS 등 투자상품 9종 판매</td>\n",
       "      <td>미래에셋대우는 달러 청약 ELS를 비롯한 9종의 상품을 약 1250억원 규모로 판매...</td>\n",
       "      <td>[경제&gt;금융_재테크, 경제&gt;국제경제, 경제&gt;증권_증시]</td>\n",
       "      <td>737073</td>\n",
       "      <td>[미래에셋대우, 청약, 비롯, 종, 상품, 규모, 판매, 판, 매하, 청약, 스텝,...</td>\n",
       "      <td>[미래에셋대우, 청약, 투자, 상품, 종, 판매]</td>\n",
       "      <td>경제</td>\n",
       "      <td>3</td>\n",
       "    </tr>\n",
       "    <tr>\n",
       "      <th>98</th>\n",
       "      <td>2019-01-09</td>\n",
       "      <td>[포토] 미래에셋대우, 코람코자산신탁과 리츠투자 활성화를 위한 전략적 MOU 체결</td>\n",
       "      <td>미래에셋대우는 지난 8일 포시즌스 호텔에서 코람코자산신탁과 '리츠투자 활성화를 위한...</td>\n",
       "      <td>[경제&gt;산업_기업, 경제&gt;취업_창업, 경제&gt;금융_재테크]</td>\n",
       "      <td>737068</td>\n",
       "      <td>[미래에셋대우, 포시즌스, 호텔, 코람코, 자산, 신탁, 리츠, 투자, 활성화, 업...</td>\n",
       "      <td>[포토, 미래에셋대우, 코람코, 자산, 신탁, 리츠, 투자, 활성화, 전략, 체결]</td>\n",
       "      <td>경제</td>\n",
       "      <td>20</td>\n",
       "    </tr>\n",
       "    <tr>\n",
       "      <th>127</th>\n",
       "      <td>2018-12-26</td>\n",
       "      <td>미래에셋대우, 아마존 신설 물류센터 인수 작업 완료</td>\n",
       "      <td>미래에셋대우는 세계 최대 전자상거래기업 아마존의 신설 물류센터 인수를7800만달러(...</td>\n",
       "      <td>[경제&gt;산업_기업, 경제&gt;국제경제]</td>\n",
       "      <td>737054</td>\n",
       "      <td>[미래에셋대우, 세계, 전자상거래, 기업, 아마존, 신설, 물류, 센터, 만달, 인...</td>\n",
       "      <td>[미래에셋대우, 아마존, 신설, 물류, 센터, 작업, 완료]</td>\n",
       "      <td>경제</td>\n",
       "      <td>17</td>\n",
       "    </tr>\n",
       "    <tr>\n",
       "      <th>129</th>\n",
       "      <td>2018-12-10</td>\n",
       "      <td>저축은행연합회·미래에셋대우… 저축은행 정기예금 업무 협약</td>\n",
       "      <td>저축은행중앙회는 미래에셋대우와 서울 중구 미래에셋센터원빌딩에서 미래에셋대우 투자일임...</td>\n",
       "      <td>[경제&gt;금융_재테크, 사회&gt;사회일반]</td>\n",
       "      <td>737038</td>\n",
       "      <td>[저축은행, 중앙회, 미래에셋대우, 서울, 중구, 미래에셋센터원, 빌딩, 미래에셋대...</td>\n",
       "      <td>[저축은행, 연합, 미래에셋대우, 저축은행, 정기예금, 업무, 협약]</td>\n",
       "      <td>경제</td>\n",
       "      <td>0</td>\n",
       "    </tr>\n",
       "    <tr>\n",
       "      <th>134</th>\n",
       "      <td>2018-12-05</td>\n",
       "      <td>미래에셋대우, 양방향 수익 추구·손실시 실물 지급 등 ELS 8종 모집</td>\n",
       "      <td>미래에셋대우는 연 5.4~8.3%의 수익을 올릴 수 있는 지수형 ELS 6종과 글로...</td>\n",
       "      <td>[경제&gt;금융_재테크, 경제&gt;서비스_쇼핑, 경제&gt;증권_증시]</td>\n",
       "      <td>737033</td>\n",
       "      <td>[미래에셋대우, 연, 수익, 지수, 종, 글로벌, 종, 종, 규모, 모집, 중이, ...</td>\n",
       "      <td>[미래에셋대우, 양방, 향, 수익, 추구, 손실, 시, 실물, 지급, 종, 모집]</td>\n",
       "      <td>경제</td>\n",
       "      <td>4</td>\n",
       "    </tr>\n",
       "    <tr>\n",
       "      <th>143</th>\n",
       "      <td>2018-11-22</td>\n",
       "      <td>[금융 특집] 미래에셋대우증권, 10개국에 인재 보내…2년간 글로벌 전문가 200명 육성</td>\n",
       "      <td>미래에셋대우가 직원들을 대상으로 한 해외 연수 프로그램을 도입하는 등 글로벌 인재 ...</td>\n",
       "      <td>[경제&gt;산업_기업, 경제&gt;국제경제, 경제&gt;취업_창업]</td>\n",
       "      <td>737020</td>\n",
       "      <td>[미래에셋대우, 직원, 해외, 연수, 프로그램, 도, 입하, 글로벌, 인재, 육성,...</td>\n",
       "      <td>[금융, 특집, 미래에셋대우, 증권, 개국, 인재, 글로벌, 전문가, 육성]</td>\n",
       "      <td>경제</td>\n",
       "      <td>16</td>\n",
       "    </tr>\n",
       "    <tr>\n",
       "      <th>174</th>\n",
       "      <td>2018-10-25</td>\n",
       "      <td>미래에셋대우, 사회적책임委 설치</td>\n",
       "      <td>[ 조진형 기자 ] 미래에셋대우는 금융소비자 보호 및 사회공헌 활동의 전문성과 투명...</td>\n",
       "      <td>[경제&gt;경제일반]</td>\n",
       "      <td>736992</td>\n",
       "      <td>[미래에셋대우, 금융, 소비자, 보호, 사회, 공헌, 활동, 전문성, 투명성, 사회...</td>\n",
       "      <td>[미래에셋대우, 사회, 책임, 설치]</td>\n",
       "      <td>경제</td>\n",
       "      <td>18</td>\n",
       "    </tr>\n",
       "    <tr>\n",
       "      <th>446</th>\n",
       "      <td>2018-03-02</td>\n",
       "      <td>미래에셋대우 유상증자 호반건설, 500억원 참여</td>\n",
       "      <td>중견 건설사인 호반건설이 계열사인 호반베르디움을 통해 미래에셋대우 유상증자 청약에 ...</td>\n",
       "      <td>[경제&gt;국제경제, 경제&gt;금융_재테크, 경제&gt;취업_창업]</td>\n",
       "      <td>736755</td>\n",
       "      <td>[중견, 건설사, 호반, 건설, 계열, 사인, 호반, 베르디, 움, 미래에셋대우, ...</td>\n",
       "      <td>[미래에셋대우, 유상증자, 호반, 건설]</td>\n",
       "      <td>경제</td>\n",
       "      <td>10</td>\n",
       "    </tr>\n",
       "    <tr>\n",
       "      <th>193</th>\n",
       "      <td>2018-10-01</td>\n",
       "      <td>미래에셋대우, 해외주식 지급형 글로벌 ELS 만기 상환…수익률 15.63%</td>\n",
       "      <td>[디지털타임스 김민주 기자] 미래에셋대우 는 지난 3월 발행한 140억원 규모의 '...</td>\n",
       "      <td>[경제&gt;금융_재테크, 경제&gt;유통, 경제&gt;산업_기업]</td>\n",
       "      <td>736968</td>\n",
       "      <td>[디지털타임스, 미래에셋대우, 발행, 규모, 해외, 주식, 지급, 글로벌, 초고, ...</td>\n",
       "      <td>[미래에셋대우, 해외, 주식, 지급, 글로벌, 만기, 상환, 수익률]</td>\n",
       "      <td>경제</td>\n",
       "      <td>2</td>\n",
       "    </tr>\n",
       "    <tr>\n",
       "      <th>229</th>\n",
       "      <td>2018-08-08</td>\n",
       "      <td>미래에셋대우 상반기 최대 실적</td>\n",
       "      <td>2분기 영업익 22% 증가 \\nIB서 첫 영업익 1000억 돌파 \\n'세전 순이익 ...</td>\n",
       "      <td>[경제&gt;증권_증시, 경제&gt;국제경제, 경제&gt;산업_기업]</td>\n",
       "      <td>736914</td>\n",
       "      <td>[영업, 익, 증가, 첫, 영업, 익, 돌파, 순이익, 달성, 청, 신호, 미래에셋...</td>\n",
       "      <td>[미래에셋대우, 상반기, 실적]</td>\n",
       "      <td>경제</td>\n",
       "      <td>7</td>\n",
       "    </tr>\n",
       "    <tr>\n",
       "      <th>323</th>\n",
       "      <td>2018-05-25</td>\n",
       "      <td>미래에셋대우, 올해 300명 채용</td>\n",
       "      <td>[ 오형주 기자 ] 미래에셋대우가 올해 300명을 새로 채용할 예정이라고 25일 발...</td>\n",
       "      <td>[경제&gt;취업_창업]</td>\n",
       "      <td>736839</td>\n",
       "      <td>[미래에셋대우, 채용, 발표, 여, 규모, 미래에셋대우, 상반기, 신입사원, 전문경...</td>\n",
       "      <td>[미래에셋대우, 채용]</td>\n",
       "      <td>경제</td>\n",
       "      <td>21</td>\n",
       "    </tr>\n",
       "    <tr>\n",
       "      <th>347</th>\n",
       "      <td>2018-05-10</td>\n",
       "      <td>미래에셋대우 11년 만에 ‘분기 순익 2000억원’ 돌파</td>\n",
       "      <td>1분기 2,007억원… 2007년 1분기 이후 최대 실적\\n위탁매매ㆍ투자금융ㆍ자산관...</td>\n",
       "      <td>[경제&gt;증권_증시, 경제&gt;산업_기업, 경제&gt;취업_창업]</td>\n",
       "      <td>736824</td>\n",
       "      <td>[실적, 위탁, 매매, 투자, 금융, 자산, 성장, 미래에셋대우, 순이익, 달성, ...</td>\n",
       "      <td>[미래에셋대우, 순익, 돌파]</td>\n",
       "      <td>경제</td>\n",
       "      <td>6</td>\n",
       "    </tr>\n",
       "    <tr>\n",
       "      <th>368</th>\n",
       "      <td>2018-04-27</td>\n",
       "      <td>5조원대 홍콩빌딩 인수에 미래에셋대우 3200억 투자</td>\n",
       "      <td>미래에셋대우가 단일 부동산 거래로 세계 최대 규모(약 5조5000억 원)인 홍콩 ‘...</td>\n",
       "      <td>[경제&gt;금융_재테크, 경제&gt;국제경제, 경제&gt;산업_기업]</td>\n",
       "      <td>736811</td>\n",
       "      <td>[미래에셋대우, 단일, 부동산, 거래, 세계, 규모, 조억, 인, 홍콩, 센터, 빌...</td>\n",
       "      <td>[홍콩, 빌딩, 미래에셋대우, 투자]</td>\n",
       "      <td>경제</td>\n",
       "      <td>11</td>\n",
       "    </tr>\n",
       "    <tr>\n",
       "      <th>383</th>\n",
       "      <td>2018-04-19</td>\n",
       "      <td>[Hot-Line] \"미래에셋대우, 자사주 소각 결정 긍정적…중장기적 관심\"</td>\n",
       "      <td>삼성증권은 19일 미래에셋대우에 대해 자사주 소각 결정은 긍정적이지만 주주가치 증대...</td>\n",
       "      <td>[경제&gt;경제일반]</td>\n",
       "      <td>736803</td>\n",
       "      <td>[삼성, 증권, 미래에셋대우, 자사, 소각, 결정, 긍정적, 주주, 가치, 증대, ...</td>\n",
       "      <td>[미래에셋대우, 자사, 소각, 결정, 긍정적, 장기적, 관심]</td>\n",
       "      <td>경제</td>\n",
       "      <td>13</td>\n",
       "    </tr>\n",
       "    <tr>\n",
       "      <th>449</th>\n",
       "      <td>2018-03-01</td>\n",
       "      <td>미래에셋대우, 인도현지법인 개업 \"인도시장 본격 공략\"</td>\n",
       "      <td>미래에셋대우가 지난달 28일 인도 뭄바이에서 인도현지법인 개업식을 진행했다고 1일 ...</td>\n",
       "      <td>[국제&gt;아시아, 경제&gt;산업_기업, 경제&gt;국제경제]</td>\n",
       "      <td>736754</td>\n",
       "      <td>[미래에셋대우, 지난달, 인도, 뭄바이, 인, 도현, 지법, 개업, 식, 진행, 날...</td>\n",
       "      <td>[미래에셋대우, 인, 도현, 지법, 개업, 인도, 시장, 본격, 공략]</td>\n",
       "      <td>경제</td>\n",
       "      <td>9</td>\n",
       "    </tr>\n",
       "    <tr>\n",
       "      <th>454</th>\n",
       "      <td>2018-02-27</td>\n",
       "      <td>미래에셋대우, 7000억 유상증자 마무리…자기자본 8조 달성</td>\n",
       "      <td>미래에셋대우가 7000억원 규모의 유상증자를 마무리했다. 이로써 미래에셋대우는 증권...</td>\n",
       "      <td>[경제&gt;증권_증시, 경제&gt;산업_기업, 경제&gt;금융_재테크]</td>\n",
       "      <td>736752</td>\n",
       "      <td>[미래에셋대우, 규모, 유상증자, 마무리, 이로, 미래에셋대우, 증권, 업계, 성하...</td>\n",
       "      <td>[미래에셋대우, 유상증자, 마무리, 자기, 자본, 달성]</td>\n",
       "      <td>경제</td>\n",
       "      <td>15</td>\n",
       "    </tr>\n",
       "    <tr>\n",
       "      <th>32</th>\n",
       "      <td>2019-04-02</td>\n",
       "      <td>온라인 펀드 8700억원 돌파…미래에셋대우, 증권업계 1위</td>\n",
       "      <td>[ 오형주 기자 ] 미래에셋대우는 온라인전용펀드 설정액이 8700억원을 돌파해 온라...</td>\n",
       "      <td>[IT_과학&gt;IT_과학일반, 경제&gt;금융_재테크, 경제&gt;국제경제]</td>\n",
       "      <td>737151</td>\n",
       "      <td>[미래에셋대우, 온라인, 전용, 펀드, 설정액, 돌파, 온라인, 펀드, 업계, 차지...</td>\n",
       "      <td>[온라인, 펀드, 돌파, 미래에셋대우, 증권, 업계]</td>\n",
       "      <td>IT_과학</td>\n",
       "      <td>-1</td>\n",
       "    </tr>\n",
       "    <tr>\n",
       "      <th>65</th>\n",
       "      <td>2019-02-20</td>\n",
       "      <td>미래에셋대우, 25일 전자투표 시스템 `플랫폼 V` 설명회</td>\n",
       "      <td>미래에셋대우가 국내 증권사 최초로 전자투표 시스템인 '플랫폼 V' 오픈을 기념해 상...</td>\n",
       "      <td>[IT_과학&gt;인터넷_SNS, IT_과학&gt;콘텐츠]</td>\n",
       "      <td>737110</td>\n",
       "      <td>[미래에셋대우, 국내, 증권사, 최초, 투표, 시스템, 플랫폼, 오픈, 기념, 상장...</td>\n",
       "      <td>[미래에셋대우, 투표, 시스템, 플랫폼]</td>\n",
       "      <td>IT_과학</td>\n",
       "      <td>4</td>\n",
       "    </tr>\n",
       "    <tr>\n",
       "      <th>173</th>\n",
       "      <td>2018-10-29</td>\n",
       "      <td>미래에셋대우, `핀테크 파트너십 프로그램 1기 성과 발표회’ 성황리 마쳐</td>\n",
       "      <td>[디지털타임스 김민주 기자] 미래에셋대우는 지난 25일 '미래에셋 핀테크 파트너십 ...</td>\n",
       "      <td>[IT_과학&gt;인터넷_SNS, IT_과학&gt;과학, IT_과학&gt;콘텐츠]</td>\n",
       "      <td>736996</td>\n",
       "      <td>[디지털타임스, 미래에셋대우, 핀테크, 파트너, 십, 프로그램, 성과, 발표회, 성...</td>\n",
       "      <td>[미래에셋대우, 핀테크, 파트너, 십, 프로그램, 성과, 발표회, 성황리]</td>\n",
       "      <td>IT_과학</td>\n",
       "      <td>3</td>\n",
       "    </tr>\n",
       "    <tr>\n",
       "      <th>214</th>\n",
       "      <td>2018-08-29</td>\n",
       "      <td>미래에셋대우, 막강한 글로벌투자 컨설팅…해외주식 자산 5조 돌파</td>\n",
       "      <td>◆ 선도 증권사가 뛴다 ◆\\n 국내 대표 증권사인 미래에셋대우가 업계 최초로 해외 ...</td>\n",
       "      <td>[IT_과학&gt;인터넷_SNS, 경제&gt;증권_증시, 경제&gt;산업_기업]</td>\n",
       "      <td>736935</td>\n",
       "      <td>[선도, 증권사, 국내, 대표, 증권사, 미래에셋대우, 업계, 최초, 해외, 주식,...</td>\n",
       "      <td>[미래에셋대우, 막강, 글로벌, 투자, 컨설팅, 해외, 주식, 자산, 돌파]</td>\n",
       "      <td>IT_과학</td>\n",
       "      <td>0</td>\n",
       "    </tr>\n",
       "    <tr>\n",
       "      <th>395</th>\n",
       "      <td>2018-04-17</td>\n",
       "      <td>미래에셋대우, 로보포트·로보픽 서비스 오픈</td>\n",
       "      <td>미래에셋대우는 17일 '로보포트'와 '로보픽' 투자정보 서비스를 오픈했다고 밝혔다....</td>\n",
       "      <td>[IT_과학&gt;인터넷_SNS, IT_과학&gt;모바일, IT_과학&gt;콘텐츠]</td>\n",
       "      <td>736801</td>\n",
       "      <td>[미래에셋대우, 보포트, 로보픽, 투자, 서비스, 오픈, 보포트, 서비스, 투자자,...</td>\n",
       "      <td>[미래에셋대우, 보포트, 로보픽, 서비스, 오픈]</td>\n",
       "      <td>IT_과학</td>\n",
       "      <td>1</td>\n",
       "    </tr>\n",
       "    <tr>\n",
       "      <th>283</th>\n",
       "      <td>2018-06-20</td>\n",
       "      <td>네이버페이서 미래에셋대우 CMA 개설</td>\n",
       "      <td>양사, 공동투자 이어 업무 협업 \\n \\n \\n[ 조진형 기자 ] 미래에셋그룹과 네...</td>\n",
       "      <td>[IT_과학&gt;인터넷_SNS, 경제&gt;산업_기업, IT_과학&gt;모바일]</td>\n",
       "      <td>736865</td>\n",
       "      <td>[양사, 공동, 투자, 업무, 협업, 그룹, 네이버, 공동, 투자, 업무, 협업, ...</td>\n",
       "      <td>[네이버, 페이, 미래에셋대우, 개설]</td>\n",
       "      <td>IT_과학</td>\n",
       "      <td>2</td>\n",
       "    </tr>\n",
       "    <tr>\n",
       "      <th>91</th>\n",
       "      <td>2019-01-17</td>\n",
       "      <td>미래에셋대우 합병 후 첫 290명 희망퇴직</td>\n",
       "      <td>미래에셋대우가 직원 290여명(임금피크 대상자의 명예퇴직, 휴직자 포함)의 희망퇴직...</td>\n",
       "      <td>[사회&gt;장애인]</td>\n",
       "      <td>737076</td>\n",
       "      <td>[미래에셋대우, 직원, 여명, 임금, 피크, 대상자, 명예퇴직, 휴직, 자, 포함,...</td>\n",
       "      <td>[미래에셋대우, 합병, 첫, 희망, 퇴직]</td>\n",
       "      <td>사회</td>\n",
       "      <td>-1</td>\n",
       "    </tr>\n",
       "    <tr>\n",
       "      <th>94</th>\n",
       "      <td>2019-01-16</td>\n",
       "      <td>금호타이어-미래에셋대우, '광주공장 이전' 위한 업무제휴 협약</td>\n",
       "      <td>금호타이어는 16일 광주광역시청에서 미래에셋대우와 '광주공장 부지 도시계획 변경 및...</td>\n",
       "      <td>[지역&gt;전남]</td>\n",
       "      <td>737075</td>\n",
       "      <td>[금호, 타이어, 광주, 광역시, 청, 미래에셋대우, 광주, 공장, 부지, 도시, ...</td>\n",
       "      <td>[금호, 타이어, 미래에셋대우, 광주, 공장, 이전, 업무, 제휴, 협약]</td>\n",
       "      <td>지역</td>\n",
       "      <td>-1</td>\n",
       "    </tr>\n",
       "  </tbody>\n",
       "</table>\n",
       "</div>"
      ],
      "text/plain": [
       "           date                                              title  \\\n",
       "296  2018-06-10                          미래에셋대우 과천사옥, 재개발 사업 '난기류'   \n",
       "2    2019-04-19                        홍콩 오피스 빌딩에 2800억 투자한 미래에셋대우   \n",
       "12   2019-04-16                    미래에셋대우, 국내 선물·옵션 온라인 수수료 지원 이벤트   \n",
       "20   2019-04-09                     미래에셋대우 2019 제1회 전국 자산관리 세미나 개최   \n",
       "61   2019-02-28                     미래에셋대우, 주당 220원 현금배당…\"주주가치 제고\"   \n",
       "213  2018-08-30  김대환 미래에셋대우 WM연금지원부문 대표 \"외화내빈 퇴직연금… 자동투자制로 수익률 ...   \n",
       "90   2019-01-18                            미래에셋대우, 홍콩법인에 5000억원 출자   \n",
       "96   2019-01-14                     미래에셋대우, 달러 청약 ELS 등 투자상품 9종 판매   \n",
       "98   2019-01-09      [포토] 미래에셋대우, 코람코자산신탁과 리츠투자 활성화를 위한 전략적 MOU 체결   \n",
       "127  2018-12-26                       미래에셋대우, 아마존 신설 물류센터 인수 작업 완료   \n",
       "129  2018-12-10                    저축은행연합회·미래에셋대우… 저축은행 정기예금 업무 협약   \n",
       "134  2018-12-05            미래에셋대우, 양방향 수익 추구·손실시 실물 지급 등 ELS 8종 모집   \n",
       "143  2018-11-22  [금융 특집] 미래에셋대우증권, 10개국에 인재 보내…2년간 글로벌 전문가 200명 육성   \n",
       "174  2018-10-25                                  미래에셋대우, 사회적책임委 설치   \n",
       "446  2018-03-02                         미래에셋대우 유상증자 호반건설, 500억원 참여   \n",
       "193  2018-10-01          미래에셋대우, 해외주식 지급형 글로벌 ELS 만기 상환…수익률 15.63%   \n",
       "229  2018-08-08                                   미래에셋대우 상반기 최대 실적   \n",
       "323  2018-05-25                                 미래에셋대우, 올해 300명 채용   \n",
       "347  2018-05-10                    미래에셋대우 11년 만에 ‘분기 순익 2000억원’ 돌파   \n",
       "368  2018-04-27                      5조원대 홍콩빌딩 인수에 미래에셋대우 3200억 투자   \n",
       "383  2018-04-19         [Hot-Line] \"미래에셋대우, 자사주 소각 결정 긍정적…중장기적 관심\"   \n",
       "449  2018-03-01                     미래에셋대우, 인도현지법인 개업 \"인도시장 본격 공략\"   \n",
       "454  2018-02-27                  미래에셋대우, 7000억 유상증자 마무리…자기자본 8조 달성   \n",
       "32   2019-04-02                   온라인 펀드 8700억원 돌파…미래에셋대우, 증권업계 1위   \n",
       "65   2019-02-20                   미래에셋대우, 25일 전자투표 시스템 `플랫폼 V` 설명회   \n",
       "173  2018-10-29           미래에셋대우, `핀테크 파트너십 프로그램 1기 성과 발표회’ 성황리 마쳐   \n",
       "214  2018-08-29                미래에셋대우, 막강한 글로벌투자 컨설팅…해외주식 자산 5조 돌파   \n",
       "395  2018-04-17                            미래에셋대우, 로보포트·로보픽 서비스 오픈   \n",
       "283  2018-06-20                               네이버페이서 미래에셋대우 CMA 개설   \n",
       "91   2019-01-17                            미래에셋대우 합병 후 첫 290명 희망퇴직   \n",
       "94   2019-01-16                 금호타이어-미래에셋대우, '광주공장 이전' 위한 업무제휴 협약   \n",
       "\n",
       "                                               content  \\\n",
       "296  [머니투데이 전병윤 기자] [멀티에셋운용이 25층 오피스텔로 건축…조망권 침해 소지...   \n",
       "2    [디지털타임스 차현정 기자] 미래에셋대우는 18일 홍콩 CBD2(이스트 카우룽)에 ...   \n",
       "12   [디지털타임스 김민주 기자] 미래에셋대우는 다이렉트 비대면 국내선물, 옵션 온라인 ...   \n",
       "20   미래에셋대우는 10일 오후 4시부터 전국 영업점에서 자산관리세미나를 개최한다고 9일...   \n",
       "61   [디지털타임스 차현정 기자] 미래에셋대우가 주당 220원의 현금배당을 실시한다. \\...   \n",
       "213  전문가가 장기간 분산투자하면 \\n수익률 높고 변동성 크게 줄어 \\n \\n美선 자산 ...   \n",
       "90   영국법인 주식 3360억 처분 \\n \\n \\n[ 오형주 기자 ] 미래에셋대우가 브렉...   \n",
       "96   미래에셋대우는 달러 청약 ELS를 비롯한 9종의 상품을 약 1250억원 규모로 판매...   \n",
       "98   미래에셋대우는 지난 8일 포시즌스 호텔에서 코람코자산신탁과 '리츠투자 활성화를 위한...   \n",
       "127  미래에셋대우는 세계 최대 전자상거래기업 아마존의 신설 물류센터 인수를7800만달러(...   \n",
       "129  저축은행중앙회는 미래에셋대우와 서울 중구 미래에셋센터원빌딩에서 미래에셋대우 투자일임...   \n",
       "134  미래에셋대우는 연 5.4~8.3%의 수익을 올릴 수 있는 지수형 ELS 6종과 글로...   \n",
       "143  미래에셋대우가 직원들을 대상으로 한 해외 연수 프로그램을 도입하는 등 글로벌 인재 ...   \n",
       "174  [ 조진형 기자 ] 미래에셋대우는 금융소비자 보호 및 사회공헌 활동의 전문성과 투명...   \n",
       "446  중견 건설사인 호반건설이 계열사인 호반베르디움을 통해 미래에셋대우 유상증자 청약에 ...   \n",
       "193  [디지털타임스 김민주 기자] 미래에셋대우 는 지난 3월 발행한 140억원 규모의 '...   \n",
       "229  2분기 영업익 22% 증가 \\nIB서 첫 영업익 1000억 돌파 \\n'세전 순이익 ...   \n",
       "323  [ 오형주 기자 ] 미래에셋대우가 올해 300명을 새로 채용할 예정이라고 25일 발...   \n",
       "347  1분기 2,007억원… 2007년 1분기 이후 최대 실적\\n위탁매매ㆍ투자금융ㆍ자산관...   \n",
       "368  미래에셋대우가 단일 부동산 거래로 세계 최대 규모(약 5조5000억 원)인 홍콩 ‘...   \n",
       "383  삼성증권은 19일 미래에셋대우에 대해 자사주 소각 결정은 긍정적이지만 주주가치 증대...   \n",
       "449  미래에셋대우가 지난달 28일 인도 뭄바이에서 인도현지법인 개업식을 진행했다고 1일 ...   \n",
       "454  미래에셋대우가 7000억원 규모의 유상증자를 마무리했다. 이로써 미래에셋대우는 증권...   \n",
       "32   [ 오형주 기자 ] 미래에셋대우는 온라인전용펀드 설정액이 8700억원을 돌파해 온라...   \n",
       "65   미래에셋대우가 국내 증권사 최초로 전자투표 시스템인 '플랫폼 V' 오픈을 기념해 상...   \n",
       "173  [디지털타임스 김민주 기자] 미래에셋대우는 지난 25일 '미래에셋 핀테크 파트너십 ...   \n",
       "214  ◆ 선도 증권사가 뛴다 ◆\\n 국내 대표 증권사인 미래에셋대우가 업계 최초로 해외 ...   \n",
       "395  미래에셋대우는 17일 '로보포트'와 '로보픽' 투자정보 서비스를 오픈했다고 밝혔다....   \n",
       "283  양사, 공동투자 이어 업무 협업 \\n \\n \\n[ 조진형 기자 ] 미래에셋그룹과 네...   \n",
       "91   미래에셋대우가 직원 290여명(임금피크 대상자의 명예퇴직, 휴직자 포함)의 희망퇴직...   \n",
       "94   금호타이어는 16일 광주광역시청에서 미래에셋대우와 '광주공장 부지 도시계획 변경 및...   \n",
       "\n",
       "                                  category  date_tmp  \\\n",
       "296                               [경제>부동산]    736855   \n",
       "2           [경제>국제경제, 경제>금융_재테크, 경제>산업_기업]    737168   \n",
       "12        [경제>서비스_쇼핑, 경제>금융_재테크, 경제>산업_기업]    737165   \n",
       "20                               [경제>경제일반]    737158   \n",
       "61          [경제>국제경제, 경제>금융_재테크, 경제>산업_기업]    737118   \n",
       "213         [경제>증권_증시, 경제>국제경제, 경제>금융_재테크]    736936   \n",
       "90           [국제>유럽_EU, 경제>국제경제, 경제>산업_기업]    737077   \n",
       "96          [경제>금융_재테크, 경제>국제경제, 경제>증권_증시]    737073   \n",
       "98         [경제>산업_기업, 경제>취업_창업, 경제>금융_재테크]    737068   \n",
       "127                    [경제>산업_기업, 경제>국제경제]    737054   \n",
       "129                   [경제>금융_재테크, 사회>사회일반]    737038   \n",
       "134       [경제>금융_재테크, 경제>서비스_쇼핑, 경제>증권_증시]    737033   \n",
       "143          [경제>산업_기업, 경제>국제경제, 경제>취업_창업]    737020   \n",
       "174                              [경제>경제일반]    736992   \n",
       "446         [경제>국제경제, 경제>금융_재테크, 경제>취업_창업]    736755   \n",
       "193           [경제>금융_재테크, 경제>유통, 경제>산업_기업]    736968   \n",
       "229          [경제>증권_증시, 경제>국제경제, 경제>산업_기업]    736914   \n",
       "323                             [경제>취업_창업]    736839   \n",
       "347         [경제>증권_증시, 경제>산업_기업, 경제>취업_창업]    736824   \n",
       "368         [경제>금융_재테크, 경제>국제경제, 경제>산업_기업]    736811   \n",
       "383                              [경제>경제일반]    736803   \n",
       "449            [국제>아시아, 경제>산업_기업, 경제>국제경제]    736754   \n",
       "454        [경제>증권_증시, 경제>산업_기업, 경제>금융_재테크]    736752   \n",
       "32     [IT_과학>IT_과학일반, 경제>금융_재테크, 경제>국제경제]    737151   \n",
       "65              [IT_과학>인터넷_SNS, IT_과학>콘텐츠]    737110   \n",
       "173   [IT_과학>인터넷_SNS, IT_과학>과학, IT_과학>콘텐츠]    736996   \n",
       "214    [IT_과학>인터넷_SNS, 경제>증권_증시, 경제>산업_기업]    736935   \n",
       "395  [IT_과학>인터넷_SNS, IT_과학>모바일, IT_과학>콘텐츠]    736801   \n",
       "283   [IT_과학>인터넷_SNS, 경제>산업_기업, IT_과학>모바일]    736865   \n",
       "91                                [사회>장애인]    737076   \n",
       "94                                 [지역>전남]    737075   \n",
       "\n",
       "                                         tokenized_doc  \\\n",
       "296  [머니투데이, 멀티, 셋, 운용, 층, 오피스텔, 건축, 망, 침해, 소지로, 민원...   \n",
       "2    [디지털타임스, 미래에셋대우, 홍콩, 이스트, 카우룽, 위치, 오피스, 빌딩, 골딘...   \n",
       "12   [디지털타임스, 미래에셋대우, 다이렉트, 비대면, 국내선, 물, 옵션, 온라인, 수...   \n",
       "20   [미래에셋대우, 오후, 전국, 영업점, 자산, 세미나, 개최, 세미나, 포트폴리오,...   \n",
       "61   [디지털타임스, 미래에셋대우, 현금, 배당, 실시, 미래에셋대우, 결산, 배당, 보...   \n",
       "213  [전문가, 장기간, 분산, 투자, 수익률, 변동성, 자산, 타깃, 데이트, 펀드, ...   \n",
       "90   [영국, 법인, 주식, 처분, 미래에셋대우, 브렉, 시트, 영국, 유럽연합, 탈퇴,...   \n",
       "96   [미래에셋대우, 청약, 비롯, 종, 상품, 규모, 판매, 판, 매하, 청약, 스텝,...   \n",
       "98   [미래에셋대우, 포시즌스, 호텔, 코람코, 자산, 신탁, 리츠, 투자, 활성화, 업...   \n",
       "127  [미래에셋대우, 세계, 전자상거래, 기업, 아마존, 신설, 물류, 센터, 만달, 인...   \n",
       "129  [저축은행, 중앙회, 미래에셋대우, 서울, 중구, 미래에셋센터원, 빌딩, 미래에셋대...   \n",
       "134  [미래에셋대우, 연, 수익, 지수, 종, 글로벌, 종, 종, 규모, 모집, 중이, ...   \n",
       "143  [미래에셋대우, 직원, 해외, 연수, 프로그램, 도, 입하, 글로벌, 인재, 육성,...   \n",
       "174  [미래에셋대우, 금융, 소비자, 보호, 사회, 공헌, 활동, 전문성, 투명성, 사회...   \n",
       "446  [중견, 건설사, 호반, 건설, 계열, 사인, 호반, 베르디, 움, 미래에셋대우, ...   \n",
       "193  [디지털타임스, 미래에셋대우, 발행, 규모, 해외, 주식, 지급, 글로벌, 초고, ...   \n",
       "229  [영업, 익, 증가, 첫, 영업, 익, 돌파, 순이익, 달성, 청, 신호, 미래에셋...   \n",
       "323  [미래에셋대우, 채용, 발표, 여, 규모, 미래에셋대우, 상반기, 신입사원, 전문경...   \n",
       "347  [실적, 위탁, 매매, 투자, 금융, 자산, 성장, 미래에셋대우, 순이익, 달성, ...   \n",
       "368  [미래에셋대우, 단일, 부동산, 거래, 세계, 규모, 조억, 인, 홍콩, 센터, 빌...   \n",
       "383  [삼성, 증권, 미래에셋대우, 자사, 소각, 결정, 긍정적, 주주, 가치, 증대, ...   \n",
       "449  [미래에셋대우, 지난달, 인도, 뭄바이, 인, 도현, 지법, 개업, 식, 진행, 날...   \n",
       "454  [미래에셋대우, 규모, 유상증자, 마무리, 이로, 미래에셋대우, 증권, 업계, 성하...   \n",
       "32   [미래에셋대우, 온라인, 전용, 펀드, 설정액, 돌파, 온라인, 펀드, 업계, 차지...   \n",
       "65   [미래에셋대우, 국내, 증권사, 최초, 투표, 시스템, 플랫폼, 오픈, 기념, 상장...   \n",
       "173  [디지털타임스, 미래에셋대우, 핀테크, 파트너, 십, 프로그램, 성과, 발표회, 성...   \n",
       "214  [선도, 증권사, 국내, 대표, 증권사, 미래에셋대우, 업계, 최초, 해외, 주식,...   \n",
       "395  [미래에셋대우, 보포트, 로보픽, 투자, 서비스, 오픈, 보포트, 서비스, 투자자,...   \n",
       "283  [양사, 공동, 투자, 업무, 협업, 그룹, 네이버, 공동, 투자, 업무, 협업, ...   \n",
       "91   [미래에셋대우, 직원, 여명, 임금, 피크, 대상자, 명예퇴직, 휴직, 자, 포함,...   \n",
       "94   [금호, 타이어, 광주, 광역시, 청, 미래에셋대우, 광주, 공장, 부지, 도시, ...   \n",
       "\n",
       "                                       tokenized_title cat_selected  topic  \n",
       "296                   [미래에셋대우, 과천, 사옥, 재개발, 사업, 난기, 류]           경제     -1  \n",
       "2                            [홍콩, 오피스, 빌딩, 투자, 미래에셋대우]           경제     12  \n",
       "12             [미래에셋대우, 국내, 선물, 옵션, 온라인, 수수료, 지원, 이벤트]           경제      5  \n",
       "20                           [미래에셋대우, 전국, 자산, 세미나, 개최]           경제     19  \n",
       "61                            [미래에셋대우, 현금, 배당, 주주, 가치]           경제     14  \n",
       "213  [김대환, 미래에셋대우, 연금, 지원, 대표, 외화, 내빈, 퇴직, 연금, 자동, ...           경제      1  \n",
       "90                                [미래에셋대우, 홍콩, 법인, 출자]           경제      8  \n",
       "96                         [미래에셋대우, 청약, 투자, 상품, 종, 판매]           경제      3  \n",
       "98      [포토, 미래에셋대우, 코람코, 자산, 신탁, 리츠, 투자, 활성화, 전략, 체결]           경제     20  \n",
       "127                  [미래에셋대우, 아마존, 신설, 물류, 센터, 작업, 완료]           경제     17  \n",
       "129             [저축은행, 연합, 미래에셋대우, 저축은행, 정기예금, 업무, 협약]           경제      0  \n",
       "134      [미래에셋대우, 양방, 향, 수익, 추구, 손실, 시, 실물, 지급, 종, 모집]           경제      4  \n",
       "143         [금융, 특집, 미래에셋대우, 증권, 개국, 인재, 글로벌, 전문가, 육성]           경제     16  \n",
       "174                               [미래에셋대우, 사회, 책임, 설치]           경제     18  \n",
       "446                             [미래에셋대우, 유상증자, 호반, 건설]           경제     10  \n",
       "193             [미래에셋대우, 해외, 주식, 지급, 글로벌, 만기, 상환, 수익률]           경제      2  \n",
       "229                                  [미래에셋대우, 상반기, 실적]           경제      7  \n",
       "323                                       [미래에셋대우, 채용]           경제     21  \n",
       "347                                   [미래에셋대우, 순익, 돌파]           경제      6  \n",
       "368                               [홍콩, 빌딩, 미래에셋대우, 투자]           경제     11  \n",
       "383                 [미래에셋대우, 자사, 소각, 결정, 긍정적, 장기적, 관심]           경제     13  \n",
       "449            [미래에셋대우, 인, 도현, 지법, 개업, 인도, 시장, 본격, 공략]           경제      9  \n",
       "454                    [미래에셋대우, 유상증자, 마무리, 자기, 자본, 달성]           경제     15  \n",
       "32                       [온라인, 펀드, 돌파, 미래에셋대우, 증권, 업계]        IT_과학     -1  \n",
       "65                              [미래에셋대우, 투표, 시스템, 플랫폼]        IT_과학      4  \n",
       "173          [미래에셋대우, 핀테크, 파트너, 십, 프로그램, 성과, 발표회, 성황리]        IT_과학      3  \n",
       "214         [미래에셋대우, 막강, 글로벌, 투자, 컨설팅, 해외, 주식, 자산, 돌파]        IT_과학      0  \n",
       "395                        [미래에셋대우, 보포트, 로보픽, 서비스, 오픈]        IT_과학      1  \n",
       "283                              [네이버, 페이, 미래에셋대우, 개설]        IT_과학      2  \n",
       "91                             [미래에셋대우, 합병, 첫, 희망, 퇴직]           사회     -1  \n",
       "94           [금호, 타이어, 미래에셋대우, 광주, 공장, 이전, 업무, 제휴, 협약]           지역     -1  "
      ]
     },
     "metadata": {
      "tags": []
     },
     "output_type": "display_data"
    }
   ],
   "source": [
    "print(df_main.shape)\n",
    "display(df_main)"
   ]
  },
  {
   "cell_type": "code",
   "execution_count": 0,
   "metadata": {
    "colab": {},
    "colab_type": "code",
    "id": "BZu0WhhP-NR1",
    "outputId": "b6ade15e-0da3-40e5-ca7a-b5aa1389b170",
    "scrolled": false
   },
   "outputs": [
    {
     "name": "stdout",
     "output_type": "stream",
     "text": [
      "=====topic -1=====\n"
     ]
    },
    {
     "data": {
      "text/plain": [
       "0                      미래에셋대우-에트리홀딩스, 중소·벤처기업 성장지원 업무 협약\n",
       "1                 미래에셋대우, 에트리홀딩스와 `중소·벤처기업 성장 지원` MOU 체결\n",
       "10                          \"미래에셋대우, 올해 실적 개선 기대…목표가 하향\"\n",
       "11                              미래에셋대우, '생명' 주식 매일 담는 까닭\n",
       "15            홍성국 전 미래에셋대우 사장 \"벤처기업 육성 절박함이 '수축사회' 막을 것\"\n",
       "16                             미래에셋대우, ELW 수수료 면제 이벤트 나서\n",
       "17                              미래에셋대우, ELW 매매수수료 면제 이벤트\n",
       "18                             미래에셋대우, ELW 무료 수수료 이벤트 실시\n",
       "19                              미래에셋대우, ELW 무료 수수료 행사 실시\n",
       "22                           \"현대제철, 강판 가격 상승 기대\"<미래에셋대우>\n",
       "23                           미래에셋대우, 4월은 영업점 '통합 대형화'의 달\n",
       "24                       제주항공, 1Q 예상치 넘는 호실적…목표가↑-미래에셋대우\n",
       "25                          리프트 안착, 미래에셋대우 프리IPO 대박 기대감↑\n",
       "26                  `자산관리 강자` 미래에셋대우, 수수료 수익 1730억 1위 수성\n",
       "27                  `자산관리 강자` 미래에셋대우, 수수료 수익 1730억 1위 수성\n",
       "28     [대한민국 100대 CEO] 최현만 미래에셋대우 수석부회장 | 자기자본 1위 국내 ...\n",
       "29                 미래에셋대우, `자산관리 강자` 자리매김…수수료 수익 1위 `수성`\n",
       "30                  미래에셋대우 온라인전용 펀드, 설정액 8700억 돌파… 업계 1위\n",
       "31                  미래에셋대우 온라인전용 펀드, 설정액 8700억 돌파… 업계 1위\n",
       "33                  미래에셋대우, 온라인전용 펀드 설정액 8700억원 돌파…업계 1위\n",
       "34                     미래에셋대우, 온라인 펀드시장에서도 설정액 증권업계 '1위'\n",
       "36               최현만 미래에셋대우 부회장 22.9억 받아...연보수 20억 PB 나와\n",
       "38                          미래에셋대우, 라이온투자자문과 일임투자 MOU 체결\n",
       "39                          미래에셋대우-라이온투자자문, 일임투자 업무협약 체결\n",
       "40             미래에셋대우, 해외주식 잔액 5.7兆 '업계 최대'…비결은 확고한 투자철학\n",
       "41                        \"미래에셋대우, WM대형화로 모바일 변화에 적극 대응\"\n",
       "44                   [단독] 옛 미래에셋대우 직원 금품수수 적발…과태료 5000만원\n",
       "45                         미래에셋대우, 업계 최대 규모 제3기 고객패널단 출범\n",
       "46                     미래에셋대우, 지수형 ELS·달러 청약 DLB 등 9종 판매\n",
       "50                         미래에셋대우, 2019 실전투자대회 월드챔피언십 개최\n",
       "                             ...                        \n",
       "384                        \"미래에셋대우, 자사주 취득…수급에 긍정적\"-이베스트\n",
       "392                     DB손보, 높은 수익성 유지·손해율 개선 진행-미래에셋대우\n",
       "402                     미래에셋대우, 벤처투자 속도전…5개 펀드에 5100억 투입\n",
       "403                          미래에셋대우, '올 웨이즈 해외주식 이벤트' 실시\n",
       "406                           미래에셋대우 \"와이엔텍, 가장 싼 폐기물 업체\"\n",
       "407                         미래에셋대우, 주한 미국·유럽·영국 상공회의소 가입\n",
       "408                          미래에셋대우, 주한美·英·유럽상공회의소 3곳 가입\n",
       "409             미래에셋대우, 주한미국상공회의소·주한유럽상공회의소·주한영국상공회의소 가입\n",
       "413         국내 1·2위 증권사인 미래에셋대우·NH, 런던 오피스 빌딩 3800억원에 매입\n",
       "414                   미래에셋대우, 제2기 고객패널단 발대식 \"신상품 개발에 참여\"\n",
       "415                             미래에셋대우, 제2기 고객패널단 발대식 개최\n",
       "416                         쌍용양회, 높은 배당수익률·안정적 이익-미래에셋대우\n",
       "418    [대한민국 100대 CEO] 최현만 미래에셋대우 수석부회장 | 1등 증권사 통합 일...\n",
       "421                   미래에셋대우, 최현만 수석부회장 재선임…\"글로벌 경쟁력 강화\"\n",
       "422                         미래에셋대우, 최현만 수석부회장-조웅기 사장 재선임\n",
       "429                굴릴 돈 큰 미래에셋대우, 주식대출로 2166억 \"이자 수익도 톱\"\n",
       "430                        미래에셋대우, 자기자본 8조 달성…글로벌 IB 잰걸음\n",
       "434                              미래에셋대우, 23일까지 ELS 9종 판매\n",
       "437                        한화테크윈, 저평가 불구 단기 불확실성↑-미래에셋대우\n",
       "440                        미래에셋대우, 해외주식지급형 글로벌 ELS 상품 출시\n",
       "441                          미래에셋대우, 홍제동WM·평택WM 투자설명회 개최\n",
       "442                        유니테스트, 올해 본격 성장 사이클 진입-미래에셋대우\n",
       "443                 [증권사 추천상품] 미래에셋대우 / 미래에셋스마트헤지펀드셀렉션펀드\n",
       "459             [제9회 한국 IB대상] 미래에셋대우, 셀트리온헬스케어 등 상장 '견인'\n",
       "460                             미래에셋대우, 비상장사 메디셀에 14억 투자\n",
       "464                          미래에셋대우 고객센터, 고참 직원 불만 많은 사연\n",
       "465                              미래에셋대우, 신형 우선주 7000억 모집\n",
       "467                                한투·미래에셋대우 순익 5000억 돌파\n",
       "471                         미래에셋대우, 4분기 실적 부합…성장성 부각-삼성證\n",
       "472                      [2018 매경 증권대상] 기업금융 금상 / 미래에셋대우\n",
       "Name: title, Length: 177, dtype: object"
      ]
     },
     "metadata": {
      "tags": []
     },
     "output_type": "display_data"
    },
    {
     "name": "stdout",
     "output_type": "stream",
     "text": [
      "=====topic 12=====\n"
     ]
    },
    {
     "data": {
      "text/plain": [
       "2         홍콩 오피스 빌딩에 2800억 투자한 미래에셋대우\n",
       "3         홍콩 오피스 빌딩에 2800억 투자한 미래에셋대우\n",
       "4                  해외 부동산 쓸어담는 미래에셋대우\n",
       "5               해외 부동산 투자 속도내는 미래에셋대우\n",
       "6      미래에셋대우, 홍콩 랜드마크 오피스에 2800억원 투자\n",
       "7        미래에셋대우, 홍콩 오피스 빌딩에 2800억원 투자\n",
       "8    미래에셋대우, 홍콩 구룡반도 오피스빌딩에 2800억원 투자\n",
       "9      미래에셋대우, 홍콩 구룡반도 오피스빌딩 2800억 투자\n",
       "Name: title, dtype: object"
      ]
     },
     "metadata": {
      "tags": []
     },
     "output_type": "display_data"
    },
    {
     "name": "stdout",
     "output_type": "stream",
     "text": [
      "=====topic 5=====\n"
     ]
    },
    {
     "data": {
      "text/plain": [
       "12               미래에셋대우, 국내 선물·옵션 온라인 수수료 지원 이벤트\n",
       "13                미래에셋대우, 비대면 국내선물·옵션 온라인 수수료 지원\n",
       "53            미래에셋대우, 비대면 계좌 계설 및 타사주식 입고 이벤트 나서\n",
       "79     미래에셋대우, 연 3.9%로 투자금 빌려주는 `다이렉트 융자` 이벤트 나서\n",
       "80            미래에셋대우, 다이렉트 신용·담보 융자 연 3.9% 행사 실시\n",
       "105      미래에셋대우, 신규·휴면 계좌 대상 `트리플 혜택 BIG 이벤트` 나서\n",
       "160         미래에셋대우, 주식거래 고객 대상 총 2억5000만원 경품 이벤트\n",
       "161              미래에셋대우, 고객 감사 이벤트…총 2억5000만원 경품\n",
       "237                    미래에셋대우, 다이렉트 타사 주식 입고 이벤트\n",
       "238         미래에셋대우, 비대면 계좌로 주식 입고 후 거래시 최대 100만원\n",
       "294                미래에셋대우, 8월 말까지 해외선물·옵션 이벤트 실시\n",
       "305          미래에셋대우, 국내주식 고객 대상 '슈퍼 페스티벌 2회차' 진행\n",
       "306                   미래에셋대우, \"주식 거래하고 경품 응모하세요\"\n",
       "355                    미래에셋대우, 다이렉트 비대면 계좌개설 이벤트\n",
       "366                  미래에셋대우, \"주식 거래하면 풍성한 경품 지급\"\n",
       "367                     미래에셋대우, 국내주식 거래고객 추첨 이벤트\n",
       "404                    미래에셋대우, 해외주식투자자 대상 이벤트 실시\n",
       "439            미래에셋대우, 해외선물·옵션 온라인 수수료 2.18弗 이벤트\n",
       "Name: title, dtype: object"
      ]
     },
     "metadata": {
      "tags": []
     },
     "output_type": "display_data"
    },
    {
     "name": "stdout",
     "output_type": "stream",
     "text": [
      "=====topic 19=====\n"
     ]
    },
    {
     "data": {
      "text/plain": [
       "20                     미래에셋대우 2019 제1회 전국 자산관리 세미나 개최\n",
       "21                 미래에셋대우, 9일 `핵심자산` 주제로 전국자산관리세미나 개최\n",
       "142                      미래에셋대우의 제4회 AI Club 투자세미나 성료\n",
       "178                      미래에셋대우, 24일 전국 동시 자산관리세미나 개최\n",
       "199    미래에셋대우, 제3회 Accredited Investors Club 투자세미나 성료\n",
       "248                     미래에셋대우 \"전문투자자 서비스 확대…전담인력 양성\"\n",
       "Name: title, dtype: object"
      ]
     },
     "metadata": {
      "tags": []
     },
     "output_type": "display_data"
    },
    {
     "name": "stdout",
     "output_type": "stream",
     "text": [
      "=====topic 14=====\n"
     ]
    },
    {
     "data": {
      "text/plain": [
       "61            미래에셋대우, 주당 220원 현금배당…\"주주가치 제고\"\n",
       "62           미래에셋대우, 주당 220원 현금배당...배당성향 34%\n",
       "63               미래에셋대우, 보통주 1주당 220원 현금배당키로\n",
       "312    미래에셋대우, 3년간 배당성향 25% 유지…주주친화 노력 확인-한투\n",
       "313                 미래에셋대우, 3년간 배당 25% 이상 유지\n",
       "314              미래에셋대우 \"3년간 배당성향 최소 25% 유지\"\n",
       "315              미래에셋대우, 3년간 최소 25% 배당 성향 유지\n",
       "316                미래에셋대우, \"3년간 배당성향 25% 이상\"\n",
       "317               미래에셋대우 \"3년간 배당성향 25% 보장한다\"\n",
       "318             미래에셋대우, \"3년간 배당성향 최소 25% 보장\"\n",
       "319              미래에셋대우 \"3년간 배당성향 최소 25% 유지\"\n",
       "321              미래에셋대우 \"3년간 배당성향 최소 25% 보장\"\n",
       "Name: title, dtype: object"
      ]
     },
     "metadata": {
      "tags": []
     },
     "output_type": "display_data"
    },
    {
     "name": "stdout",
     "output_type": "stream",
     "text": [
      "=====topic 1=====\n"
     ]
    },
    {
     "data": {
      "text/plain": [
       "83                              미래에셋대우, '연금 프러포즈 이벤트' 실시\n",
       "84                 미래에셋대우, 개인형연금 신규 가입자 대상 `프러포즈 이벤트` 나서\n",
       "167                             미래에셋대우, 연금저축계좌 만들면 상품 지급\n",
       "213    김대환 미래에셋대우 WM연금지원부문 대표 \"외화내빈 퇴직연금… 자동투자制로 수익률 ...\n",
       "224                           미래에셋대우, 업계 최초 연금자산 11조원 돌파\n",
       "225                          미래에셋대우, 증권업 최초 연금자산 11조원 돌파\n",
       "226                            미래에셋대우 연금자산, 업계 첫 11조원 돌파\n",
       "244                      미래에셋대우, 전국민 개방형 연금자산관리센터 개점 이벤트\n",
       "245                미래에셋대우, '전 국민 개방형 연금자산관리센터' 오픈 이벤트 실시\n",
       "277                                      미래에셋대우 연금자산관리센터\n",
       "278                             미래에셋대우, 개방형 연금자산관리센터 문열어\n",
       "279                   미래에셋대우, 누구나 이용 가능한 개방형 연금자산관리센터 출범\n",
       "280                  미래에셋대우, 개방형 연금자산관리센터 출범…\"누구나 이용 가능\"\n",
       "281                       미래에셋대우, \"개방형 연금자산관리센터, 전국민 이용\"\n",
       "363                                  미래에셋대우, 연금 비즈니스의 강자\n",
       "438                        미래에셋대우, '노후계획, 연금이 좋다' 이벤트 실시\n",
       "Name: title, dtype: object"
      ]
     },
     "metadata": {
      "tags": []
     },
     "output_type": "display_data"
    },
    {
     "name": "stdout",
     "output_type": "stream",
     "text": [
      "=====topic 8=====\n"
     ]
    },
    {
     "data": {
      "text/plain": [
       "90                        미래에셋대우, 홍콩법인에 5000억원 출자\n",
       "92                          미래에셋대우, 런던서 돈빼 홍콩 보낸다\n",
       "189            [단독] 증권사 해외 수익 늘었지만…미래에셋대우가 75% 차지\n",
       "215                         미래에셋대우 박현주號 해외사업 `순항`\n",
       "216                         미래에셋대우 박현주號 해외사업 `순항`\n",
       "217    미래에셋대우, `박현주호` 해외사업 순항…상반기 해외법인 당기순익 230%↑\n",
       "236                            미래에셋대우, `글로벌IB` 간다\n",
       "239         미래에셋대우 해외에 14개 거점…방대한 네트워크로 글로벌 IB 박차\n",
       "240                            미래에셋대우, `글로벌IB` 간다\n",
       "303     미래에셋대우 회장 물러난 박현주…국내 전문경영인시대 열고 해외사업 전력투구\n",
       "328                     박현주 미래에셋대우 회장, ‘경영 2선’ 왜?\n",
       "334                박현주, 미래에셋대우 글로벌 경영에 주력…회장서 물러나\n",
       "335                박현주 미래에셋대우 회장, 회장직 물러나 해외사업 주력\n",
       "336                   박현주 미래에셋대우 회장, 글로벌경영전략고문 선임\n",
       "337                박현주, 미래에셋대우 회장 물러나 \"글로벌 경영 집중\"\n",
       "338            박현주 회장, 미래에셋대우 글로벌 경영에 주력…GISO로 선임\n",
       "339            박현주 회장, \"미래에셋대우 GISO 맡고 글로벌 경영 주력\"\n",
       "340           박현주, 미래에셋대우 회장 물러나...글로벌 전략에 집중(종합)\n",
       "419                  미래에셋대우, 미국 내 지주사 설립…3007억 출자\n",
       "420                    [인사] 박현주 미래에셋대우 홍콩법인 회장 취임\n",
       "423              박현주, 해외사업에 주력… 미래에셋대우 홍콩법인 회장 취임\n",
       "425                       박현주 미래에셋대우 홍콩 글로벌 회장 취임\n",
       "426      박현주 미래에셋대우 회장, 홍콩법인 회장 취임...'해외사업 직접 지휘'\n",
       "427          박현주, 미래에셋대우 홍콩 글로벌 회장 취임…\"글로벌 경영 주력\"\n",
       "428                      박현주, 미래에셋대우 홍콩 글로벌 회장 취임\n",
       "Name: title, dtype: object"
      ]
     },
     "metadata": {
      "tags": []
     },
     "output_type": "display_data"
    },
    {
     "name": "stdout",
     "output_type": "stream",
     "text": [
      "=====topic 3=====\n"
     ]
    },
    {
     "data": {
      "text/plain": [
       "96           미래에셋대우, 달러 청약 ELS 등 투자상품 9종 판매\n",
       "179                    미래에셋대우, 주가연계증권 9종 판매\n",
       "208     미래에셋대우, 손실 나면 해외주식 지급 ELS 포함 12종 판매\n",
       "209                   미래에셋대우, 주가연계증권 12종 판매\n",
       "293                   미래에셋대우, 주가연계증권 11종 판매\n",
       "320                    미래에셋대우, 주가연계증권 9종 판매\n",
       "331                    미래에셋대우, 주가연계증권 8종 판매\n",
       "365                    미래에셋대우, 주가연계증권 7종 판매\n",
       "405                    미래에셋대우, 주가연계증권 9종 판매\n",
       "435    미래에셋대우, \"만기 손실시 현금대신 해외주식 지급\" ELS 판매\n",
       "436                  미래에셋대우, 주가연계증권 등 9종 판매\n",
       "Name: title, dtype: object"
      ]
     },
     "metadata": {
      "tags": []
     },
     "output_type": "display_data"
    },
    {
     "name": "stdout",
     "output_type": "stream",
     "text": [
      "=====topic 20=====\n"
     ]
    },
    {
     "data": {
      "text/plain": [
       "98     [포토] 미래에셋대우, 코람코자산신탁과 리츠투자 활성화를 위한 전략적 MOU 체결\n",
       "100                   미래에셋대우·코람코자산신탁, 리츠투자 활성화 위해 맞손\n",
       "101                   미래에셋대우, 코람코자산신탁과 리츠 활성화 MOU 체결\n",
       "102                    미래에셋대우, 코람코자산신탁과 리츠투자 활성화 MOU\n",
       "144                  미래에셋대우 조직개편…총괄직 신설 및 IB·트레이딩 강화\n",
       "145                            미래에셋대우, IB·트레이딩 조직 강화\n",
       "146                미래에셋대우, 조직개편…IB·트레이딩 리스크 관리 강화 중점\n",
       "Name: title, dtype: object"
      ]
     },
     "metadata": {
      "tags": []
     },
     "output_type": "display_data"
    },
    {
     "name": "stdout",
     "output_type": "stream",
     "text": [
      "=====topic 17=====\n"
     ]
    },
    {
     "data": {
      "text/plain": [
       "116              미래에셋대우, 아마존 물류센터 878억에 인수\n",
       "117    대체투자 늘리는 미래에셋대우, 아마존 물류센터에 880억원 투자\n",
       "118              미래에셋대우, 아마존 물류센터 878억에 인수\n",
       "119          미래에셋대우, 아마존 신설 물류센터 900억원에 인수\n",
       "120                  미래에셋대우, 美 아마존 물류센터 인수\n",
       "121                  미래에셋대우, 美아마존 물류센터 품었다\n",
       "124             미래에셋대우, 아마존 물류센터 878억원에 인수\n",
       "125        미래에셋대우, 아마존 신설 물류센터 7800만달러에 인수\n",
       "126        미래에셋대우, 美 애틀란타 '아마존' 신설 물류센터 인수\n",
       "127           미래에셋대우, 아마존 신설 물류센터 인수 작업 완료\n",
       "Name: title, dtype: object"
      ]
     },
     "metadata": {
      "tags": []
     },
     "output_type": "display_data"
    },
    {
     "name": "stdout",
     "output_type": "stream",
     "text": [
      "=====topic 0=====\n"
     ]
    },
    {
     "data": {
      "text/plain": [
       "129           저축은행연합회·미래에셋대우… 저축은행 정기예금 업무 협약\n",
       "130    미래에셋대우-저축은행중앙회, 랩어카운트내 저축은행 예금 편입 업무협약\n",
       "131            미래에셋대우, 랩어카운트에 저축은행 정기예금 편입 추진\n",
       "132         미래에셋대우, 증권사 최초 '랩어카운트'에 저축銀 예금 편입\n",
       "133     미래에셋대우, 랩어카운트에 저축은행 정기예금 편입 위한 MOU 체결\n",
       "Name: title, dtype: object"
      ]
     },
     "metadata": {
      "tags": []
     },
     "output_type": "display_data"
    },
    {
     "name": "stdout",
     "output_type": "stream",
     "text": [
      "=====topic 4=====\n"
     ]
    },
    {
     "data": {
      "text/plain": [
       "134    미래에셋대우, 양방향 수익 추구·손실시 실물 지급 등 ELS 8종 모집\n",
       "135                 미래에셋대우, 양방향 수익 추구 ELS 등 판매\n",
       "139      미래에셋대우, 손실 발생 구간서 기초자산 실물 주는 ELS 판매 중\n",
       "140              미래에셋대우, 손실시 해외주식 실물 지급 ELS 판매\n",
       "149                       미래에셋대우, 주가연계증권 6종 판매\n",
       "211          미래에셋대우, 손실 나면 해외주식 실물 지급 ELS 등 판매\n",
       "218                    미래에셋대우, 주가연계증권 총 10종 판매\n",
       "219              미래에셋대우, 손실나면 해외주식 지급 ELS 등 판매\n",
       "242                          미래에셋대우, ELS 7종 판매\n",
       "247          미래에셋대우, 손실나면 해외주식 지급 ELS 포함 7종 판매\n",
       "262                미래에셋대우, 손실나면 해외주식 주는 ELS 판매\n",
       "263                      미래에셋대우, 주가연계증권 11종 판매\n",
       "Name: title, dtype: object"
      ]
     },
     "metadata": {
      "tags": []
     },
     "output_type": "display_data"
    },
    {
     "name": "stdout",
     "output_type": "stream",
     "text": [
      "=====topic 16=====\n"
     ]
    },
    {
     "data": {
      "text/plain": [
       "143    [금융 특집] 미래에셋대우증권, 10개국에 인재 보내…2년간 글로벌 전문가 200명 육성\n",
       "250                     미래에셋대우, 프로그램 도입… 글로벌 금융투자 전문가 양성\n",
       "251                   \"글로벌 인재 키운다\"… 미래에셋대우, 매년 50여명 해외연수\n",
       "253                  미래에셋대우, \"사내 해외연수 프로그램 도입…글로벌 인재 육성\"\n",
       "254                    미래에셋대우, 해외 연수프로그램 도입…글로벌 인재 육성 박차\n",
       "Name: title, dtype: object"
      ]
     },
     "metadata": {
      "tags": []
     },
     "output_type": "display_data"
    },
    {
     "name": "stdout",
     "output_type": "stream",
     "text": [
      "=====topic 18=====\n"
     ]
    },
    {
     "data": {
      "text/plain": [
       "174                    미래에셋대우, 사회적책임委 설치\n",
       "175                  미래에셋대우, 사회적책임위원회 설치\n",
       "176         미래에셋대우, 사회공헌강화위해 사회적책임위원회 출범\n",
       "177    미래에셋대우, 소비자보호·사회공헌 강화 '사회적책임委' 출범\n",
       "201            미래에셋대우, 7년 연속 DJSI월드지수 선정\n",
       "Name: title, dtype: object"
      ]
     },
     "metadata": {
      "tags": []
     },
     "output_type": "display_data"
    },
    {
     "name": "stdout",
     "output_type": "stream",
     "text": [
      "=====topic 10=====\n"
     ]
    },
    {
     "data": {
      "text/plain": [
       "190     미래에셋대우·KB증권, 호반건설 상장 대표주관사 선정\n",
       "191    미래에셋대우-KB증권, 호반그룹 상장 대표주관사로 선정\n",
       "192     미래에셋대우-KB증권, 호반그룹 상장 대표주관사 선정\n",
       "444         호반건설, 미래에셋대우 우선주에 500억 투자\n",
       "445         호반건설, 미래에셋대우 우선주에 500억 투자\n",
       "446        미래에셋대우 유상증자 호반건설, 500억원 참여\n",
       "Name: title, dtype: object"
      ]
     },
     "metadata": {
      "tags": []
     },
     "output_type": "display_data"
    },
    {
     "name": "stdout",
     "output_type": "stream",
     "text": [
      "=====topic 2=====\n"
     ]
    },
    {
     "data": {
      "text/plain": [
       "193    미래에셋대우, 해외주식 지급형 글로벌 ELS 만기 상환…수익률 15.63%\n",
       "194     미래에셋대우, 업계 첫 '해외주식지급형 ELS' 수익률 15.6%로 상환\n",
       "195               미래에셋대우, 해외주식 지급형 글로벌 ELS 만기 상환\n",
       "431        미래에셋대우 \"업계 최초 출시 해외주식지급형 ELS 100억 완판\"\n",
       "432       미래에셋대우, 업계 첫 '해외주식지급형 글로벌 ELS' 100억 완판\n",
       "433             미래에셋대우, 해외주식지급형 글로벌 ELS 100억원 완판\n",
       "Name: title, dtype: object"
      ]
     },
     "metadata": {
      "tags": []
     },
     "output_type": "display_data"
    },
    {
     "name": "stdout",
     "output_type": "stream",
     "text": [
      "=====topic 7=====\n"
     ]
    },
    {
     "data": {
      "text/plain": [
       "229                           미래에셋대우 상반기 최대 실적\n",
       "230          미래에셋대우, 2Q 영업익 21.8%↑…반기 최대 실적 달성\n",
       "231       미래에셋대우, 상반기 영업익 4276억·순익 3578억…사상 최대\n",
       "232      미래에셋대우, 올 상반기 영업이익 4276억원…사상 최대 실적 경신\n",
       "233         미래에셋대우 상반기 영업익 4276억…\"사상 최대 반기 실적\"\n",
       "234           미래에셋대우, 2분기 순이익 1571억원…전년比 4.0%↓\n",
       "235    미래에셋대우, 상반기 영업익 4276억원...연 1兆 목표까지 '성큼'\n",
       "Name: title, dtype: object"
      ]
     },
     "metadata": {
      "tags": []
     },
     "output_type": "display_data"
    },
    {
     "name": "stdout",
     "output_type": "stream",
     "text": [
      "=====topic 21=====\n"
     ]
    },
    {
     "data": {
      "text/plain": [
       "323                   미래에셋대우, 올해 300명 채용\n",
       "324    미래에셋대우, 올해 300명 채용…\"연말엔 4900명 육박\"\n",
       "325              미래에셋대우, 올 하반기 150명 채용한다\n",
       "326               미래에셋대우, 하반기 150명 채용 예정\n",
       "327                  미래에셋대우, 올해 300명 뽑는다\n",
       "Name: title, dtype: object"
      ]
     },
     "metadata": {
      "tags": []
     },
     "output_type": "display_data"
    },
    {
     "name": "stdout",
     "output_type": "stream",
     "text": [
      "=====topic 6=====\n"
     ]
    },
    {
     "data": {
      "text/plain": [
       "347              미래에셋대우 11년 만에 ‘분기 순익 2000억원’ 돌파\n",
       "348            미래에셋대우, 1Q 영업익 2146억...전년비 49.6%↑\n",
       "349            미래에셋대우, 1분기 순이익 2007억원…전년比 82.2%↑\n",
       "350    미래에셋대우, 1Q 영업익 2146억 전년比 50%↑ \"전부문 고른 성장\"\n",
       "351    미래에셋대우, 1분기 세전익 2162억…\"2분기 이후 자본확충 효과 기대\"\n",
       "Name: title, dtype: object"
      ]
     },
     "metadata": {
      "tags": []
     },
     "output_type": "display_data"
    },
    {
     "name": "stdout",
     "output_type": "stream",
     "text": [
      "=====topic 11=====\n"
     ]
    },
    {
     "data": {
      "text/plain": [
       "368                5조원대 홍콩빌딩 인수에 미래에셋대우 3200억 투자\n",
       "369                        미래에셋대우, 홍콩 빌딩에 3억弗 투자\n",
       "370                미래에셋대우, 홍콩 최고 몸값 `더센터` 3억弗 베팅\n",
       "371    미래에셋대우, 리카싱 소유 홍콩 더센터 빌딩 인수 참여…3억불 투자(상보)\n",
       "372                 미래에셋대우, '더센터' 빌딩 인수에 3억달러 투자\n",
       "373        미래에셋대우, 리카싱 소유 홍콩 더센터 빌딩 인수 참여…3억불 투자\n",
       "374          미래에셋대우, 5.5조원 규모 홍콩 '더센터' 빌딩 인수전 참여\n",
       "375                       미래에셋대우, 홍콩 `더센터` 빌딩 인수\n",
       "Name: title, dtype: object"
      ]
     },
     "metadata": {
      "tags": []
     },
     "output_type": "display_data"
    },
    {
     "name": "stdout",
     "output_type": "stream",
     "text": [
      "=====topic 13=====\n"
     ]
    },
    {
     "data": {
      "text/plain": [
       "383    [Hot-Line] \"미래에셋대우, 자사주 소각 결정 긍정적…중장기적 관심\"\n",
       "385                     미래에셋대우, 자사주 800만주 매입 후 소각\n",
       "386                       미래에셋대우, 자사주 800만株 매입·소각\n",
       "387                     미래에셋대우, 자사주 800만주 취득 후 소각\n",
       "388                       미래에셋대우, 자사주 800만주 매입 소각\n",
       "389          미래에셋대우, 통큰 주주환원…자사주 800만주 매입 후 소각 결정\n",
       "390                 미래에셋대우, 보통주 자사주 800만주 취득 후 소각\n",
       "391                     미래에셋대우, 자사주 800만주 취득 및 소각\n",
       "Name: title, dtype: object"
      ]
     },
     "metadata": {
      "tags": []
     },
     "output_type": "display_data"
    },
    {
     "name": "stdout",
     "output_type": "stream",
     "text": [
      "=====topic 9=====\n"
     ]
    },
    {
     "data": {
      "text/plain": [
       "447    [경제 브리핑] 미래에셋대우 뭄바이 법인 세우고 인도 진출\n",
       "448           `공격 투자` 미래에셋대우, 글로벌 IB 성큼\n",
       "449      미래에셋대우, 인도현지법인 개업 \"인도시장 본격 공략\"\n",
       "450               미래에셋대우, 인도 현지법인 영업 시동\n",
       "451               미래에셋대우, 인도 현지법인 영업 시작\n",
       "452            미래에셋대우, 인도 뭄바이서 현지법인 개업식\n",
       "453             미래에셋대우, 인도 현지법인 증권영업 개시\n",
       "Name: title, dtype: object"
      ]
     },
     "metadata": {
      "tags": []
     },
     "output_type": "display_data"
    },
    {
     "name": "stdout",
     "output_type": "stream",
     "text": [
      "=====topic 15=====\n"
     ]
    },
    {
     "data": {
      "text/plain": [
       "454    미래에셋대우, 7000억 유상증자 마무리…자기자본 8조 달성\n",
       "455                  미래에셋대우 유상증자 청약률 90%\n",
       "456    미래에셋대우, 7000억원 유상증자 마무리…자본 8조원 확보\n",
       "458      미래에셋대우, 7000억 유증 마무리…자기자본 8조 달성\n",
       "461     미래에셋대우, 유증 청약률 65.6%…4812만주 일반공모\n",
       "462      미래에셋대우 4800만주 일반공모…26일부터 이틀간 진행\n",
       "463          미래에셋캐피탈, 미래에셋대우 유증에 300억 출자\n",
       "466         미래에셋대우 임직원 90%, 우리사주 유상증자 참여\n",
       "468                미래에셋대우 우리사주, 이번에도 대박?\n",
       "Name: title, dtype: object"
      ]
     },
     "metadata": {
      "tags": []
     },
     "output_type": "display_data"
    }
   ],
   "source": [
    "eco_news = df_final[df_final['cat_selected']=='경제'].copy()\n",
    "topics = eco_news['topic'].unique().tolist()\n",
    "for topic in topics:\n",
    "    print(f'=====topic {topic}=====')\n",
    "    tmp = eco_news[eco_news['topic']==topic].copy()\n",
    "    display(tmp['title'])"
   ]
  },
  {
   "cell_type": "code",
   "execution_count": 0,
   "metadata": {
    "colab": {},
    "colab_type": "code",
    "id": "ardqdrew-NR4"
   },
   "outputs": [],
   "source": [
    "# 저장\n",
    "with open('tokenized data/df_final.pickle','wb') as handle:\n",
    "    pickle.dump(df_final,handle,protocol=pickle.HIGHEST_PROTOCOL)   \n",
    "with open('tokenized data/df_main.pickle','wb') as handle:\n",
    "    pickle.dump(df_main,handle,protocol=pickle.HIGHEST_PROTOCOL)    "
   ]
  },
  {
   "cell_type": "markdown",
   "metadata": {
    "colab_type": "text",
    "id": "gBtbtzqO-NR5"
   },
   "source": [
    "## 카테고리 - 토픽 / 시간에 따른 뉴스 빈도"
   ]
  },
  {
   "cell_type": "code",
   "execution_count": 0,
   "metadata": {
    "colab": {},
    "colab_type": "code",
    "id": "_UlrIIBX-NR6",
    "outputId": "c3233733-f058-40ba-b08e-ca4444086a1b"
   },
   "outputs": [
    {
     "data": {
      "text/plain": [
       "cat_selected\n",
       "IT_과학     6\n",
       "경제       23\n",
       "사회        1\n",
       "지역        1\n",
       "Name: topic, dtype: int64"
      ]
     },
     "execution_count": 25,
     "metadata": {
      "tags": []
     },
     "output_type": "execute_result"
    }
   ],
   "source": [
    "# 카테고리 별 토픽 수 \n",
    "df_final.groupby(['cat_selected'])['topic'].nunique()"
   ]
  },
  {
   "cell_type": "code",
   "execution_count": 0,
   "metadata": {
    "colab": {},
    "colab_type": "code",
    "id": "A_BAoceb-NR9",
    "outputId": "2b5e7055-0feb-4950-b791-63b86138e108",
    "scrolled": true
   },
   "outputs": [
    {
     "data": {
      "text/plain": [
       "cat_selected  topic\n",
       "IT_과학         -1        32\n",
       "               0        16\n",
       "               1         7\n",
       "               2         8\n",
       "               3         7\n",
       "               4         5\n",
       "경제            -1       177\n",
       "               0         5\n",
       "               1        16\n",
       "               2         6\n",
       "               3        11\n",
       "               4        12\n",
       "               5        18\n",
       "               6         5\n",
       "               7         7\n",
       "               8        25\n",
       "               9         7\n",
       "               10        6\n",
       "               11        8\n",
       "               12        8\n",
       "               13        8\n",
       "               14       12\n",
       "               15        9\n",
       "               16        5\n",
       "               17       10\n",
       "               18        5\n",
       "               19        6\n",
       "               20        7\n",
       "               21        5\n",
       "사회            -1        10\n",
       "지역            -1         5\n",
       "Name: title, dtype: int64"
      ]
     },
     "execution_count": 26,
     "metadata": {
      "tags": []
     },
     "output_type": "execute_result"
    }
   ],
   "source": [
    "# 카테고리 - 토픽 별 기사 수\n",
    "df_final.groupby(['cat_selected','topic'])['title'].count()"
   ]
  },
  {
   "cell_type": "markdown",
   "metadata": {
    "colab_type": "text",
    "id": "X7hwNvnd-NR_"
   },
   "source": [
    "## 단계별 처리 시간 시각화"
   ]
  },
  {
   "cell_type": "markdown",
   "metadata": {
    "colab_type": "text",
    "id": "0VUx6PaE-NSA"
   },
   "source": [
    "* DB SCAN\n",
    "    * excution time : 0.7, \n",
    "    * total : 2.53\n",
    "* OPTICS  \n",
    "    * excution time : 3.5\n",
    "    * total : 5.6"
   ]
  },
  {
   "cell_type": "code",
   "execution_count": 0,
   "metadata": {
    "colab": {},
    "colab_type": "code",
    "id": "cVYcHYn3-NSA",
    "outputId": "168ebd21-c2b9-43e2-ad08-6c1246a51a7d"
   },
   "outputs": [
    {
     "data": {
      "image/png": "[encoded data removed]",
      "text/plain": [
       "<Figure size 720x360 with 1 Axes>"
      ]
     },
     "metadata": {
      "needs_background": "light",
      "tags": []
     },
     "output_type": "display_data"
    },
    {
     "name": "stdout",
     "output_type": "stream",
     "text": [
      "total excution time : 5.865755081176758\n"
     ]
    }
   ],
   "source": [
    "plt.figure(figsize = (10,5))\n",
    "plt.plot(time_list)\n",
    "plt.xticks(ticks = list(range(7)),labels = process, rotation = 'vertical')\n",
    "plt.show()\n",
    "print(f'total excution time : {np.sum(time_list)}')"
   ]
  },
  {
   "cell_type": "code",
   "execution_count": 0,
   "metadata": {
    "colab": {},
    "colab_type": "code",
    "id": "X-d3HAQL-NSD"
   },
   "outputs": [],
   "source": []
  }
 ],
 "metadata": {
  "colab": {
   "name": "승현_workflow v4 유효기사추출 - 대표기사추출.ipynb",
   "provenance": [],
   "version": "0.3.2"
  },
  "kernelspec": {
   "display_name": "Python 3",
   "language": "python",
   "name": "python3"
  },
  "language_info": {
   "codemirror_mode": {
    "name": "ipython",
    "version": 3
   },
   "file_extension": ".py",
   "mimetype": "text/x-python",
   "name": "python",
   "nbconvert_exporter": "python",
   "pygments_lexer": "ipython3",
   "version": "3.6.5"
  },
  "toc": {
   "base_numbering": 1,
   "nav_menu": {},
   "number_sections": true,
   "sideBar": true,
   "skip_h1_title": false,
   "title_cell": "Table of Contents",
   "title_sidebar": "Contents",
   "toc_cell": false,
   "toc_position": {},
   "toc_section_display": true,
   "toc_window_display": false
  }
 },
 "nbformat": 4,
 "nbformat_minor": 1
}
