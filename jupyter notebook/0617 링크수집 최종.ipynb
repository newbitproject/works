{
 "cells": [
  {
   "cell_type": "code",
   "execution_count": null,
   "metadata": {
    "ExecuteTime": {
     "end_time": "2019-06-13T14:12:05.460310Z",
     "start_time": "2019-06-13T14:12:02.791310Z"
    }
   },
   "outputs": [],
   "source": [
    "from bs4 import BeautifulSoup \n",
    "from selenium import webdriver\n",
    "from selenium.webdriver.common.keys import Keys \n",
    "from datetime import datetime \n",
    "import pandas as pd \n",
    "import time \n",
    "import re\n",
    "import math\n",
    "#from selenium.webdriver.support.ui import WebDriverWait\n",
    "#from selenium.webdriver.support import expected_conditions as EC\n",
    "\n",
    "driver = webdriver.Chrome('chromedriver')"
   ]
  },
  {
   "cell_type": "code",
   "execution_count": null,
   "metadata": {
    "ExecuteTime": {
     "end_time": "2019-06-13T15:21:42.024310Z",
     "start_time": "2019-06-13T14:38:24.543310Z"
    }
   },
   "outputs": [],
   "source": [
    "lst=['삼성생명','하나생명','이니스프리','더페이스샵'] \n",
    "chk = True\n",
    "for query in lst:\n",
    "    driver.get('https://www.bigkinds.or.kr/')\n",
    "    time.sleep(3)\n",
    "    #10년 설정\n",
    "    driver.find_element_by_css_selector('#news-search-form > div > div > div > div.main-search-filters.text-left.mt-2 > div:nth-child(2) > button').click()\n",
    "    time.sleep(0.5)\n",
    "    for i in range(10):\n",
    "        driver.find_element_by_css_selector('#search-begin-date').send_keys(Keys.BACK_SPACE)\n",
    "    time.sleep(0.2)\n",
    "    driver.find_element_by_css_selector('#search-begin-date').send_keys('2009-01-01')\n",
    "    driver.find_element_by_css_selector('#news-search-form > div > div > div > div.main-search-filters.text-left.mt-2 > div.dropdown.main-search-filters__item.open > div > div.action-wrap > button.btn.btn-sm.btn-primary.close-filter-btn').click()\n",
    "    # 언론사 열기\n",
    "    time.sleep(0.5)\n",
    "    driver.find_element_by_css_selector('#provider-filter-btn').click()\n",
    "    driver.find_element_by_css_selector('#providers-wrap > div:nth-child(3) > div:nth-child(1) > div > label').click()\n",
    "    driver.find_element_by_css_selector('#providers-wrap > div:nth-child(4) > div:nth-child(1) > div > label').click()\n",
    "    driver.find_element_by_css_selector('#news-search-form > div > div > div > div.main-search-filters.text-left.mt-2 > div.dropdown.main-search-filters__item.none-relative.open > div > div.action-wrap > button.btn.btn-sm.btn-primary.half.close-filter-btn').click()\n",
    "    #제목 포함\n",
    "    time.sleep(0.5)\n",
    "    driver.find_element_by_css_selector('#detail-filter-btn').click()\n",
    "    driver.find_element_by_css_selector('#search-scope-type > option:nth-child(2)').click()\n",
    "    \n",
    "    # 쿼리 검색\n",
    "    time.sleep(0.3)\n",
    "    driver.find_element_by_css_selector('#total-search-key').send_keys(query)\n",
    "    time.sleep(0.5)\n",
    "    driver.find_element_by_css_selector('#news-search-form > div > div > div > div.input-group.main-search__form > span > button').click()\n",
    "    # 100개씩 보기로 변경\n",
    "    driver.find_element_by_css_selector('#collapse-step-2 > div > div > div.col-sm-9.col-lg-10 > div:nth-child(3) > div > div.col-xs-12.col-lg-4.col-sm-7.text-right > div:nth-child(2) > select > option:nth-child(4)').click()\n",
    "    # 화면 로드 타임 슬립\n",
    "    time.sleep(12)\n",
    "    # (전체 검색 결과 / 100) -1 #페이지 넘기는 수\n",
    "    page = math.ceil(int(re.sub(',','',(driver.find_element_by_css_selector('#total-news-cnt').text)))/100)\n",
    "    if page < 1 :\n",
    "        page =1\n",
    "    #빈 딕셔너리 생성\n",
    "    Article={'title':[], 'date':[], 'category':[], 'link':[], 'company':[], 'query':[]}\n",
    "    # 페이지 수 만큼 while 문 반복\n",
    "    while page:\n",
    "        page -= 1\n",
    "        #페이지 로드 시간 지연\n",
    "        if chk == True:\n",
    "            chk = False\n",
    "        else:\n",
    "            time.sleep(20)\n",
    "        # div tag 전체를 리스트로 저장\n",
    "        div_tag=driver.find_elements_by_css_selector('#news-results > div')\n",
    "        for article in div_tag:\n",
    "            time.sleep(0.1)\n",
    "            chk_title= article.find_element_by_css_selector('div.news-item__body > h4').text\n",
    "            try:\n",
    "                Article['company'].append(article.find_element_by_css_selector('a').text)\n",
    "            except:\n",
    "                Article['company'].append('')\n",
    "            try:\n",
    "                Article['title'].append(article.find_element_by_css_selector('div.news-item__body > h4').text)\n",
    "            except:\n",
    "                Article['title'].append('')\n",
    "            try:\n",
    "                Article['category'].append(article.find_element_by_css_selector('div.news-item__body > div.news-item__meta > span.news-item__category').text)\n",
    "            except:\n",
    "                Article['category'].append('')\n",
    "            try:\n",
    "                Article['date'].append(article.find_element_by_css_selector('div.news-item__body > div.news-item__meta > span.news-item__date').text)\n",
    "            except:\n",
    "                Article['date'].append('')\n",
    "            try:\n",
    "                Article['link'].append(article.find_element_by_css_selector('div.news-item__body > div.news-item__meta > a').get_attribute(\"href\"))\n",
    "            except:\n",
    "                Article['link'].append('')\n",
    "            try:\n",
    "                Article['query'].append(query)\n",
    "            except:\n",
    "                Article['query'].append('')\n",
    "        # next page\n",
    "        try:\n",
    "            next_button=driver.find_element_by_css_selector('#news-results-pagination > ul > li:nth-child(10) > a')\n",
    "            next_button.click()\n",
    "        except:\n",
    "            pass\n",
    "    Article=pd.DataFrame.from_dict(Article)\n",
    "    Article.columns = ['title', 'date', 'category','link', 'company','query']\n",
    "    Article.to_csv(f'{query}.csv', index=False, encoding='utf-8-sig')\n",
    "    print(f'{query} 저장 완료')"
   ]
  },
  {
   "cell_type": "code",
   "execution_count": null,
   "metadata": {},
   "outputs": [],
   "source": []
  }
 ],
 "metadata": {
  "kernelspec": {
   "display_name": "Python 3",
   "language": "python",
   "name": "python3"
  },
  "language_info": {
   "codemirror_mode": {
    "name": "ipython",
    "version": 3
   },
   "file_extension": ".py",
   "mimetype": "text/x-python",
   "name": "python",
   "nbconvert_exporter": "python",
   "pygments_lexer": "ipython3",
   "version": "3.6.5"
  }
 },
 "nbformat": 4,
 "nbformat_minor": 2
}
