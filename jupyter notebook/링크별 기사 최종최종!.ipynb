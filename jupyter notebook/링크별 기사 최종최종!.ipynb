{
 "cells": [
  {
   "cell_type": "code",
   "execution_count": null,
   "metadata": {
    "ExecuteTime": {
     "end_time": "2019-06-18T00:34:16.171240Z",
     "start_time": "2019-06-18T00:34:16.052240Z"
    }
   },
   "outputs": [],
   "source": [
    "from bs4 import BeautifulSoup \n",
    "from selenium import webdriver\n",
    "from selenium.webdriver.common.keys import Keys \n",
    "from datetime import datetime \n",
    "import pandas as pd \n",
    "import time \n",
    "import re\n",
    "import math\n",
    "import requests"
   ]
  },
  {
   "cell_type": "code",
   "execution_count": null,
   "metadata": {
    "ExecuteTime": {
     "end_time": "2019-06-18T01:42:20.317240Z",
     "start_time": "2019-06-18T01:42:17.753240Z"
    }
   },
   "outputs": [],
   "source": [
    "driver = webdriver.Chrome('chromedriver')"
   ]
  },
  {
   "cell_type": "code",
   "execution_count": null,
   "metadata": {
    "ExecuteTime": {
     "end_time": "2019-06-18T06:37:17.028044Z",
     "start_time": "2019-06-18T06:37:17.002044Z"
    }
   },
   "outputs": [],
   "source": [
    "df = pd.read_csv('미래에셋대우.csv', encoding= 'utf-8-sig', engine='python')"
   ]
  },
  {
   "cell_type": "code",
   "execution_count": null,
   "metadata": {
    "ExecuteTime": {
     "end_time": "2019-06-18T06:37:17.028044Z",
     "start_time": "2019-06-18T06:37:17.002044Z"
    }
   },
   "outputs": [],
   "source": [
    "df2 = pd.read_csv('KB증권.csv', encoding= 'utf-8-sig', engine='python')"
   ]
  },
  {
   "cell_type": "code",
   "execution_count": null,
   "metadata": {},
   "outputs": [],
   "source": [
    "link = df['link']\n",
    "link2 = df2['link']"
   ]
  },
  {
   "cell_type": "code",
   "execution_count": null,
   "metadata": {
    "ExecuteTime": {
     "start_time": "2019-06-17T00:31:17.878Z"
    }
   },
   "outputs": [],
   "source": [
    "news={'link':[], 'content':[]} #한국경제 #아시아경제 #문화일보 #아주경제 불가\n",
    "for site in link:\n",
    "    text=''\n",
    "    try:\n",
    "        time.sleep(1)\n",
    "        response = requests.get(site)\n",
    "        soup = BeautifulSoup(response.content, 'html.parser', from_encoding='utf-8')\n",
    "        if 'chosun' in site: #조선일보\n",
    "            driver.get(site)\n",
    "            for num in range(3,9,2):\n",
    "                text += driver.find_element_by_css_selector(f'#news_body_id > div:nth-child({num})').text\n",
    "                text += '\\n\\n'\n",
    "        elif 'sedaily' in site: #서울경제\n",
    "            text += driver.find_element_by_css_selector('#articleBody').text\n",
    "        elif 'sednews' in site:\n",
    "            text += soup.find('div', class_='view_con').text.strip()\n",
    "        elif 'heraldcorp' in site: #헤럴드\n",
    "            text += soup.find('div', id='articleText').text.strip()\n",
    "        elif 'asiae' in site:\n",
    "            text += soup.find('div', id='txt_area').text.strip()\n",
    "        elif 'ajunews' in site:\n",
    "            text += soup.find('div', id='articleBody').text.strip()\n",
    "        elif 'news.mk' in site: #매일경제 mbn\n",
    "            text += soup.find('div', class_='art_txt').text.strip()\n",
    "        elif 'mbn.mk' in site: #매일경제\n",
    "            text += soup.find('div', id='newsViewArea').text.strip()\n",
    "        elif 'www.mk' in site:\n",
    "            text += soup.find('div', id='newsViewArea').text.strip()\n",
    "        elif 'fnnews' in site: #파이낸셜뉴스\n",
    "            text += soup.find('div', class_='news_text').text.strip()\n",
    "        elif 'hankyung' in site: #한국경제\n",
    "            text += soup.find('div', id='articletxt').text.strip()\n",
    "        elif 'segye' in site: #세계일보\n",
    "            text += soup.find('div', itemprop='articleBody').text.strip()\n",
    "        elif 'seoul.co.kr' in site: #서울신문\n",
    "            text +=soup.find('div', id='atic_txt1').text.strip()\n",
    "        elif 'hani' in site: #한겨레\n",
    "            text += soup.find('div', class_='text').text.strip()\n",
    "        elif 'news.mt' in site: #머니투데이\n",
    "            text += soup.find('div', id='textBody').text.strip()\n",
    "        elif 'news.moneytoday' in site:\n",
    "            text += soup.find('div', id='textBody').text.strip()\n",
    "        elif 'naeil.com/news_view' in site: #내일신문\n",
    "            text += soup.find('div', class_='articleArea').text.strip()\n",
    "        elif 'naeil.com/News/economy' in site: #내일신문\n",
    "            #text += driver.find_element_by_css_selector('#contents').text\n",
    "            pass\n",
    "        elif 'khan' in site: #경향비즈\n",
    "            driver.get(site)\n",
    "            text += driver.find_element_by_css_selector('#articleBody').text\n",
    "        ###elif 'joins' in site: #중앙일보\n",
    "            ###text += driver.find_element_by_css_selector('#article_body').text\n",
    "        elif 'kmib' in site: #국민일보\n",
    "            text += soup.find('div', id='articleBody').text.strip()\n",
    "        elif 'bizn.donga' in site: #동아일보\n",
    "            text += soup.find('div', id='ct').text.strip()\n",
    "        elif 'news.donga' in site:\n",
    "            text += soup.find('div', class_='article_txt').text.strip()\n",
    "        elif 'hankookilbo' in site:\n",
    "            text += soup.find('div', class_='article-story').text.strip()\n",
    "        elif 'munhwa' in site:\n",
    "            text += soup.find('div', id='NewsAdContent').text.strip()\n",
    "        else:\n",
    "            pass\n",
    "        news['link'].append(site)\n",
    "        news['content'].append(text)\n",
    "    except:\n",
    "        pass\n",
    "df = pd.DataFrame.from_dict(news)\n",
    "df.columns = ['link', 'content']\n",
    "df.to_csv('미래에셋대우_content.csv', index=False, encoding='utf-8-sig')"
   ]
  },
  {
   "cell_type": "code",
   "execution_count": null,
   "metadata": {
    "ExecuteTime": {
     "end_time": "2019-06-14T05:28:28.591710Z",
     "start_time": "2019-06-14T05:28:28.526710Z"
    },
    "scrolled": true
   },
   "outputs": [],
   "source": [
    "news={'link':[], 'content':[]} #한국경제 #아시아경제 #문화일보 #아주경제 불가\n",
    "for site in link2:\n",
    "    text=''\n",
    "    try:\n",
    "        time.sleep(1)\n",
    "        response = requests.get(site)\n",
    "        soup = BeautifulSoup(response.content, 'html.parser', from_encoding='utf-8')\n",
    "        if 'chosun' in site: #조선일보\n",
    "            driver.get(site)\n",
    "            for num in range(3,9,2):\n",
    "                text += driver.find_element_by_css_selector(f'#news_body_id > div:nth-child({num})').text\n",
    "                text += '\\n\\n'\n",
    "        elif 'sedaily' in site: #서울경제\n",
    "            text += driver.find_element_by_css_selector('#articleBody').text\n",
    "        elif 'sednews' in site:\n",
    "            text += soup.find('div', class_='view_con').text.strip()\n",
    "        elif 'heraldcorp' in site: #헤럴드\n",
    "            text += soup.find('div', id='articleText').text.strip()\n",
    "        elif 'asiae' in site:\n",
    "            text += soup.find('div', id='txt_area').text.strip()\n",
    "        elif 'ajunews' in site:\n",
    "            text += soup.find('div', id='articleBody').text.strip()\n",
    "        elif 'news.mk' in site: #매일경제 mbn\n",
    "            text += soup.find('div', class_='art_txt').text.strip()\n",
    "        elif 'mbn.mk' in site: #매일경제\n",
    "            text += soup.find('div', id='newsViewArea').text.strip()\n",
    "        elif 'www.mk' in site:\n",
    "            text += soup.find('div', id='newsViewArea').text.strip()\n",
    "        elif 'fnnews' in site: #파이낸셜뉴스\n",
    "            text += soup.find('div', class_='news_text').text.strip()\n",
    "        elif 'hankyung' in site: #한국경제\n",
    "            text += soup.find('div', id='articletxt').text.strip()\n",
    "        elif 'segye' in site: #세계일보\n",
    "            text += soup.find('div', itemprop='articleBody').text.strip()\n",
    "        elif 'seoul.co.kr' in site: #서울신문\n",
    "            text +=soup.find('div', id='atic_txt1').text.strip()\n",
    "        elif 'hani' in site: #한겨레\n",
    "            text += soup.find('div', class_='text').text.strip()\n",
    "        elif 'news.mt' in site: #머니투데이\n",
    "            text += soup.find('div', id='textBody').text.strip()\n",
    "        elif 'news.moneytoday' in site:\n",
    "            text += soup.find('div', id='textBody').text.strip()\n",
    "        elif 'naeil.com/news_view' in site: #내일신문\n",
    "            text += soup.find('div', class_='articleArea').text.strip()\n",
    "        elif 'naeil.com/News/economy' in site: #내일신문\n",
    "            #text += driver.find_element_by_css_selector('#contents').text\n",
    "            pass\n",
    "        elif 'khan' in site: #경향비즈\n",
    "            driver.get(site)\n",
    "            text += driver.find_element_by_css_selector('#articleBody').text\n",
    "        ###elif 'joins' in site: #중앙일보\n",
    "            ###text += driver.find_element_by_css_selector('#article_body').text\n",
    "        elif 'kmib' in site: #국민일보\n",
    "            text += soup.find('div', id='articleBody').text.strip()\n",
    "        elif 'bizn.donga' in site: #동아일보\n",
    "            text += soup.find('div', id='ct').text.strip()\n",
    "        elif 'news.donga' in site:\n",
    "            text += soup.find('div', class_='article_txt').text.strip()\n",
    "        elif 'hankookilbo' in site:\n",
    "            text += soup.find('div', class_='article-story').text.strip()\n",
    "        elif 'munhwa' in site:\n",
    "            text += soup.find('div', id='NewsAdContent').text.strip()\n",
    "        else:\n",
    "            pass\n",
    "        news['link'].append(site)\n",
    "        news['content'].append(text)\n",
    "    except:\n",
    "        pass\n",
    "df = pd.DataFrame.from_dict(news)\n",
    "df.columns = ['link', 'content']\n",
    "df.to_csv('KB증권_content.csv', index=False, encoding='utf-8-sig')"
   ]
  }
 ],
 "metadata": {
  "kernelspec": {
   "display_name": "Python 3",
   "language": "python",
   "name": "python3"
  },
  "language_info": {
   "codemirror_mode": {
    "name": "ipython",
    "version": 3
   },
   "file_extension": ".py",
   "mimetype": "text/x-python",
   "name": "python",
   "nbconvert_exporter": "python",
   "pygments_lexer": "ipython3",
   "version": "3.6.5"
  }
 },
 "nbformat": 4,
 "nbformat_minor": 2
}
